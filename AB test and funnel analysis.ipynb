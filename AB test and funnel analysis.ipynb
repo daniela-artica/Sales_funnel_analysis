{
 "cells": [
  {
   "cell_type": "markdown",
   "metadata": {},
   "source": [
    "# Análisis de embudo de ventas y prueba A/B"
   ]
  },
  {
   "cell_type": "markdown",
   "metadata": {},
   "source": [
    "En el presente proyecto se investigará el comportamiento del usuario de la aplicación de una empresa que vende productos alimenticios. Primero se estudiará el embudo de ventas de la aplicación para conocer cómo los usuarios(as) llegan a la etapa de compra. Posteriormente, se analizarán los resultados de un test A/A/B con la finalidad de ayudar a la toma de decisiones sobre la implementación de un cambio en las fuentes de toda la aplicación. \n"
   ]
  },
  {
   "cell_type": "markdown",
   "metadata": {},
   "source": [
    "## Importación de librerías y carga de datos"
   ]
  },
  {
   "cell_type": "code",
   "execution_count": 1,
   "metadata": {},
   "outputs": [],
   "source": [
    "# importación de librerías a usar en el proyecto\n",
    "import pandas as pd\n",
    "import numpy as np\n",
    "import math as mth\n",
    "import seaborn as sns\n",
    "import matplotlib.pyplot as plt\n",
    "import kaleido\n",
    "from scipy import stats as st\n",
    "from plotly import graph_objects as go"
   ]
  },
  {
   "cell_type": "code",
   "execution_count": 118,
   "metadata": {},
   "outputs": [
    {
     "name": "stdout",
     "output_type": "stream",
     "text": [
      "Nuevo directorio de trabajo: C:\\Users\\steph\\Documents\\Proyecto_embudo y prueba AB\n"
     ]
    }
   ],
   "source": [
    "import os\n",
    "\n",
    "# Cambio al directorio donde está el archivo CSV\n",
    "os.chdir(r'C:\\Users\\steph\\Documents\\Proyecto_embudo y prueba AB') \n",
    "\n",
    "print(\"Nuevo directorio de trabajo:\", os.getcwd())\n"
   ]
  },
  {
   "cell_type": "code",
   "execution_count": 119,
   "metadata": {},
   "outputs": [
    {
     "data": {
      "text/html": [
       "<div>\n",
       "<style scoped>\n",
       "    .dataframe tbody tr th:only-of-type {\n",
       "        vertical-align: middle;\n",
       "    }\n",
       "\n",
       "    .dataframe tbody tr th {\n",
       "        vertical-align: top;\n",
       "    }\n",
       "\n",
       "    .dataframe thead th {\n",
       "        text-align: right;\n",
       "    }\n",
       "</style>\n",
       "<table border=\"1\" class=\"dataframe\">\n",
       "  <thead>\n",
       "    <tr style=\"text-align: right;\">\n",
       "      <th></th>\n",
       "      <th>EventName</th>\n",
       "      <th>DeviceIDHash</th>\n",
       "      <th>EventTimestamp</th>\n",
       "      <th>ExpId</th>\n",
       "    </tr>\n",
       "  </thead>\n",
       "  <tbody>\n",
       "    <tr>\n",
       "      <th>0</th>\n",
       "      <td>MainScreenAppear</td>\n",
       "      <td>4575588528974610257</td>\n",
       "      <td>1564029816</td>\n",
       "      <td>246</td>\n",
       "    </tr>\n",
       "    <tr>\n",
       "      <th>1</th>\n",
       "      <td>MainScreenAppear</td>\n",
       "      <td>7416695313311560658</td>\n",
       "      <td>1564053102</td>\n",
       "      <td>246</td>\n",
       "    </tr>\n",
       "    <tr>\n",
       "      <th>2</th>\n",
       "      <td>PaymentScreenSuccessful</td>\n",
       "      <td>3518123091307005509</td>\n",
       "      <td>1564054127</td>\n",
       "      <td>248</td>\n",
       "    </tr>\n",
       "    <tr>\n",
       "      <th>3</th>\n",
       "      <td>CartScreenAppear</td>\n",
       "      <td>3518123091307005509</td>\n",
       "      <td>1564054127</td>\n",
       "      <td>248</td>\n",
       "    </tr>\n",
       "    <tr>\n",
       "      <th>4</th>\n",
       "      <td>PaymentScreenSuccessful</td>\n",
       "      <td>6217807653094995999</td>\n",
       "      <td>1564055322</td>\n",
       "      <td>248</td>\n",
       "    </tr>\n",
       "  </tbody>\n",
       "</table>\n",
       "</div>"
      ],
      "text/plain": [
       "                 EventName         DeviceIDHash  EventTimestamp  ExpId\n",
       "0         MainScreenAppear  4575588528974610257      1564029816    246\n",
       "1         MainScreenAppear  7416695313311560658      1564053102    246\n",
       "2  PaymentScreenSuccessful  3518123091307005509      1564054127    248\n",
       "3         CartScreenAppear  3518123091307005509      1564054127    248\n",
       "4  PaymentScreenSuccessful  6217807653094995999      1564055322    248"
      ]
     },
     "execution_count": 119,
     "metadata": {},
     "output_type": "execute_result"
    }
   ],
   "source": [
    "#creación del dataframe\n",
    "df = pd.read_csv('logs_exp_us.csv', sep='\\t')\n",
    "df.head()"
   ]
  },
  {
   "cell_type": "markdown",
   "metadata": {},
   "source": [
    "## Preprocesamiento de datos"
   ]
  },
  {
   "cell_type": "code",
   "execution_count": 120,
   "metadata": {},
   "outputs": [
    {
     "name": "stdout",
     "output_type": "stream",
     "text": [
      "<class 'pandas.core.frame.DataFrame'>\n",
      "RangeIndex: 244126 entries, 0 to 244125\n",
      "Data columns (total 4 columns):\n",
      " #   Column          Non-Null Count   Dtype \n",
      "---  ------          --------------   ----- \n",
      " 0   EventName       244126 non-null  object\n",
      " 1   DeviceIDHash    244126 non-null  int64 \n",
      " 2   EventTimestamp  244126 non-null  int64 \n",
      " 3   ExpId           244126 non-null  int64 \n",
      "dtypes: int64(3), object(1)\n",
      "memory usage: 7.5+ MB\n"
     ]
    }
   ],
   "source": [
    "df.info()"
   ]
  },
  {
   "cell_type": "markdown",
   "metadata": {},
   "source": [
    "No existen datos ausentes"
   ]
  },
  {
   "cell_type": "code",
   "execution_count": 121,
   "metadata": {},
   "outputs": [
    {
     "name": "stdout",
     "output_type": "stream",
     "text": [
      "413\n"
     ]
    }
   ],
   "source": [
    "# búsqueda de filas completamente duplicadas\n",
    "print(df.duplicated().sum())"
   ]
  },
  {
   "cell_type": "code",
   "execution_count": 122,
   "metadata": {},
   "outputs": [
    {
     "name": "stdout",
     "output_type": "stream",
     "text": [
      "                      EventName         DeviceIDHash  EventTimestamp  ExpId\n",
      "452            MainScreenAppear  5613408041324010552      1564474784    248\n",
      "453            MainScreenAppear  5613408041324010552      1564474784    248\n",
      "2348           CartScreenAppear  1694940645335807244      1564609899    248\n",
      "2350           CartScreenAppear  1694940645335807244      1564609899    248\n",
      "3572           MainScreenAppear   434103746454591587      1564628377    248\n",
      "...                         ...                  ...             ...    ...\n",
      "242359  PaymentScreenSuccessful  2382591782303281935      1565206049    246\n",
      "242360  PaymentScreenSuccessful  2382591782303281935      1565206049    246\n",
      "242362         CartScreenAppear  2382591782303281935      1565206049    246\n",
      "242634         MainScreenAppear  4097782667445790512      1565206618    246\n",
      "242635         MainScreenAppear  4097782667445790512      1565206618    246\n",
      "\n",
      "[768 rows x 4 columns]\n"
     ]
    }
   ],
   "source": [
    "duplicados = df[df.duplicated(keep=False)]\n",
    "print(duplicados)"
   ]
  },
  {
   "cell_type": "code",
   "execution_count": 123,
   "metadata": {},
   "outputs": [
    {
     "name": "stdout",
     "output_type": "stream",
     "text": [
      "<class 'pandas.core.frame.DataFrame'>\n",
      "RangeIndex: 243713 entries, 0 to 243712\n",
      "Data columns (total 4 columns):\n",
      " #   Column          Non-Null Count   Dtype \n",
      "---  ------          --------------   ----- \n",
      " 0   EventName       243713 non-null  object\n",
      " 1   DeviceIDHash    243713 non-null  int64 \n",
      " 2   EventTimestamp  243713 non-null  int64 \n",
      " 3   ExpId           243713 non-null  int64 \n",
      "dtypes: int64(3), object(1)\n",
      "memory usage: 7.4+ MB\n"
     ]
    },
    {
     "data": {
      "text/html": [
       "<div>\n",
       "<style scoped>\n",
       "    .dataframe tbody tr th:only-of-type {\n",
       "        vertical-align: middle;\n",
       "    }\n",
       "\n",
       "    .dataframe tbody tr th {\n",
       "        vertical-align: top;\n",
       "    }\n",
       "\n",
       "    .dataframe thead th {\n",
       "        text-align: right;\n",
       "    }\n",
       "</style>\n",
       "<table border=\"1\" class=\"dataframe\">\n",
       "  <thead>\n",
       "    <tr style=\"text-align: right;\">\n",
       "      <th></th>\n",
       "      <th>EventName</th>\n",
       "      <th>DeviceIDHash</th>\n",
       "      <th>EventTimestamp</th>\n",
       "      <th>ExpId</th>\n",
       "    </tr>\n",
       "  </thead>\n",
       "  <tbody>\n",
       "    <tr>\n",
       "      <th>0</th>\n",
       "      <td>MainScreenAppear</td>\n",
       "      <td>4575588528974610257</td>\n",
       "      <td>1564029816</td>\n",
       "      <td>246</td>\n",
       "    </tr>\n",
       "    <tr>\n",
       "      <th>1</th>\n",
       "      <td>MainScreenAppear</td>\n",
       "      <td>7416695313311560658</td>\n",
       "      <td>1564053102</td>\n",
       "      <td>246</td>\n",
       "    </tr>\n",
       "    <tr>\n",
       "      <th>2</th>\n",
       "      <td>PaymentScreenSuccessful</td>\n",
       "      <td>3518123091307005509</td>\n",
       "      <td>1564054127</td>\n",
       "      <td>248</td>\n",
       "    </tr>\n",
       "    <tr>\n",
       "      <th>3</th>\n",
       "      <td>CartScreenAppear</td>\n",
       "      <td>3518123091307005509</td>\n",
       "      <td>1564054127</td>\n",
       "      <td>248</td>\n",
       "    </tr>\n",
       "    <tr>\n",
       "      <th>4</th>\n",
       "      <td>PaymentScreenSuccessful</td>\n",
       "      <td>6217807653094995999</td>\n",
       "      <td>1564055322</td>\n",
       "      <td>248</td>\n",
       "    </tr>\n",
       "    <tr>\n",
       "      <th>...</th>\n",
       "      <td>...</td>\n",
       "      <td>...</td>\n",
       "      <td>...</td>\n",
       "      <td>...</td>\n",
       "    </tr>\n",
       "    <tr>\n",
       "      <th>243708</th>\n",
       "      <td>MainScreenAppear</td>\n",
       "      <td>4599628364049201812</td>\n",
       "      <td>1565212345</td>\n",
       "      <td>247</td>\n",
       "    </tr>\n",
       "    <tr>\n",
       "      <th>243709</th>\n",
       "      <td>MainScreenAppear</td>\n",
       "      <td>5849806612437486590</td>\n",
       "      <td>1565212439</td>\n",
       "      <td>246</td>\n",
       "    </tr>\n",
       "    <tr>\n",
       "      <th>243710</th>\n",
       "      <td>MainScreenAppear</td>\n",
       "      <td>5746969938801999050</td>\n",
       "      <td>1565212483</td>\n",
       "      <td>246</td>\n",
       "    </tr>\n",
       "    <tr>\n",
       "      <th>243711</th>\n",
       "      <td>MainScreenAppear</td>\n",
       "      <td>5746969938801999050</td>\n",
       "      <td>1565212498</td>\n",
       "      <td>246</td>\n",
       "    </tr>\n",
       "    <tr>\n",
       "      <th>243712</th>\n",
       "      <td>OffersScreenAppear</td>\n",
       "      <td>5746969938801999050</td>\n",
       "      <td>1565212517</td>\n",
       "      <td>246</td>\n",
       "    </tr>\n",
       "  </tbody>\n",
       "</table>\n",
       "<p>243713 rows × 4 columns</p>\n",
       "</div>"
      ],
      "text/plain": [
       "                      EventName         DeviceIDHash  EventTimestamp  ExpId\n",
       "0              MainScreenAppear  4575588528974610257      1564029816    246\n",
       "1              MainScreenAppear  7416695313311560658      1564053102    246\n",
       "2       PaymentScreenSuccessful  3518123091307005509      1564054127    248\n",
       "3              CartScreenAppear  3518123091307005509      1564054127    248\n",
       "4       PaymentScreenSuccessful  6217807653094995999      1564055322    248\n",
       "...                         ...                  ...             ...    ...\n",
       "243708         MainScreenAppear  4599628364049201812      1565212345    247\n",
       "243709         MainScreenAppear  5849806612437486590      1565212439    246\n",
       "243710         MainScreenAppear  5746969938801999050      1565212483    246\n",
       "243711         MainScreenAppear  5746969938801999050      1565212498    246\n",
       "243712       OffersScreenAppear  5746969938801999050      1565212517    246\n",
       "\n",
       "[243713 rows x 4 columns]"
      ]
     },
     "execution_count": 123,
     "metadata": {},
     "output_type": "execute_result"
    }
   ],
   "source": [
    "# se eliminarán las filas duplicadas \n",
    "df = df.drop_duplicates(keep='first').reset_index(drop=True)\n",
    "df.info()\n",
    "df"
   ]
  },
  {
   "cell_type": "code",
   "execution_count": 124,
   "metadata": {},
   "outputs": [
    {
     "data": {
      "text/html": [
       "<div>\n",
       "<style scoped>\n",
       "    .dataframe tbody tr th:only-of-type {\n",
       "        vertical-align: middle;\n",
       "    }\n",
       "\n",
       "    .dataframe tbody tr th {\n",
       "        vertical-align: top;\n",
       "    }\n",
       "\n",
       "    .dataframe thead th {\n",
       "        text-align: right;\n",
       "    }\n",
       "</style>\n",
       "<table border=\"1\" class=\"dataframe\">\n",
       "  <thead>\n",
       "    <tr style=\"text-align: right;\">\n",
       "      <th></th>\n",
       "      <th>event_name</th>\n",
       "      <th>user_id</th>\n",
       "      <th>event_fulldate</th>\n",
       "      <th>exp_group</th>\n",
       "    </tr>\n",
       "  </thead>\n",
       "  <tbody>\n",
       "    <tr>\n",
       "      <th>0</th>\n",
       "      <td>MainScreenAppear</td>\n",
       "      <td>4575588528974610257</td>\n",
       "      <td>1564029816</td>\n",
       "      <td>246</td>\n",
       "    </tr>\n",
       "    <tr>\n",
       "      <th>1</th>\n",
       "      <td>MainScreenAppear</td>\n",
       "      <td>7416695313311560658</td>\n",
       "      <td>1564053102</td>\n",
       "      <td>246</td>\n",
       "    </tr>\n",
       "    <tr>\n",
       "      <th>2</th>\n",
       "      <td>PaymentScreenSuccessful</td>\n",
       "      <td>3518123091307005509</td>\n",
       "      <td>1564054127</td>\n",
       "      <td>248</td>\n",
       "    </tr>\n",
       "    <tr>\n",
       "      <th>3</th>\n",
       "      <td>CartScreenAppear</td>\n",
       "      <td>3518123091307005509</td>\n",
       "      <td>1564054127</td>\n",
       "      <td>248</td>\n",
       "    </tr>\n",
       "    <tr>\n",
       "      <th>4</th>\n",
       "      <td>PaymentScreenSuccessful</td>\n",
       "      <td>6217807653094995999</td>\n",
       "      <td>1564055322</td>\n",
       "      <td>248</td>\n",
       "    </tr>\n",
       "  </tbody>\n",
       "</table>\n",
       "</div>"
      ],
      "text/plain": [
       "                event_name              user_id  event_fulldate  exp_group\n",
       "0         MainScreenAppear  4575588528974610257      1564029816        246\n",
       "1         MainScreenAppear  7416695313311560658      1564053102        246\n",
       "2  PaymentScreenSuccessful  3518123091307005509      1564054127        248\n",
       "3         CartScreenAppear  3518123091307005509      1564054127        248\n",
       "4  PaymentScreenSuccessful  6217807653094995999      1564055322        248"
      ]
     },
     "execution_count": 124,
     "metadata": {},
     "output_type": "execute_result"
    }
   ],
   "source": [
    "# conversión del nombre de las columnas a formato snake_case\n",
    "df.columns=['event_name','user_id','event_fulldate','exp_group']\n",
    "df.head()"
   ]
  },
  {
   "cell_type": "code",
   "execution_count": 125,
   "metadata": {},
   "outputs": [
    {
     "name": "stdout",
     "output_type": "stream",
     "text": [
      "<class 'pandas.core.frame.DataFrame'>\n",
      "RangeIndex: 243713 entries, 0 to 243712\n",
      "Data columns (total 4 columns):\n",
      " #   Column          Non-Null Count   Dtype         \n",
      "---  ------          --------------   -----         \n",
      " 0   event_name      243713 non-null  object        \n",
      " 1   user_id         243713 non-null  object        \n",
      " 2   event_fulldate  243713 non-null  datetime64[ns]\n",
      " 3   exp_group       243713 non-null  object        \n",
      "dtypes: datetime64[ns](1), object(3)\n",
      "memory usage: 7.4+ MB\n"
     ]
    },
    {
     "data": {
      "text/html": [
       "<div>\n",
       "<style scoped>\n",
       "    .dataframe tbody tr th:only-of-type {\n",
       "        vertical-align: middle;\n",
       "    }\n",
       "\n",
       "    .dataframe tbody tr th {\n",
       "        vertical-align: top;\n",
       "    }\n",
       "\n",
       "    .dataframe thead th {\n",
       "        text-align: right;\n",
       "    }\n",
       "</style>\n",
       "<table border=\"1\" class=\"dataframe\">\n",
       "  <thead>\n",
       "    <tr style=\"text-align: right;\">\n",
       "      <th></th>\n",
       "      <th>event_name</th>\n",
       "      <th>user_id</th>\n",
       "      <th>event_fulldate</th>\n",
       "      <th>exp_group</th>\n",
       "    </tr>\n",
       "  </thead>\n",
       "  <tbody>\n",
       "    <tr>\n",
       "      <th>0</th>\n",
       "      <td>MainScreenAppear</td>\n",
       "      <td>4575588528974610257</td>\n",
       "      <td>2019-07-25 04:43:36</td>\n",
       "      <td>246</td>\n",
       "    </tr>\n",
       "    <tr>\n",
       "      <th>1</th>\n",
       "      <td>MainScreenAppear</td>\n",
       "      <td>7416695313311560658</td>\n",
       "      <td>2019-07-25 11:11:42</td>\n",
       "      <td>246</td>\n",
       "    </tr>\n",
       "    <tr>\n",
       "      <th>2</th>\n",
       "      <td>PaymentScreenSuccessful</td>\n",
       "      <td>3518123091307005509</td>\n",
       "      <td>2019-07-25 11:28:47</td>\n",
       "      <td>248</td>\n",
       "    </tr>\n",
       "    <tr>\n",
       "      <th>3</th>\n",
       "      <td>CartScreenAppear</td>\n",
       "      <td>3518123091307005509</td>\n",
       "      <td>2019-07-25 11:28:47</td>\n",
       "      <td>248</td>\n",
       "    </tr>\n",
       "    <tr>\n",
       "      <th>4</th>\n",
       "      <td>PaymentScreenSuccessful</td>\n",
       "      <td>6217807653094995999</td>\n",
       "      <td>2019-07-25 11:48:42</td>\n",
       "      <td>248</td>\n",
       "    </tr>\n",
       "  </tbody>\n",
       "</table>\n",
       "</div>"
      ],
      "text/plain": [
       "                event_name              user_id      event_fulldate exp_group\n",
       "0         MainScreenAppear  4575588528974610257 2019-07-25 04:43:36       246\n",
       "1         MainScreenAppear  7416695313311560658 2019-07-25 11:11:42       246\n",
       "2  PaymentScreenSuccessful  3518123091307005509 2019-07-25 11:28:47       248\n",
       "3         CartScreenAppear  3518123091307005509 2019-07-25 11:28:47       248\n",
       "4  PaymentScreenSuccessful  6217807653094995999 2019-07-25 11:48:42       248"
      ]
     },
     "execution_count": 125,
     "metadata": {},
     "output_type": "execute_result"
    }
   ],
   "source": [
    "# conversión de columnas al tipo de datos correcto para cada una\n",
    "df['user_id']=df['user_id'].astype(str)\n",
    "df['event_fulldate']=df['event_fulldate'].apply(lambda x: pd.to_datetime(x, unit = 's'))\n",
    "df['exp_group'] = df['exp_group'].astype(str)\n",
    "df.info()\n",
    "df.head()"
   ]
  },
  {
   "cell_type": "code",
   "execution_count": 126,
   "metadata": {
    "scrolled": true
   },
   "outputs": [
    {
     "data": {
      "text/html": [
       "<div>\n",
       "<style scoped>\n",
       "    .dataframe tbody tr th:only-of-type {\n",
       "        vertical-align: middle;\n",
       "    }\n",
       "\n",
       "    .dataframe tbody tr th {\n",
       "        vertical-align: top;\n",
       "    }\n",
       "\n",
       "    .dataframe thead th {\n",
       "        text-align: right;\n",
       "    }\n",
       "</style>\n",
       "<table border=\"1\" class=\"dataframe\">\n",
       "  <thead>\n",
       "    <tr style=\"text-align: right;\">\n",
       "      <th></th>\n",
       "      <th>event_name</th>\n",
       "      <th>user_id</th>\n",
       "      <th>event_fulldate</th>\n",
       "      <th>exp_group</th>\n",
       "      <th>date</th>\n",
       "      <th>hour</th>\n",
       "    </tr>\n",
       "  </thead>\n",
       "  <tbody>\n",
       "    <tr>\n",
       "      <th>0</th>\n",
       "      <td>MainScreenAppear</td>\n",
       "      <td>4575588528974610257</td>\n",
       "      <td>2019-07-25 04:43:36</td>\n",
       "      <td>246</td>\n",
       "      <td>2019-07-25</td>\n",
       "      <td>4</td>\n",
       "    </tr>\n",
       "    <tr>\n",
       "      <th>1</th>\n",
       "      <td>MainScreenAppear</td>\n",
       "      <td>7416695313311560658</td>\n",
       "      <td>2019-07-25 11:11:42</td>\n",
       "      <td>246</td>\n",
       "      <td>2019-07-25</td>\n",
       "      <td>11</td>\n",
       "    </tr>\n",
       "    <tr>\n",
       "      <th>2</th>\n",
       "      <td>PaymentScreenSuccessful</td>\n",
       "      <td>3518123091307005509</td>\n",
       "      <td>2019-07-25 11:28:47</td>\n",
       "      <td>248</td>\n",
       "      <td>2019-07-25</td>\n",
       "      <td>11</td>\n",
       "    </tr>\n",
       "    <tr>\n",
       "      <th>3</th>\n",
       "      <td>CartScreenAppear</td>\n",
       "      <td>3518123091307005509</td>\n",
       "      <td>2019-07-25 11:28:47</td>\n",
       "      <td>248</td>\n",
       "      <td>2019-07-25</td>\n",
       "      <td>11</td>\n",
       "    </tr>\n",
       "    <tr>\n",
       "      <th>4</th>\n",
       "      <td>PaymentScreenSuccessful</td>\n",
       "      <td>6217807653094995999</td>\n",
       "      <td>2019-07-25 11:48:42</td>\n",
       "      <td>248</td>\n",
       "      <td>2019-07-25</td>\n",
       "      <td>11</td>\n",
       "    </tr>\n",
       "  </tbody>\n",
       "</table>\n",
       "</div>"
      ],
      "text/plain": [
       "                event_name              user_id      event_fulldate exp_group  \\\n",
       "0         MainScreenAppear  4575588528974610257 2019-07-25 04:43:36       246   \n",
       "1         MainScreenAppear  7416695313311560658 2019-07-25 11:11:42       246   \n",
       "2  PaymentScreenSuccessful  3518123091307005509 2019-07-25 11:28:47       248   \n",
       "3         CartScreenAppear  3518123091307005509 2019-07-25 11:28:47       248   \n",
       "4  PaymentScreenSuccessful  6217807653094995999 2019-07-25 11:48:42       248   \n",
       "\n",
       "         date  hour  \n",
       "0  2019-07-25     4  \n",
       "1  2019-07-25    11  \n",
       "2  2019-07-25    11  \n",
       "3  2019-07-25    11  \n",
       "4  2019-07-25    11  "
      ]
     },
     "execution_count": 126,
     "metadata": {},
     "output_type": "execute_result"
    }
   ],
   "source": [
    "# creación de columnas de fecha y hora\n",
    "df['date'] = df['event_fulldate'].dt.date\n",
    "df['hour'] = df['event_fulldate'].dt.hour\n",
    "df.head()"
   ]
  },
  {
   "cell_type": "markdown",
   "metadata": {},
   "source": [
    "## Análisis general de los datos"
   ]
  },
  {
   "cell_type": "markdown",
   "metadata": {},
   "source": [
    "### Exploración de registros"
   ]
  },
  {
   "cell_type": "code",
   "execution_count": 127,
   "metadata": {},
   "outputs": [
    {
     "name": "stdout",
     "output_type": "stream",
     "text": [
      "5\n"
     ]
    },
    {
     "data": {
      "text/plain": [
       "array(['MainScreenAppear', 'PaymentScreenSuccessful', 'CartScreenAppear',\n",
       "       'OffersScreenAppear', 'Tutorial'], dtype=object)"
      ]
     },
     "execution_count": 127,
     "metadata": {},
     "output_type": "execute_result"
    }
   ],
   "source": [
    "print(df['event_name'].nunique())\n",
    "df['event_name'].unique()"
   ]
  },
  {
   "cell_type": "markdown",
   "metadata": {},
   "source": [
    "Existen 5 eventos diferentes en los registros. El orden en el que suceden parecer ser el siguiente:\n",
    "1. MainScreenAppear\n",
    "2. OffersScreenAppear\n",
    "3. CartScreenAppear\n",
    "4. PaymentScreenSuccesful\n",
    "\n",
    "El evento denominado Tutorial no parece estar relacionado al embudo porque podría ser una paso opcional para los usuarios"
   ]
  },
  {
   "cell_type": "code",
   "execution_count": 128,
   "metadata": {},
   "outputs": [
    {
     "data": {
      "text/plain": [
       "7551"
      ]
     },
     "execution_count": 128,
     "metadata": {},
     "output_type": "execute_result"
    }
   ],
   "source": [
    "df['user_id'].nunique()"
   ]
  },
  {
   "cell_type": "markdown",
   "metadata": {},
   "source": [
    "Existen 7551 usuarios(as) únicos(as)"
   ]
  },
  {
   "cell_type": "markdown",
   "metadata": {},
   "source": [
    "### Promedio de eventos por usuario"
   ]
  },
  {
   "cell_type": "code",
   "execution_count": 129,
   "metadata": {},
   "outputs": [
    {
     "name": "stdout",
     "output_type": "stream",
     "text": [
      "user_id\n",
      "1000608915523616548    2\n",
      "100724994572555335     1\n",
      "1008242126838007188    4\n",
      "1009503747199967885    4\n",
      "1009745980451513098    4\n",
      "                      ..\n",
      "992321565231279868     1\n",
      "993193057518949787     1\n",
      "995065401066914588     2\n",
      "997141886226099626     1\n",
      "997959739029313547     1\n",
      "Name: event_name, Length: 7551, dtype: int64\n"
     ]
    }
   ],
   "source": [
    "events_by_user= df.groupby('user_id')['event_name'].nunique()\n",
    "print(events_by_user)"
   ]
  },
  {
   "cell_type": "code",
   "execution_count": 130,
   "metadata": {},
   "outputs": [
    {
     "name": "stdout",
     "output_type": "stream",
     "text": [
      "2.6744802012978415\n"
     ]
    }
   ],
   "source": [
    "print(events_by_user.mean())"
   ]
  },
  {
   "cell_type": "markdown",
   "metadata": {},
   "source": [
    "En promedio, cada usuario(a) pasa por alrededor de 3 eventos diferentes."
   ]
  },
  {
   "cell_type": "markdown",
   "metadata": {},
   "source": [
    "### Exploración de la distribución de datos a lo largo del tiempo (por fecha y hora)"
   ]
  },
  {
   "cell_type": "code",
   "execution_count": 131,
   "metadata": {},
   "outputs": [
    {
     "name": "stdout",
     "output_type": "stream",
     "text": [
      "2019-07-25\n",
      "2019-08-07\n"
     ]
    }
   ],
   "source": [
    "print(df['date'].min())\n",
    "print(df['date'].max())"
   ]
  },
  {
   "cell_type": "code",
   "execution_count": 132,
   "metadata": {},
   "outputs": [
    {
     "data": {
      "image/png": "[encoded data removed]",
      "text/plain": [
       "<Figure size 1000x500 with 1 Axes>"
      ]
     },
     "metadata": {},
     "output_type": "display_data"
    }
   ],
   "source": [
    "plt.figure(figsize=(10, 5))\n",
    "sns.histplot(df['date'], bins=5, kde=True)\n",
    "plt.xlabel('Fecha')\n",
    "plt.ylabel('Frecuencia de eventos')\n",
    "plt.title('Distribución de eventos por fecha')\n",
    "plt.xticks(rotation=45)\n",
    "plt.show()"
   ]
  },
  {
   "cell_type": "markdown",
   "metadata": {},
   "source": [
    "Se puede ver que la frecuencia de eventos varía de manera notable, con una gran concentración de eventos en las fechas cercanas al 31 de julio y el 1 de agosto. Esto podría indicar que a partir de esos días se dieron eventos masivos o actividades con una alta cantidad de interacciones. "
   ]
  },
  {
   "cell_type": "code",
   "execution_count": 133,
   "metadata": {},
   "outputs": [
    {
     "data": {
      "image/png": "[encoded data removed]",
      "text/plain": [
       "<Figure size 1000x500 with 1 Axes>"
      ]
     },
     "metadata": {},
     "output_type": "display_data"
    }
   ],
   "source": [
    "plt.figure(figsize=(10, 5))\n",
    "sns.histplot(df['hour'], bins=10, kde=True)\n",
    "plt.xlabel('Fecha')\n",
    "plt.ylabel('Frecuencia de eventos')\n",
    "plt.title('Distribución de eventos por hora')\n",
    "plt.xticks(rotation=45)\n",
    "plt.show()"
   ]
  },
  {
   "cell_type": "markdown",
   "metadata": {},
   "source": [
    "En general, la distribución sugiere que la mayor parte de los eventos ocurren durante ciertas horas del día, con una disminución gradual a medida que avanza la noche. La densidad estimada (línea azul) muestra que los eventos tienden a ser más frecuentes entre las 9:00 y 16:00 horas. Asimismo, se muestra un notable pico alrededor de las 15:00 horas (3:00 PM), lo que sugiere que en ese momento se produce la mayor cantidad de eventos. También se observa una distribución más baja en las primeras horas de la mañana (por ejemplo, entre las 0:00 y 6:00 horas), lo que indica que los eventos son menos frecuentes durante ese periodo."
   ]
  },
  {
   "cell_type": "code",
   "execution_count": 134,
   "metadata": {},
   "outputs": [],
   "source": [
    "df['date']= pd.to_datetime(df['date'])"
   ]
  },
  {
   "cell_type": "code",
   "execution_count": 135,
   "metadata": {},
   "outputs": [
    {
     "name": "stdout",
     "output_type": "stream",
     "text": [
      "\n",
      "Fecha mínima: 2019-08-01 00:00:00\n",
      "Fecha máxima: 2019-08-07 00:00:00\n",
      "\n"
     ]
    }
   ],
   "source": [
    "# se filtrarán los datos previos al 31 de julio de 2019\n",
    "df_filtered =df[df['date']>pd.to_datetime('2019-07-31')]\n",
    "print(f\"\"\"\n",
    "Fecha mínima: {df_filtered['date'].min()}\n",
    "Fecha máxima: {df_filtered['date'].max()}\n",
    "\"\"\")"
   ]
  },
  {
   "cell_type": "markdown",
   "metadata": {},
   "source": [
    "###  Se comprobará la integridad de los datos después de filtrar los registros anteriores al 1 de agosto "
   ]
  },
  {
   "cell_type": "code",
   "execution_count": 136,
   "metadata": {},
   "outputs": [
    {
     "data": {
      "text/plain": [
       "0.9977486425638988"
      ]
     },
     "execution_count": 136,
     "metadata": {},
     "output_type": "execute_result"
    }
   ],
   "source": [
    "df_filtered['user_id'].nunique()/df['user_id'].nunique()"
   ]
  },
  {
   "cell_type": "code",
   "execution_count": 137,
   "metadata": {},
   "outputs": [
    {
     "data": {
      "text/plain": [
       "0.988404393692581"
      ]
     },
     "execution_count": 137,
     "metadata": {},
     "output_type": "execute_result"
    }
   ],
   "source": [
    "df_filtered['event_name'].count()/df['event_name'].count()"
   ]
  },
  {
   "cell_type": "markdown",
   "metadata": {},
   "source": [
    "Al eliminar los datos antiguos se conservan el 99,7% de los(as) usuarios(as) originales y el 98,8% de los eventos originales "
   ]
  },
  {
   "cell_type": "markdown",
   "metadata": {},
   "source": [
    "### Se comprobará la cantidad de registros para los tres grupos experimentales."
   ]
  },
  {
   "cell_type": "code",
   "execution_count": 138,
   "metadata": {},
   "outputs": [
    {
     "data": {
      "text/plain": [
       "exp_group\n",
       "246    2484\n",
       "247    2513\n",
       "248    2537\n",
       "Name: user_id, dtype: int64"
      ]
     },
     "execution_count": 138,
     "metadata": {},
     "output_type": "execute_result"
    }
   ],
   "source": [
    "df_filtered.groupby('exp_group')['user_id'].nunique()"
   ]
  },
  {
   "cell_type": "markdown",
   "metadata": {},
   "source": [
    "Se puede ver que tenemos un número de usuarios similar dentro de cada grupo experimental"
   ]
  },
  {
   "cell_type": "markdown",
   "metadata": {},
   "source": [
    "## Análisis del embudo de eventos"
   ]
  },
  {
   "cell_type": "markdown",
   "metadata": {},
   "source": [
    "### Frecuencia de suceso de eventos"
   ]
  },
  {
   "cell_type": "code",
   "execution_count": 139,
   "metadata": {},
   "outputs": [
    {
     "data": {
      "text/plain": [
       "event_name\n",
       "MainScreenAppear           117328\n",
       "OffersScreenAppear          46333\n",
       "CartScreenAppear            42303\n",
       "PaymentScreenSuccessful     33918\n",
       "Tutorial                     1005\n",
       "Name: user_id, dtype: int64"
      ]
     },
     "execution_count": 139,
     "metadata": {},
     "output_type": "execute_result"
    }
   ],
   "source": [
    "# frecuencia de suceso de eventos\n",
    "df_filtered.groupby('event_name')['user_id'].count().sort_values(ascending=False)"
   ]
  },
  {
   "cell_type": "code",
   "execution_count": 140,
   "metadata": {},
   "outputs": [
    {
     "data": {
      "text/plain": [
       "event_name\n",
       "MainScreenAppear           7419\n",
       "OffersScreenAppear         4593\n",
       "CartScreenAppear           3734\n",
       "PaymentScreenSuccessful    3539\n",
       "Tutorial                    840\n",
       "Name: user_id, dtype: int64"
      ]
     },
     "execution_count": 140,
     "metadata": {},
     "output_type": "execute_result"
    }
   ],
   "source": [
    "# conteo de usuarios únicos que pasaron por cada evento\n",
    "df_filtered.groupby(\"event_name\")['user_id'].nunique().sort_values(ascending = False)"
   ]
  },
  {
   "cell_type": "markdown",
   "metadata": {},
   "source": [
    "Se puede ver que los eventos ocurren en el siguiente orden: \n",
    "1. MainScreenAppear. \n",
    "2. OffersScreenAppear\n",
    "3. CartScreenAppear\n",
    "4. PaymentScreenSuccesful\n",
    "\n",
    "Sin embargo, el evento Tutorial no parece pertenecer a la secuencia de eventos, ya que no es tan frecuente como los demás, por lo que se puede asumir que es un paso opcional al interactuar con la página. Por ello, dicho paso se excluirá al momento de crear el embudo."
   ]
  },
  {
   "cell_type": "markdown",
   "metadata": {},
   "source": [
    "### Creación de embudo para análisis de las tasas de conversión y cancelación"
   ]
  },
  {
   "cell_type": "code",
   "execution_count": 141,
   "metadata": {},
   "outputs": [
    {
     "data": {
      "text/html": [
       "<div>\n",
       "<style scoped>\n",
       "    .dataframe tbody tr th:only-of-type {\n",
       "        vertical-align: middle;\n",
       "    }\n",
       "\n",
       "    .dataframe tbody tr th {\n",
       "        vertical-align: top;\n",
       "    }\n",
       "\n",
       "    .dataframe thead th {\n",
       "        text-align: right;\n",
       "    }\n",
       "</style>\n",
       "<table border=\"1\" class=\"dataframe\">\n",
       "  <thead>\n",
       "    <tr style=\"text-align: right;\">\n",
       "      <th></th>\n",
       "      <th>event_name</th>\n",
       "      <th>user_id</th>\n",
       "      <th>users_in_prev_step</th>\n",
       "      <th>conversion_rate</th>\n",
       "      <th>cancelation_rate</th>\n",
       "    </tr>\n",
       "  </thead>\n",
       "  <tbody>\n",
       "    <tr>\n",
       "      <th>0</th>\n",
       "      <td>MainScreenAppear</td>\n",
       "      <td>7419</td>\n",
       "      <td>NaN</td>\n",
       "      <td>NaN</td>\n",
       "      <td>NaN</td>\n",
       "    </tr>\n",
       "    <tr>\n",
       "      <th>1</th>\n",
       "      <td>OffersScreenAppear</td>\n",
       "      <td>4593</td>\n",
       "      <td>7419.0</td>\n",
       "      <td>0.619086</td>\n",
       "      <td>0.380914</td>\n",
       "    </tr>\n",
       "    <tr>\n",
       "      <th>2</th>\n",
       "      <td>CartScreenAppear</td>\n",
       "      <td>3734</td>\n",
       "      <td>4593.0</td>\n",
       "      <td>0.812976</td>\n",
       "      <td>0.187024</td>\n",
       "    </tr>\n",
       "    <tr>\n",
       "      <th>3</th>\n",
       "      <td>PaymentScreenSuccessful</td>\n",
       "      <td>3539</td>\n",
       "      <td>3734.0</td>\n",
       "      <td>0.947777</td>\n",
       "      <td>0.052223</td>\n",
       "    </tr>\n",
       "    <tr>\n",
       "      <th>4</th>\n",
       "      <td>Tutorial</td>\n",
       "      <td>840</td>\n",
       "      <td>3539.0</td>\n",
       "      <td>0.237355</td>\n",
       "      <td>0.762645</td>\n",
       "    </tr>\n",
       "  </tbody>\n",
       "</table>\n",
       "</div>"
      ],
      "text/plain": [
       "                event_name  user_id  users_in_prev_step  conversion_rate  \\\n",
       "0         MainScreenAppear     7419                 NaN              NaN   \n",
       "1       OffersScreenAppear     4593              7419.0         0.619086   \n",
       "2         CartScreenAppear     3734              4593.0         0.812976   \n",
       "3  PaymentScreenSuccessful     3539              3734.0         0.947777   \n",
       "4                 Tutorial      840              3539.0         0.237355   \n",
       "\n",
       "   cancelation_rate  \n",
       "0               NaN  \n",
       "1          0.380914  \n",
       "2          0.187024  \n",
       "3          0.052223  \n",
       "4          0.762645  "
      ]
     },
     "execution_count": 141,
     "metadata": {},
     "output_type": "execute_result"
    }
   ],
   "source": [
    "funnel = df_filtered.groupby(\"event_name\")['user_id'].nunique().sort_values(ascending = False).reset_index()\n",
    "funnel['users_in_prev_step'] = funnel['user_id'].shift(1)\n",
    "funnel['conversion_rate'] = funnel['user_id']/funnel['users_in_prev_step']\n",
    "funnel['cancelation_rate'] = 1 - funnel['conversion_rate'] \n",
    "funnel"
   ]
  },
  {
   "cell_type": "code",
   "execution_count": 2,
   "metadata": {},
   "outputs": [
    {
     "data": {
      "application/vnd.plotly.v1+json": {
       "config": {
        "plotlyServerURL": "https://plot.ly"
       },
       "data": [
        {
         "textinfo": "value+percent initial",
         "type": "funnel",
         "x": [
          7419,
          4593,
          3734,
          3539
         ],
         "y": [
          "MainScreenAppear",
          "OffersScreenAppear",
          "CartScreenAppear",
          "PaymentScreenSuccessful"
         ]
        }
       ],
       "layout": {
        "template": {
         "data": {
          "bar": [
           {
            "error_x": {
             "color": "#2a3f5f"
            },
            "error_y": {
             "color": "#2a3f5f"
            },
            "marker": {
             "line": {
              "color": "#E5ECF6",
              "width": 0.5
             },
             "pattern": {
              "fillmode": "overlay",
              "size": 10,
              "solidity": 0.2
             }
            },
            "type": "bar"
           }
          ],
          "barpolar": [
           {
            "marker": {
             "line": {
              "color": "#E5ECF6",
              "width": 0.5
             },
             "pattern": {
              "fillmode": "overlay",
              "size": 10,
              "solidity": 0.2
             }
            },
            "type": "barpolar"
           }
          ],
          "carpet": [
           {
            "aaxis": {
             "endlinecolor": "#2a3f5f",
             "gridcolor": "white",
             "linecolor": "white",
             "minorgridcolor": "white",
             "startlinecolor": "#2a3f5f"
            },
            "baxis": {
             "endlinecolor": "#2a3f5f",
             "gridcolor": "white",
             "linecolor": "white",
             "minorgridcolor": "white",
             "startlinecolor": "#2a3f5f"
            },
            "type": "carpet"
           }
          ],
          "choropleth": [
           {
            "colorbar": {
             "outlinewidth": 0,
             "ticks": ""
            },
            "type": "choropleth"
           }
          ],
          "contour": [
           {
            "colorbar": {
             "outlinewidth": 0,
             "ticks": ""
            },
            "colorscale": [
             [
              0,
              "#0d0887"
             ],
             [
              0.1111111111111111,
              "#46039f"
             ],
             [
              0.2222222222222222,
              "#7201a8"
             ],
             [
              0.3333333333333333,
              "#9c179e"
             ],
             [
              0.4444444444444444,
              "#bd3786"
             ],
             [
              0.5555555555555556,
              "#d8576b"
             ],
             [
              0.6666666666666666,
              "#ed7953"
             ],
             [
              0.7777777777777778,
              "#fb9f3a"
             ],
             [
              0.8888888888888888,
              "#fdca26"
             ],
             [
              1,
              "#f0f921"
             ]
            ],
            "type": "contour"
           }
          ],
          "contourcarpet": [
           {
            "colorbar": {
             "outlinewidth": 0,
             "ticks": ""
            },
            "type": "contourcarpet"
           }
          ],
          "heatmap": [
           {
            "colorbar": {
             "outlinewidth": 0,
             "ticks": ""
            },
            "colorscale": [
             [
              0,
              "#0d0887"
             ],
             [
              0.1111111111111111,
              "#46039f"
             ],
             [
              0.2222222222222222,
              "#7201a8"
             ],
             [
              0.3333333333333333,
              "#9c179e"
             ],
             [
              0.4444444444444444,
              "#bd3786"
             ],
             [
              0.5555555555555556,
              "#d8576b"
             ],
             [
              0.6666666666666666,
              "#ed7953"
             ],
             [
              0.7777777777777778,
              "#fb9f3a"
             ],
             [
              0.8888888888888888,
              "#fdca26"
             ],
             [
              1,
              "#f0f921"
             ]
            ],
            "type": "heatmap"
           }
          ],
          "heatmapgl": [
           {
            "colorbar": {
             "outlinewidth": 0,
             "ticks": ""
            },
            "colorscale": [
             [
              0,
              "#0d0887"
             ],
             [
              0.1111111111111111,
              "#46039f"
             ],
             [
              0.2222222222222222,
              "#7201a8"
             ],
             [
              0.3333333333333333,
              "#9c179e"
             ],
             [
              0.4444444444444444,
              "#bd3786"
             ],
             [
              0.5555555555555556,
              "#d8576b"
             ],
             [
              0.6666666666666666,
              "#ed7953"
             ],
             [
              0.7777777777777778,
              "#fb9f3a"
             ],
             [
              0.8888888888888888,
              "#fdca26"
             ],
             [
              1,
              "#f0f921"
             ]
            ],
            "type": "heatmapgl"
           }
          ],
          "histogram": [
           {
            "marker": {
             "pattern": {
              "fillmode": "overlay",
              "size": 10,
              "solidity": 0.2
             }
            },
            "type": "histogram"
           }
          ],
          "histogram2d": [
           {
            "colorbar": {
             "outlinewidth": 0,
             "ticks": ""
            },
            "colorscale": [
             [
              0,
              "#0d0887"
             ],
             [
              0.1111111111111111,
              "#46039f"
             ],
             [
              0.2222222222222222,
              "#7201a8"
             ],
             [
              0.3333333333333333,
              "#9c179e"
             ],
             [
              0.4444444444444444,
              "#bd3786"
             ],
             [
              0.5555555555555556,
              "#d8576b"
             ],
             [
              0.6666666666666666,
              "#ed7953"
             ],
             [
              0.7777777777777778,
              "#fb9f3a"
             ],
             [
              0.8888888888888888,
              "#fdca26"
             ],
             [
              1,
              "#f0f921"
             ]
            ],
            "type": "histogram2d"
           }
          ],
          "histogram2dcontour": [
           {
            "colorbar": {
             "outlinewidth": 0,
             "ticks": ""
            },
            "colorscale": [
             [
              0,
              "#0d0887"
             ],
             [
              0.1111111111111111,
              "#46039f"
             ],
             [
              0.2222222222222222,
              "#7201a8"
             ],
             [
              0.3333333333333333,
              "#9c179e"
             ],
             [
              0.4444444444444444,
              "#bd3786"
             ],
             [
              0.5555555555555556,
              "#d8576b"
             ],
             [
              0.6666666666666666,
              "#ed7953"
             ],
             [
              0.7777777777777778,
              "#fb9f3a"
             ],
             [
              0.8888888888888888,
              "#fdca26"
             ],
             [
              1,
              "#f0f921"
             ]
            ],
            "type": "histogram2dcontour"
           }
          ],
          "mesh3d": [
           {
            "colorbar": {
             "outlinewidth": 0,
             "ticks": ""
            },
            "type": "mesh3d"
           }
          ],
          "parcoords": [
           {
            "line": {
             "colorbar": {
              "outlinewidth": 0,
              "ticks": ""
             }
            },
            "type": "parcoords"
           }
          ],
          "pie": [
           {
            "automargin": true,
            "type": "pie"
           }
          ],
          "scatter": [
           {
            "fillpattern": {
             "fillmode": "overlay",
             "size": 10,
             "solidity": 0.2
            },
            "type": "scatter"
           }
          ],
          "scatter3d": [
           {
            "line": {
             "colorbar": {
              "outlinewidth": 0,
              "ticks": ""
             }
            },
            "marker": {
             "colorbar": {
              "outlinewidth": 0,
              "ticks": ""
             }
            },
            "type": "scatter3d"
           }
          ],
          "scattercarpet": [
           {
            "marker": {
             "colorbar": {
              "outlinewidth": 0,
              "ticks": ""
             }
            },
            "type": "scattercarpet"
           }
          ],
          "scattergeo": [
           {
            "marker": {
             "colorbar": {
              "outlinewidth": 0,
              "ticks": ""
             }
            },
            "type": "scattergeo"
           }
          ],
          "scattergl": [
           {
            "marker": {
             "colorbar": {
              "outlinewidth": 0,
              "ticks": ""
             }
            },
            "type": "scattergl"
           }
          ],
          "scattermapbox": [
           {
            "marker": {
             "colorbar": {
              "outlinewidth": 0,
              "ticks": ""
             }
            },
            "type": "scattermapbox"
           }
          ],
          "scatterpolar": [
           {
            "marker": {
             "colorbar": {
              "outlinewidth": 0,
              "ticks": ""
             }
            },
            "type": "scatterpolar"
           }
          ],
          "scatterpolargl": [
           {
            "marker": {
             "colorbar": {
              "outlinewidth": 0,
              "ticks": ""
             }
            },
            "type": "scatterpolargl"
           }
          ],
          "scatterternary": [
           {
            "marker": {
             "colorbar": {
              "outlinewidth": 0,
              "ticks": ""
             }
            },
            "type": "scatterternary"
           }
          ],
          "surface": [
           {
            "colorbar": {
             "outlinewidth": 0,
             "ticks": ""
            },
            "colorscale": [
             [
              0,
              "#0d0887"
             ],
             [
              0.1111111111111111,
              "#46039f"
             ],
             [
              0.2222222222222222,
              "#7201a8"
             ],
             [
              0.3333333333333333,
              "#9c179e"
             ],
             [
              0.4444444444444444,
              "#bd3786"
             ],
             [
              0.5555555555555556,
              "#d8576b"
             ],
             [
              0.6666666666666666,
              "#ed7953"
             ],
             [
              0.7777777777777778,
              "#fb9f3a"
             ],
             [
              0.8888888888888888,
              "#fdca26"
             ],
             [
              1,
              "#f0f921"
             ]
            ],
            "type": "surface"
           }
          ],
          "table": [
           {
            "cells": {
             "fill": {
              "color": "#EBF0F8"
             },
             "line": {
              "color": "white"
             }
            },
            "header": {
             "fill": {
              "color": "#C8D4E3"
             },
             "line": {
              "color": "white"
             }
            },
            "type": "table"
           }
          ]
         },
         "layout": {
          "annotationdefaults": {
           "arrowcolor": "#2a3f5f",
           "arrowhead": 0,
           "arrowwidth": 1
          },
          "autotypenumbers": "strict",
          "coloraxis": {
           "colorbar": {
            "outlinewidth": 0,
            "ticks": ""
           }
          },
          "colorscale": {
           "diverging": [
            [
             0,
             "#8e0152"
            ],
            [
             0.1,
             "#c51b7d"
            ],
            [
             0.2,
             "#de77ae"
            ],
            [
             0.3,
             "#f1b6da"
            ],
            [
             0.4,
             "#fde0ef"
            ],
            [
             0.5,
             "#f7f7f7"
            ],
            [
             0.6,
             "#e6f5d0"
            ],
            [
             0.7,
             "#b8e186"
            ],
            [
             0.8,
             "#7fbc41"
            ],
            [
             0.9,
             "#4d9221"
            ],
            [
             1,
             "#276419"
            ]
           ],
           "sequential": [
            [
             0,
             "#0d0887"
            ],
            [
             0.1111111111111111,
             "#46039f"
            ],
            [
             0.2222222222222222,
             "#7201a8"
            ],
            [
             0.3333333333333333,
             "#9c179e"
            ],
            [
             0.4444444444444444,
             "#bd3786"
            ],
            [
             0.5555555555555556,
             "#d8576b"
            ],
            [
             0.6666666666666666,
             "#ed7953"
            ],
            [
             0.7777777777777778,
             "#fb9f3a"
            ],
            [
             0.8888888888888888,
             "#fdca26"
            ],
            [
             1,
             "#f0f921"
            ]
           ],
           "sequentialminus": [
            [
             0,
             "#0d0887"
            ],
            [
             0.1111111111111111,
             "#46039f"
            ],
            [
             0.2222222222222222,
             "#7201a8"
            ],
            [
             0.3333333333333333,
             "#9c179e"
            ],
            [
             0.4444444444444444,
             "#bd3786"
            ],
            [
             0.5555555555555556,
             "#d8576b"
            ],
            [
             0.6666666666666666,
             "#ed7953"
            ],
            [
             0.7777777777777778,
             "#fb9f3a"
            ],
            [
             0.8888888888888888,
             "#fdca26"
            ],
            [
             1,
             "#f0f921"
            ]
           ]
          },
          "colorway": [
           "#636efa",
           "#EF553B",
           "#00cc96",
           "#ab63fa",
           "#FFA15A",
           "#19d3f3",
           "#FF6692",
           "#B6E880",
           "#FF97FF",
           "#FECB52"
          ],
          "font": {
           "color": "#2a3f5f"
          },
          "geo": {
           "bgcolor": "white",
           "lakecolor": "white",
           "landcolor": "#E5ECF6",
           "showlakes": true,
           "showland": true,
           "subunitcolor": "white"
          },
          "hoverlabel": {
           "align": "left"
          },
          "hovermode": "closest",
          "mapbox": {
           "style": "light"
          },
          "paper_bgcolor": "white",
          "plot_bgcolor": "#E5ECF6",
          "polar": {
           "angularaxis": {
            "gridcolor": "white",
            "linecolor": "white",
            "ticks": ""
           },
           "bgcolor": "#E5ECF6",
           "radialaxis": {
            "gridcolor": "white",
            "linecolor": "white",
            "ticks": ""
           }
          },
          "scene": {
           "xaxis": {
            "backgroundcolor": "#E5ECF6",
            "gridcolor": "white",
            "gridwidth": 2,
            "linecolor": "white",
            "showbackground": true,
            "ticks": "",
            "zerolinecolor": "white"
           },
           "yaxis": {
            "backgroundcolor": "#E5ECF6",
            "gridcolor": "white",
            "gridwidth": 2,
            "linecolor": "white",
            "showbackground": true,
            "ticks": "",
            "zerolinecolor": "white"
           },
           "zaxis": {
            "backgroundcolor": "#E5ECF6",
            "gridcolor": "white",
            "gridwidth": 2,
            "linecolor": "white",
            "showbackground": true,
            "ticks": "",
            "zerolinecolor": "white"
           }
          },
          "shapedefaults": {
           "line": {
            "color": "#2a3f5f"
           }
          },
          "ternary": {
           "aaxis": {
            "gridcolor": "white",
            "linecolor": "white",
            "ticks": ""
           },
           "baxis": {
            "gridcolor": "white",
            "linecolor": "white",
            "ticks": ""
           },
           "bgcolor": "#E5ECF6",
           "caxis": {
            "gridcolor": "white",
            "linecolor": "white",
            "ticks": ""
           }
          },
          "title": {
           "x": 0.05
          },
          "xaxis": {
           "automargin": true,
           "gridcolor": "white",
           "linecolor": "white",
           "ticks": "",
           "title": {
            "standoff": 15
           },
           "zerolinecolor": "white",
           "zerolinewidth": 2
          },
          "yaxis": {
           "automargin": true,
           "gridcolor": "white",
           "linecolor": "white",
           "ticks": "",
           "title": {
            "standoff": 15
           },
           "zerolinecolor": "white",
           "zerolinewidth": 2
          }
         }
        }
       }
      }
     },
     "metadata": {},
     "output_type": "display_data"
    }
   ],
   "source": [
    "fig = go.Figure(go.Funnel(\n",
    "     y = ['MainScreenAppear','OffersScreenAppear','CartScreenAppear', 'PaymentScreenSuccessful'],\n",
    "     x = [7419,4593,3734,3539],\n",
    "     textinfo = \"value+percent initial\")\n",
    "    )\n",
    "fig.show()\n",
    "fig.write_image(\"funnel_chart.png\")"
   ]
  },
  {
   "cell_type": "code",
   "execution_count": 3,
   "metadata": {},
   "outputs": [
    {
     "name": "stderr",
     "output_type": "stream",
     "text": [
      "'[Funnel' is not recognized as an internal or external command,\n",
      "operable program or batch file.\n"
     ]
    }
   ],
   "source": [
    "![Funnel Chart](funnel_chart.png)"
   ]
  },
  {
   "cell_type": "markdown",
   "metadata": {},
   "source": [
    "De acuerdo al gráfico, parece ser que la etapa en la que se pierden a más usuarios(as) es el momento en el que se les muestra las ofertas, ya que el 61% de los usuarios iniciales que vieron la página principal llegan a dicha etapa. Para el resto de etapas la tasa de conversión se ubica entre 81% y 95%. "
   ]
  },
  {
   "cell_type": "markdown",
   "metadata": {},
   "source": [
    "Como se puede ver en el embudo, solo el 18,4% de los usuarios(as) pasa por todos los eventos hasta realizar el pago."
   ]
  },
  {
   "cell_type": "markdown",
   "metadata": {},
   "source": [
    "## Análisis del test A/A/B"
   ]
  },
  {
   "cell_type": "markdown",
   "metadata": {},
   "source": [
    "### ¿Cuántos usuarios y usuarias hay en cada grupo?"
   ]
  },
  {
   "cell_type": "code",
   "execution_count": null,
   "metadata": {},
   "outputs": [
    {
     "data": {
      "text/plain": [
       "exp_group\n",
       "246    2484\n",
       "247    2513\n",
       "248    2537\n",
       "Name: user_id, dtype: int64"
      ]
     },
     "execution_count": 101,
     "metadata": {},
     "output_type": "execute_result"
    }
   ],
   "source": [
    "# cantidad de usuarios(as) en cada grupo\n",
    "df_filtered.groupby('exp_group')['user_id'].nunique()\n"
   ]
  },
  {
   "cell_type": "code",
   "execution_count": null,
   "metadata": {},
   "outputs": [],
   "source": [
    "# se crean variables con el número de usuarios(as) en cada grupo para el análisis posterior \n",
    "group_246 = 2484\n",
    "group_247 = 2513\n",
    "group_248 = 2537"
   ]
  },
  {
   "cell_type": "markdown",
   "metadata": {},
   "source": [
    "Los tamaños de los grupos son parejos"
   ]
  },
  {
   "cell_type": "markdown",
   "metadata": {},
   "source": [
    "### Comprobación de diferencias estadísticamente significativas entre eventos de compra de los grupos de control"
   ]
  },
  {
   "cell_type": "markdown",
   "metadata": {},
   "source": [
    "#### Evento MainScreenAppear\n",
    "\n",
    "Primero se comprobará la diferencia de proporciones en la conversión del evento MainScreenAppear por ser el evento más popular"
   ]
  },
  {
   "cell_type": "markdown",
   "metadata": {},
   "source": [
    "- H0: Las proporciones de conversión de los grupos 246 y 247 en el evento MainScreenAppear son iguales \n",
    "- H1: Las proporciones de conversión de los grupos 246 y 247 en el evento MainScreenAppear son diferentes"
   ]
  },
  {
   "cell_type": "code",
   "execution_count": null,
   "metadata": {},
   "outputs": [
    {
     "data": {
      "text/html": [
       "<div>\n",
       "<style scoped>\n",
       "    .dataframe tbody tr th:only-of-type {\n",
       "        vertical-align: middle;\n",
       "    }\n",
       "\n",
       "    .dataframe tbody tr th {\n",
       "        vertical-align: top;\n",
       "    }\n",
       "\n",
       "    .dataframe thead th {\n",
       "        text-align: right;\n",
       "    }\n",
       "</style>\n",
       "<table border=\"1\" class=\"dataframe\">\n",
       "  <thead>\n",
       "    <tr style=\"text-align: right;\">\n",
       "      <th></th>\n",
       "      <th>user_id</th>\n",
       "      <th>exp_group</th>\n",
       "    </tr>\n",
       "  </thead>\n",
       "  <tbody>\n",
       "    <tr>\n",
       "      <th>2826</th>\n",
       "      <td>3737462046622621720</td>\n",
       "      <td>246</td>\n",
       "    </tr>\n",
       "    <tr>\n",
       "      <th>2830</th>\n",
       "      <td>1433840883824088890</td>\n",
       "      <td>247</td>\n",
       "    </tr>\n",
       "    <tr>\n",
       "      <th>2831</th>\n",
       "      <td>4899590676214355127</td>\n",
       "      <td>247</td>\n",
       "    </tr>\n",
       "    <tr>\n",
       "      <th>2838</th>\n",
       "      <td>1182179323890311443</td>\n",
       "      <td>246</td>\n",
       "    </tr>\n",
       "    <tr>\n",
       "      <th>2842</th>\n",
       "      <td>4613461174774205834</td>\n",
       "      <td>248</td>\n",
       "    </tr>\n",
       "    <tr>\n",
       "      <th>...</th>\n",
       "      <td>...</td>\n",
       "      <td>...</td>\n",
       "    </tr>\n",
       "    <tr>\n",
       "      <th>242926</th>\n",
       "      <td>5811573131275421338</td>\n",
       "      <td>248</td>\n",
       "    </tr>\n",
       "    <tr>\n",
       "      <th>243129</th>\n",
       "      <td>5365227480683749189</td>\n",
       "      <td>248</td>\n",
       "    </tr>\n",
       "    <tr>\n",
       "      <th>243364</th>\n",
       "      <td>6660805781687343085</td>\n",
       "      <td>246</td>\n",
       "    </tr>\n",
       "    <tr>\n",
       "      <th>243407</th>\n",
       "      <td>7823752606740475984</td>\n",
       "      <td>246</td>\n",
       "    </tr>\n",
       "    <tr>\n",
       "      <th>243449</th>\n",
       "      <td>3454683894921357834</td>\n",
       "      <td>247</td>\n",
       "    </tr>\n",
       "  </tbody>\n",
       "</table>\n",
       "<p>7534 rows × 2 columns</p>\n",
       "</div>"
      ],
      "text/plain": [
       "                    user_id exp_group\n",
       "2826    3737462046622621720       246\n",
       "2830    1433840883824088890       247\n",
       "2831    4899590676214355127       247\n",
       "2838    1182179323890311443       246\n",
       "2842    4613461174774205834       248\n",
       "...                     ...       ...\n",
       "242926  5811573131275421338       248\n",
       "243129  5365227480683749189       248\n",
       "243364  6660805781687343085       246\n",
       "243407  7823752606740475984       246\n",
       "243449  3454683894921357834       247\n",
       "\n",
       "[7534 rows x 2 columns]"
      ]
     },
     "execution_count": 32,
     "metadata": {},
     "output_type": "execute_result"
    }
   ],
   "source": [
    "# se genera un dataframe base al que se le añadirá información sobre la conversión de cada usuario para cada evento\n",
    "conversion = df_filtered[['user_id','exp_group']].drop_duplicates()\n",
    "conversion"
   ]
  },
  {
   "cell_type": "code",
   "execution_count": null,
   "metadata": {},
   "outputs": [],
   "source": [
    "main_screen_converted = pd.DataFrame(data= {\n",
    "    \"user_id\": df_filtered[df_filtered['event_name'] == 'MainScreenAppear']['user_id'].unique(),\n",
    "    \"converted\": 1\n",
    "})"
   ]
  },
  {
   "cell_type": "code",
   "execution_count": null,
   "metadata": {},
   "outputs": [
    {
     "data": {
      "text/html": [
       "<div>\n",
       "<style scoped>\n",
       "    .dataframe tbody tr th:only-of-type {\n",
       "        vertical-align: middle;\n",
       "    }\n",
       "\n",
       "    .dataframe tbody tr th {\n",
       "        vertical-align: top;\n",
       "    }\n",
       "\n",
       "    .dataframe thead th {\n",
       "        text-align: right;\n",
       "    }\n",
       "</style>\n",
       "<table border=\"1\" class=\"dataframe\">\n",
       "  <thead>\n",
       "    <tr style=\"text-align: right;\">\n",
       "      <th></th>\n",
       "      <th>user_id</th>\n",
       "      <th>exp_group</th>\n",
       "      <th>converted</th>\n",
       "    </tr>\n",
       "  </thead>\n",
       "  <tbody>\n",
       "    <tr>\n",
       "      <th>0</th>\n",
       "      <td>3737462046622621720</td>\n",
       "      <td>246</td>\n",
       "      <td>1.0</td>\n",
       "    </tr>\n",
       "    <tr>\n",
       "      <th>1</th>\n",
       "      <td>1433840883824088890</td>\n",
       "      <td>247</td>\n",
       "      <td>1.0</td>\n",
       "    </tr>\n",
       "    <tr>\n",
       "      <th>2</th>\n",
       "      <td>4899590676214355127</td>\n",
       "      <td>247</td>\n",
       "      <td>1.0</td>\n",
       "    </tr>\n",
       "    <tr>\n",
       "      <th>3</th>\n",
       "      <td>1182179323890311443</td>\n",
       "      <td>246</td>\n",
       "      <td>1.0</td>\n",
       "    </tr>\n",
       "    <tr>\n",
       "      <th>4</th>\n",
       "      <td>4613461174774205834</td>\n",
       "      <td>248</td>\n",
       "      <td>1.0</td>\n",
       "    </tr>\n",
       "    <tr>\n",
       "      <th>...</th>\n",
       "      <td>...</td>\n",
       "      <td>...</td>\n",
       "      <td>...</td>\n",
       "    </tr>\n",
       "    <tr>\n",
       "      <th>7529</th>\n",
       "      <td>5811573131275421338</td>\n",
       "      <td>248</td>\n",
       "      <td>1.0</td>\n",
       "    </tr>\n",
       "    <tr>\n",
       "      <th>7530</th>\n",
       "      <td>5365227480683749189</td>\n",
       "      <td>248</td>\n",
       "      <td>1.0</td>\n",
       "    </tr>\n",
       "    <tr>\n",
       "      <th>7531</th>\n",
       "      <td>6660805781687343085</td>\n",
       "      <td>246</td>\n",
       "      <td>1.0</td>\n",
       "    </tr>\n",
       "    <tr>\n",
       "      <th>7532</th>\n",
       "      <td>7823752606740475984</td>\n",
       "      <td>246</td>\n",
       "      <td>1.0</td>\n",
       "    </tr>\n",
       "    <tr>\n",
       "      <th>7533</th>\n",
       "      <td>3454683894921357834</td>\n",
       "      <td>247</td>\n",
       "      <td>1.0</td>\n",
       "    </tr>\n",
       "  </tbody>\n",
       "</table>\n",
       "<p>7534 rows × 3 columns</p>\n",
       "</div>"
      ],
      "text/plain": [
       "                  user_id exp_group  converted\n",
       "0     3737462046622621720       246        1.0\n",
       "1     1433840883824088890       247        1.0\n",
       "2     4899590676214355127       247        1.0\n",
       "3     1182179323890311443       246        1.0\n",
       "4     4613461174774205834       248        1.0\n",
       "...                   ...       ...        ...\n",
       "7529  5811573131275421338       248        1.0\n",
       "7530  5365227480683749189       248        1.0\n",
       "7531  6660805781687343085       246        1.0\n",
       "7532  7823752606740475984       246        1.0\n",
       "7533  3454683894921357834       247        1.0\n",
       "\n",
       "[7534 rows x 3 columns]"
      ]
     },
     "execution_count": 34,
     "metadata": {},
     "output_type": "execute_result"
    }
   ],
   "source": [
    "df_main_screen_converted = conversion.merge(main_screen_converted, on='user_id',how='left')\n",
    "df_main_screen_converted['converted'] = df_main_screen_converted['converted'].fillna(0)\n",
    "df_main_screen_converted"
   ]
  },
  {
   "cell_type": "code",
   "execution_count": null,
   "metadata": {},
   "outputs": [],
   "source": [
    "user_246_main_screen = df_main_screen_converted[df_main_screen_converted['exp_group'] == \"246\"]['converted'].sum()\n",
    "user_247_main_screen = df_main_screen_converted[df_main_screen_converted['exp_group'] == \"247\"]['converted'].sum()"
   ]
  },
  {
   "cell_type": "code",
   "execution_count": null,
   "metadata": {},
   "outputs": [
    {
     "data": {
      "text/plain": [
       "2450.0"
      ]
     },
     "execution_count": 36,
     "metadata": {},
     "output_type": "execute_result"
    }
   ],
   "source": [
    "user_246_main_screen"
   ]
  },
  {
   "cell_type": "code",
   "execution_count": null,
   "metadata": {},
   "outputs": [
    {
     "data": {
      "text/plain": [
       "0.9863123993558777"
      ]
     },
     "execution_count": 37,
     "metadata": {},
     "output_type": "execute_result"
    }
   ],
   "source": [
    "# proporción de éxito en el grupo 246\n",
    "p1 = user_246_main_screen/group_246\n",
    "p1"
   ]
  },
  {
   "cell_type": "code",
   "execution_count": null,
   "metadata": {},
   "outputs": [],
   "source": [
    "# proporción de éxito en el grupo 247\n",
    "p2 = user_247_main_screen/group_247"
   ]
  },
  {
   "cell_type": "code",
   "execution_count": null,
   "metadata": {},
   "outputs": [
    {
     "data": {
      "text/plain": [
       "0.9857914748849309"
      ]
     },
     "execution_count": 39,
     "metadata": {},
     "output_type": "execute_result"
    }
   ],
   "source": [
    "#proporción de éxito combinado\n",
    "p_combined = (user_246_main_screen+user_247_main_screen)/(group_246+group_247)\n",
    "p_combined"
   ]
  },
  {
   "cell_type": "code",
   "execution_count": null,
   "metadata": {},
   "outputs": [],
   "source": [
    "difference = p1-p2\n",
    "z_value = difference / mth.sqrt(p_combined * (1 - p_combined) * (1/group_246 + 1/group_247))"
   ]
  },
  {
   "cell_type": "code",
   "execution_count": null,
   "metadata": {},
   "outputs": [
    {
     "data": {
      "text/plain": [
       "0.0010358374776444634"
      ]
     },
     "execution_count": 41,
     "metadata": {},
     "output_type": "execute_result"
    }
   ],
   "source": [
    "difference"
   ]
  },
  {
   "cell_type": "code",
   "execution_count": null,
   "metadata": {},
   "outputs": [
    {
     "name": "stdout",
     "output_type": "stream",
     "text": [
      "p-value:  0.7570597232046099\n",
      "No se pudo rechazar la hipótesis nula: no hay una diferencia significativa entre las proporciones\n"
     ]
    }
   ],
   "source": [
    "alpha = .05 \n",
    "z_value = difference / mth.sqrt(p_combined * (1 - p_combined) * (1/group_246 + 1/group_247))\n",
    "distr = st.norm(0, 1)\n",
    "p_value = (1 - distr.cdf(abs(z_value))) * 2\n",
    "\n",
    "print('p-value: ', p_value)\n",
    "\n",
    "if (p_value < alpha):\n",
    "    print(\"Rechazar la hipótesis nula: hay una diferencia significativa entre las proporciones\")\n",
    "else:\n",
    "    print(\"No se pudo rechazar la hipótesis nula: no hay una diferencia significativa entre las proporciones\")"
   ]
  },
  {
   "cell_type": "markdown",
   "metadata": {},
   "source": [
    "####  Evento OffersScreenAppear"
   ]
  },
  {
   "cell_type": "markdown",
   "metadata": {},
   "source": [
    "- H0: Las proporciones de conversión de los grupos 246 y 247 son iguales \n",
    "- H1: Las proporciones de conversión de los grupos 246 y 247 son diferentes"
   ]
  },
  {
   "cell_type": "code",
   "execution_count": null,
   "metadata": {},
   "outputs": [],
   "source": [
    "\n",
    "offers_screen_converted = pd.DataFrame(data= {\n",
    "    \"user_id\": df_filtered[df_filtered['event_name'] == 'OffersScreenAppear']['user_id'].unique(),\n",
    "    \"converted\": 1\n",
    "})"
   ]
  },
  {
   "cell_type": "code",
   "execution_count": null,
   "metadata": {},
   "outputs": [
    {
     "data": {
      "text/html": [
       "<div>\n",
       "<style scoped>\n",
       "    .dataframe tbody tr th:only-of-type {\n",
       "        vertical-align: middle;\n",
       "    }\n",
       "\n",
       "    .dataframe tbody tr th {\n",
       "        vertical-align: top;\n",
       "    }\n",
       "\n",
       "    .dataframe thead th {\n",
       "        text-align: right;\n",
       "    }\n",
       "</style>\n",
       "<table border=\"1\" class=\"dataframe\">\n",
       "  <thead>\n",
       "    <tr style=\"text-align: right;\">\n",
       "      <th></th>\n",
       "      <th>user_id</th>\n",
       "      <th>exp_group</th>\n",
       "      <th>converted</th>\n",
       "    </tr>\n",
       "  </thead>\n",
       "  <tbody>\n",
       "    <tr>\n",
       "      <th>0</th>\n",
       "      <td>3737462046622621720</td>\n",
       "      <td>246</td>\n",
       "      <td>1.0</td>\n",
       "    </tr>\n",
       "    <tr>\n",
       "      <th>1</th>\n",
       "      <td>1433840883824088890</td>\n",
       "      <td>247</td>\n",
       "      <td>0.0</td>\n",
       "    </tr>\n",
       "    <tr>\n",
       "      <th>2</th>\n",
       "      <td>4899590676214355127</td>\n",
       "      <td>247</td>\n",
       "      <td>1.0</td>\n",
       "    </tr>\n",
       "    <tr>\n",
       "      <th>3</th>\n",
       "      <td>1182179323890311443</td>\n",
       "      <td>246</td>\n",
       "      <td>0.0</td>\n",
       "    </tr>\n",
       "    <tr>\n",
       "      <th>4</th>\n",
       "      <td>4613461174774205834</td>\n",
       "      <td>248</td>\n",
       "      <td>1.0</td>\n",
       "    </tr>\n",
       "    <tr>\n",
       "      <th>...</th>\n",
       "      <td>...</td>\n",
       "      <td>...</td>\n",
       "      <td>...</td>\n",
       "    </tr>\n",
       "    <tr>\n",
       "      <th>7529</th>\n",
       "      <td>5811573131275421338</td>\n",
       "      <td>248</td>\n",
       "      <td>0.0</td>\n",
       "    </tr>\n",
       "    <tr>\n",
       "      <th>7530</th>\n",
       "      <td>5365227480683749189</td>\n",
       "      <td>248</td>\n",
       "      <td>0.0</td>\n",
       "    </tr>\n",
       "    <tr>\n",
       "      <th>7531</th>\n",
       "      <td>6660805781687343085</td>\n",
       "      <td>246</td>\n",
       "      <td>0.0</td>\n",
       "    </tr>\n",
       "    <tr>\n",
       "      <th>7532</th>\n",
       "      <td>7823752606740475984</td>\n",
       "      <td>246</td>\n",
       "      <td>1.0</td>\n",
       "    </tr>\n",
       "    <tr>\n",
       "      <th>7533</th>\n",
       "      <td>3454683894921357834</td>\n",
       "      <td>247</td>\n",
       "      <td>0.0</td>\n",
       "    </tr>\n",
       "  </tbody>\n",
       "</table>\n",
       "<p>7534 rows × 3 columns</p>\n",
       "</div>"
      ],
      "text/plain": [
       "                  user_id exp_group  converted\n",
       "0     3737462046622621720       246        1.0\n",
       "1     1433840883824088890       247        0.0\n",
       "2     4899590676214355127       247        1.0\n",
       "3     1182179323890311443       246        0.0\n",
       "4     4613461174774205834       248        1.0\n",
       "...                   ...       ...        ...\n",
       "7529  5811573131275421338       248        0.0\n",
       "7530  5365227480683749189       248        0.0\n",
       "7531  6660805781687343085       246        0.0\n",
       "7532  7823752606740475984       246        1.0\n",
       "7533  3454683894921357834       247        0.0\n",
       "\n",
       "[7534 rows x 3 columns]"
      ]
     },
     "execution_count": 44,
     "metadata": {},
     "output_type": "execute_result"
    }
   ],
   "source": [
    "df_offers_screen_converted = conversion.merge(offers_screen_converted, on='user_id',how='left')\n",
    "df_offers_screen_converted['converted'] = df_offers_screen_converted['converted'].fillna(0)\n",
    "df_offers_screen_converted"
   ]
  },
  {
   "cell_type": "code",
   "execution_count": null,
   "metadata": {},
   "outputs": [],
   "source": [
    "user_246_offers = df_offers_screen_converted[df_offers_screen_converted['exp_group'] == \"246\"]['converted'].sum()\n",
    "user_247_offers = df_offers_screen_converted[df_offers_screen_converted['exp_group'] == \"247\"]['converted'].sum()"
   ]
  },
  {
   "cell_type": "code",
   "execution_count": null,
   "metadata": {},
   "outputs": [
    {
     "name": "stdout",
     "output_type": "stream",
     "text": [
      "1542.0\n"
     ]
    }
   ],
   "source": [
    "print(user_246_offers)"
   ]
  },
  {
   "cell_type": "code",
   "execution_count": null,
   "metadata": {},
   "outputs": [
    {
     "name": "stdout",
     "output_type": "stream",
     "text": [
      "1520.0\n"
     ]
    }
   ],
   "source": [
    "print(user_247_offers)"
   ]
  },
  {
   "cell_type": "code",
   "execution_count": null,
   "metadata": {},
   "outputs": [
    {
     "data": {
      "text/plain": [
       "0.6207729468599034"
      ]
     },
     "execution_count": 48,
     "metadata": {},
     "output_type": "execute_result"
    }
   ],
   "source": [
    "# proporción de éxito en el grupo 246\n",
    "p1 = user_246_offers/group_246\n",
    "p1"
   ]
  },
  {
   "cell_type": "code",
   "execution_count": null,
   "metadata": {},
   "outputs": [
    {
     "data": {
      "text/plain": [
       "0.6119162640901772"
      ]
     },
     "execution_count": 49,
     "metadata": {},
     "output_type": "execute_result"
    }
   ],
   "source": [
    "# proporción de éxito en el grupo 247\n",
    "p2 = user_247_offers/group_246\n",
    "p2"
   ]
  },
  {
   "cell_type": "code",
   "execution_count": null,
   "metadata": {},
   "outputs": [],
   "source": [
    "p_combined = (user_246_offers+user_247_offers)/(group_246+group_247)\n",
    "difference = p1-p2"
   ]
  },
  {
   "cell_type": "code",
   "execution_count": null,
   "metadata": {},
   "outputs": [
    {
     "name": "stdout",
     "output_type": "stream",
     "text": [
      "p-value:  0.520470233264319\n",
      "No se pudo rechazar la hipótesis nula: no hay una diferencia significativa entre las proporciones\n"
     ]
    }
   ],
   "source": [
    "alpha = .05 \n",
    "z_value = difference / mth.sqrt(p_combined * (1 - p_combined) * (1/group_246 + 1/group_247))\n",
    "distr = st.norm(0, 1)\n",
    "p_value = (1 - distr.cdf(abs(z_value))) * 2\n",
    "\n",
    "print('p-value: ', p_value)\n",
    "\n",
    "if (p_value < alpha):\n",
    "    print(\"Rechazar la hipótesis nula: hay una diferencia significativa entre las proporciones\")\n",
    "else:\n",
    "    print(\"No se pudo rechazar la hipótesis nula: no hay una diferencia significativa entre las proporciones\")"
   ]
  },
  {
   "cell_type": "markdown",
   "metadata": {},
   "source": [
    "#### Evento CartScreenAppear"
   ]
  },
  {
   "cell_type": "markdown",
   "metadata": {},
   "source": [
    "- H0: Las proporciones de conversión de los grupos 246 y 247 en el evento CartScreenAppear son iguales \n",
    "- H1: Las proporciones de conversión de los grupos 246 y 247 en el evento CartScreenAppear son diferentes"
   ]
  },
  {
   "cell_type": "code",
   "execution_count": null,
   "metadata": {},
   "outputs": [],
   "source": [
    "cart_screen_converted = pd.DataFrame(data= {\n",
    "    \"user_id\": df_filtered[df_filtered['event_name'] == 'CartScreenAppear']['user_id'].unique(),\n",
    "    \"converted\": 1\n",
    "})"
   ]
  },
  {
   "cell_type": "code",
   "execution_count": null,
   "metadata": {},
   "outputs": [
    {
     "data": {
      "text/html": [
       "<div>\n",
       "<style scoped>\n",
       "    .dataframe tbody tr th:only-of-type {\n",
       "        vertical-align: middle;\n",
       "    }\n",
       "\n",
       "    .dataframe tbody tr th {\n",
       "        vertical-align: top;\n",
       "    }\n",
       "\n",
       "    .dataframe thead th {\n",
       "        text-align: right;\n",
       "    }\n",
       "</style>\n",
       "<table border=\"1\" class=\"dataframe\">\n",
       "  <thead>\n",
       "    <tr style=\"text-align: right;\">\n",
       "      <th></th>\n",
       "      <th>user_id</th>\n",
       "      <th>exp_group</th>\n",
       "      <th>converted</th>\n",
       "    </tr>\n",
       "  </thead>\n",
       "  <tbody>\n",
       "    <tr>\n",
       "      <th>0</th>\n",
       "      <td>3737462046622621720</td>\n",
       "      <td>246</td>\n",
       "      <td>1.0</td>\n",
       "    </tr>\n",
       "    <tr>\n",
       "      <th>1</th>\n",
       "      <td>1433840883824088890</td>\n",
       "      <td>247</td>\n",
       "      <td>0.0</td>\n",
       "    </tr>\n",
       "    <tr>\n",
       "      <th>2</th>\n",
       "      <td>4899590676214355127</td>\n",
       "      <td>247</td>\n",
       "      <td>1.0</td>\n",
       "    </tr>\n",
       "    <tr>\n",
       "      <th>3</th>\n",
       "      <td>1182179323890311443</td>\n",
       "      <td>246</td>\n",
       "      <td>0.0</td>\n",
       "    </tr>\n",
       "    <tr>\n",
       "      <th>4</th>\n",
       "      <td>4613461174774205834</td>\n",
       "      <td>248</td>\n",
       "      <td>1.0</td>\n",
       "    </tr>\n",
       "    <tr>\n",
       "      <th>...</th>\n",
       "      <td>...</td>\n",
       "      <td>...</td>\n",
       "      <td>...</td>\n",
       "    </tr>\n",
       "    <tr>\n",
       "      <th>7529</th>\n",
       "      <td>5811573131275421338</td>\n",
       "      <td>248</td>\n",
       "      <td>0.0</td>\n",
       "    </tr>\n",
       "    <tr>\n",
       "      <th>7530</th>\n",
       "      <td>5365227480683749189</td>\n",
       "      <td>248</td>\n",
       "      <td>0.0</td>\n",
       "    </tr>\n",
       "    <tr>\n",
       "      <th>7531</th>\n",
       "      <td>6660805781687343085</td>\n",
       "      <td>246</td>\n",
       "      <td>0.0</td>\n",
       "    </tr>\n",
       "    <tr>\n",
       "      <th>7532</th>\n",
       "      <td>7823752606740475984</td>\n",
       "      <td>246</td>\n",
       "      <td>1.0</td>\n",
       "    </tr>\n",
       "    <tr>\n",
       "      <th>7533</th>\n",
       "      <td>3454683894921357834</td>\n",
       "      <td>247</td>\n",
       "      <td>1.0</td>\n",
       "    </tr>\n",
       "  </tbody>\n",
       "</table>\n",
       "<p>7534 rows × 3 columns</p>\n",
       "</div>"
      ],
      "text/plain": [
       "                  user_id exp_group  converted\n",
       "0     3737462046622621720       246        1.0\n",
       "1     1433840883824088890       247        0.0\n",
       "2     4899590676214355127       247        1.0\n",
       "3     1182179323890311443       246        0.0\n",
       "4     4613461174774205834       248        1.0\n",
       "...                   ...       ...        ...\n",
       "7529  5811573131275421338       248        0.0\n",
       "7530  5365227480683749189       248        0.0\n",
       "7531  6660805781687343085       246        0.0\n",
       "7532  7823752606740475984       246        1.0\n",
       "7533  3454683894921357834       247        1.0\n",
       "\n",
       "[7534 rows x 3 columns]"
      ]
     },
     "execution_count": 53,
     "metadata": {},
     "output_type": "execute_result"
    }
   ],
   "source": [
    "df_cart_screen_converted = conversion.merge(cart_screen_converted, on='user_id',how='left')\n",
    "df_cart_screen_converted['converted'] = df_cart_screen_converted['converted'].fillna(0)\n",
    "df_cart_screen_converted"
   ]
  },
  {
   "cell_type": "code",
   "execution_count": null,
   "metadata": {},
   "outputs": [
    {
     "name": "stdout",
     "output_type": "stream",
     "text": [
      "1266.0\n",
      "1238.0\n"
     ]
    }
   ],
   "source": [
    "user_246_cart = df_cart_screen_converted[df_cart_screen_converted['exp_group'] == \"246\"]['converted'].sum()\n",
    "user_247_cart = df_cart_screen_converted[df_cart_screen_converted['exp_group'] == \"247\"]['converted'].sum()\n",
    "print(user_246_cart)\n",
    "print(user_247_cart)"
   ]
  },
  {
   "cell_type": "code",
   "execution_count": null,
   "metadata": {},
   "outputs": [],
   "source": [
    "# proporción de éxito en el grupo 246\n",
    "p1 = user_246_cart/group_246\n",
    "\n",
    "# proporción de éxito en el grupo 247\n",
    "p2 = user_247_cart/group_246\n"
   ]
  },
  {
   "cell_type": "code",
   "execution_count": null,
   "metadata": {},
   "outputs": [],
   "source": [
    "p_combined = (user_246_cart+user_247_cart)/(group_246+group_247)\n",
    "difference = p1-p2"
   ]
  },
  {
   "cell_type": "code",
   "execution_count": null,
   "metadata": {},
   "outputs": [
    {
     "name": "stdout",
     "output_type": "stream",
     "text": [
      "p-value:  0.4255613041874384\n",
      "No se pudo rechazar la hipótesis nula: no hay una diferencia significativa entre las proporciones\n"
     ]
    }
   ],
   "source": [
    "alpha = .05 \n",
    "z_value = difference / mth.sqrt(p_combined * (1 - p_combined) * (1/group_246 + 1/group_247))\n",
    "distr = st.norm(0, 1)\n",
    "p_value = (1 - distr.cdf(abs(z_value))) * 2\n",
    "\n",
    "print('p-value: ', p_value)\n",
    "\n",
    "if (p_value < alpha):\n",
    "    print(\"Rechazar la hipótesis nula: hay una diferencia significativa entre las proporciones\")\n",
    "else:\n",
    "    print(\"No se pudo rechazar la hipótesis nula: no hay una diferencia significativa entre las proporciones\")"
   ]
  },
  {
   "cell_type": "markdown",
   "metadata": {},
   "source": [
    "#### Evento PaymentScreenSuccessful"
   ]
  },
  {
   "cell_type": "markdown",
   "metadata": {},
   "source": [
    "- H0: Las proporciones de conversión de los grupos 246 y 247 en el evento PaymentScreenSuccessful son iguales \n",
    "- H1: Las proporciones de conversión de los grupos 246 y 247 en el evento PaymentScreenSuccessful son diferentes"
   ]
  },
  {
   "cell_type": "code",
   "execution_count": null,
   "metadata": {},
   "outputs": [],
   "source": [
    "payment_success_converted = pd.DataFrame(data= {\n",
    "    \"user_id\": df_filtered[df_filtered['event_name'] == 'PaymentScreenSuccessful']['user_id'].unique(),\n",
    "    \"converted\": 1\n",
    "})"
   ]
  },
  {
   "cell_type": "code",
   "execution_count": null,
   "metadata": {},
   "outputs": [
    {
     "data": {
      "text/html": [
       "<div>\n",
       "<style scoped>\n",
       "    .dataframe tbody tr th:only-of-type {\n",
       "        vertical-align: middle;\n",
       "    }\n",
       "\n",
       "    .dataframe tbody tr th {\n",
       "        vertical-align: top;\n",
       "    }\n",
       "\n",
       "    .dataframe thead th {\n",
       "        text-align: right;\n",
       "    }\n",
       "</style>\n",
       "<table border=\"1\" class=\"dataframe\">\n",
       "  <thead>\n",
       "    <tr style=\"text-align: right;\">\n",
       "      <th></th>\n",
       "      <th>user_id</th>\n",
       "      <th>exp_group</th>\n",
       "      <th>converted</th>\n",
       "    </tr>\n",
       "  </thead>\n",
       "  <tbody>\n",
       "    <tr>\n",
       "      <th>0</th>\n",
       "      <td>3737462046622621720</td>\n",
       "      <td>246</td>\n",
       "      <td>1.0</td>\n",
       "    </tr>\n",
       "    <tr>\n",
       "      <th>1</th>\n",
       "      <td>1433840883824088890</td>\n",
       "      <td>247</td>\n",
       "      <td>0.0</td>\n",
       "    </tr>\n",
       "    <tr>\n",
       "      <th>2</th>\n",
       "      <td>4899590676214355127</td>\n",
       "      <td>247</td>\n",
       "      <td>1.0</td>\n",
       "    </tr>\n",
       "    <tr>\n",
       "      <th>3</th>\n",
       "      <td>1182179323890311443</td>\n",
       "      <td>246</td>\n",
       "      <td>0.0</td>\n",
       "    </tr>\n",
       "    <tr>\n",
       "      <th>4</th>\n",
       "      <td>4613461174774205834</td>\n",
       "      <td>248</td>\n",
       "      <td>1.0</td>\n",
       "    </tr>\n",
       "  </tbody>\n",
       "</table>\n",
       "</div>"
      ],
      "text/plain": [
       "               user_id exp_group  converted\n",
       "0  3737462046622621720       246        1.0\n",
       "1  1433840883824088890       247        0.0\n",
       "2  4899590676214355127       247        1.0\n",
       "3  1182179323890311443       246        0.0\n",
       "4  4613461174774205834       248        1.0"
      ]
     },
     "execution_count": 59,
     "metadata": {},
     "output_type": "execute_result"
    }
   ],
   "source": [
    "df_payment_success_converted = conversion.merge(payment_success_converted, on='user_id',how='left')\n",
    "df_payment_success_converted['converted'] = df_payment_success_converted['converted'].fillna(0)\n",
    "df_payment_success_converted.head()"
   ]
  },
  {
   "cell_type": "code",
   "execution_count": null,
   "metadata": {},
   "outputs": [
    {
     "name": "stdout",
     "output_type": "stream",
     "text": [
      "1266.0\n",
      "1238.0\n"
     ]
    }
   ],
   "source": [
    "user_246_payment = df_payment_success_converted[df_payment_success_converted['exp_group'] == \"246\"]['converted'].sum()\n",
    "user_247_payment = df_payment_success_converted[df_payment_success_converted['exp_group'] == \"247\"]['converted'].sum()\n",
    "print(user_246_cart)\n",
    "print(user_247_cart)"
   ]
  },
  {
   "cell_type": "code",
   "execution_count": null,
   "metadata": {},
   "outputs": [],
   "source": [
    "# proporción de éxito en el grupo 246\n",
    "p1 = user_246_payment/group_246\n",
    "\n",
    "# proporción de éxito en el grupo 247\n",
    "p2 = user_247_payment/group_246\n",
    "\n",
    "p_combined = (user_246_payment+user_247_payment)/(group_246+group_247)\n",
    "difference = p1-p2"
   ]
  },
  {
   "cell_type": "code",
   "execution_count": null,
   "metadata": {},
   "outputs": [
    {
     "name": "stdout",
     "output_type": "stream",
     "text": [
      "p-value:  0.2312650153600977\n",
      "No se pudo rechazar la hipótesis nula: no hay una diferencia significativa entre las proporciones\n"
     ]
    }
   ],
   "source": [
    "alpha = .05 \n",
    "z_value = difference / mth.sqrt(p_combined * (1 - p_combined) * (1/group_246 + 1/group_247))\n",
    "distr = st.norm(0, 1)\n",
    "p_value = (1 - distr.cdf(abs(z_value))) * 2\n",
    "\n",
    "print('p-value: ', p_value)\n",
    "\n",
    "if (p_value < alpha):\n",
    "    print(\"Rechazar la hipótesis nula: hay una diferencia significativa entre las proporciones\")\n",
    "else:\n",
    "    print(\"No se pudo rechazar la hipótesis nula: no hay una diferencia significativa entre las proporciones\")"
   ]
  },
  {
   "cell_type": "markdown",
   "metadata": {},
   "source": [
    "Se puede concluir que los grupos de control se dividieron correctamente, pues en ninguno de los Z Test se revelaron diferencias estadísticamente significativas entre las proporciones de la conversión de ninguno de los eventos del embudo."
   ]
  },
  {
   "cell_type": "markdown",
   "metadata": {},
   "source": [
    "### Comprobación de diferencias estadísticamente significativas entre los grupos de control y el grupo de prueba para cada evento de forma aislada."
   ]
  },
  {
   "cell_type": "markdown",
   "metadata": {},
   "source": [
    "#### Grupo 248 vs Grupo 246"
   ]
  },
  {
   "cell_type": "markdown",
   "metadata": {},
   "source": [
    "**Prueba 1 - evento MainScreenAppear** "
   ]
  },
  {
   "cell_type": "markdown",
   "metadata": {},
   "source": [
    "- H0: Las proporciones de conversión de los grupos 246 y 248 en el evento MainScreenAppear son iguales \n",
    "- H1: Las proporciones de conversión de los grupos 246 y 248 en el evento MainScreenAppear son diferentes"
   ]
  },
  {
   "cell_type": "code",
   "execution_count": null,
   "metadata": {},
   "outputs": [
    {
     "data": {
      "text/plain": [
       "2493.0"
      ]
     },
     "execution_count": 63,
     "metadata": {},
     "output_type": "execute_result"
    }
   ],
   "source": [
    "# cantidad de usuarios del grupo de prueba que pasaron por el evento MainScreenAppear\n",
    "user_248_main_screen = df_main_screen_converted[df_main_screen_converted['exp_group'] == \"248\"]['converted'].sum()\n",
    "user_248_main_screen"
   ]
  },
  {
   "cell_type": "code",
   "execution_count": null,
   "metadata": {},
   "outputs": [
    {
     "data": {
      "text/plain": [
       "2537"
      ]
     },
     "execution_count": 64,
     "metadata": {},
     "output_type": "execute_result"
    }
   ],
   "source": [
    "group_248"
   ]
  },
  {
   "cell_type": "code",
   "execution_count": null,
   "metadata": {},
   "outputs": [],
   "source": [
    "# se define una fórmula para realizar la prueba Z de manera más automática\n",
    "def prueba_z(eventos1, n1, eventos2, n2, alpha=0.1):\n",
    "    p1 = eventos1 / n1\n",
    "    p2 = eventos2 / n2\n",
    "    p_combined = (eventos1 + eventos2) / (n1 + n2)\n",
    "    difference = p1-p2\n",
    "    z_value = difference/mth.sqrt(p_combined * (1 - p_combined) * (1/n1 + 1/n2))\n",
    "    p_value = (1 - distr.cdf(abs(z_value))) * 2\n",
    "    \n",
    "    reject_null = p_value < alpha\n",
    "    return p_value, reject_null\n",
    "    \n"
   ]
  },
  {
   "cell_type": "code",
   "execution_count": null,
   "metadata": {},
   "outputs": [
    {
     "name": "stdout",
     "output_type": "stream",
     "text": [
      "P-value: 0.2949721933554552\n",
      "No se puede rechazar la hipótesis nula: no hay una diferencia significativa entre las proporciones\n"
     ]
    }
   ],
   "source": [
    "p, rechazar = prueba_z(user_248_main_screen, group_248, user_246_main_screen , group_246, alpha=0.1)\n",
    "print(f\"P-value: {p}\")\n",
    "if rechazar:\n",
    "    print(\"Rechazamos la hipótesis nula: hay una diferencia significativa entre las proporciones\")\n",
    "else:\n",
    "    print(\"No se puede rechazar la hipótesis nula: no hay una diferencia significativa entre las proporciones\")"
   ]
  },
  {
   "cell_type": "markdown",
   "metadata": {},
   "source": [
    "**Prueba 2 - evento OffersScreenAppear**"
   ]
  },
  {
   "cell_type": "markdown",
   "metadata": {},
   "source": [
    "- H0: Las proporciones de conversión de los grupos 246 y 248 en el evento OffersScreenAppear son iguales \n",
    "- H1: Las proporciones de conversión de los grupos 246 y 248 en el evento OffersScreenAppear son diferentes"
   ]
  },
  {
   "cell_type": "code",
   "execution_count": null,
   "metadata": {},
   "outputs": [
    {
     "data": {
      "text/plain": [
       "1531.0"
      ]
     },
     "execution_count": 67,
     "metadata": {},
     "output_type": "execute_result"
    }
   ],
   "source": [
    "# cantidad de usuarios del grupo de prueba que pasaron por el evento MainScreenAppear\n",
    "user_248_offers= df_offers_screen_converted[df_offers_screen_converted['exp_group'] == \"248\"]['converted'].sum()\n",
    "user_248_offers"
   ]
  },
  {
   "cell_type": "code",
   "execution_count": null,
   "metadata": {},
   "outputs": [
    {
     "name": "stdout",
     "output_type": "stream",
     "text": [
      "P-value: 0.20836205402738917\n",
      "No se puede rechazar la hipótesis nula: no hay una diferencia significativa entre las proporciones\n"
     ]
    }
   ],
   "source": [
    "p, rechazar = prueba_z(user_248_offers, group_248, user_246_offers , group_246, alpha=0.1)\n",
    "print(f\"P-value: {p}\")\n",
    "if rechazar:\n",
    "    print(\"Rechazamos la hipótesis nula: hay una diferencia significativa entre las proporciones\")\n",
    "else:\n",
    "    print(\"No se puede rechazar la hipótesis nula: no hay una diferencia significativa entre las proporciones\")"
   ]
  },
  {
   "cell_type": "markdown",
   "metadata": {},
   "source": [
    "**Prueba 3 - evento CartScreenAppear**"
   ]
  },
  {
   "cell_type": "markdown",
   "metadata": {},
   "source": [
    "- H0: Las proporciones de conversión de los grupos 246 y 248 en el evento CartScreenAppear son iguales \n",
    "- H1: Las proporciones de conversión de los grupos 246 y 248 en el evento CartScreenAppear son diferentes"
   ]
  },
  {
   "cell_type": "code",
   "execution_count": null,
   "metadata": {},
   "outputs": [
    {
     "data": {
      "text/plain": [
       "1230.0"
      ]
     },
     "execution_count": 69,
     "metadata": {},
     "output_type": "execute_result"
    }
   ],
   "source": [
    "# cantidad de usuarios del grupo de prueba que pasaron por el evento MainScreenAppear\n",
    "user_248_cart= df_cart_screen_converted[df_cart_screen_converted['exp_group'] == \"248\"]['converted'].sum()\n",
    "user_248_cart"
   ]
  },
  {
   "cell_type": "code",
   "execution_count": null,
   "metadata": {},
   "outputs": [
    {
     "name": "stdout",
     "output_type": "stream",
     "text": [
      "P-value: 0.07842923237520116\n",
      "Rechazamos la hipótesis nula: hay una diferencia significativa entre las proporciones\n"
     ]
    }
   ],
   "source": [
    "p, rechazar = prueba_z(user_248_cart, group_248, user_246_cart , group_246, alpha=0.1)\n",
    "print(f\"P-value: {p}\")\n",
    "if rechazar:\n",
    "    print(\"Rechazamos la hipótesis nula: hay una diferencia significativa entre las proporciones\")\n",
    "else:\n",
    "    print(\"No se puede rechazar la hipótesis nula: no hay una diferencia significativa entre las proporciones\")"
   ]
  },
  {
   "cell_type": "markdown",
   "metadata": {},
   "source": [
    "**Prueba 4 - evento PaymentScreenSuccessful**"
   ]
  },
  {
   "cell_type": "markdown",
   "metadata": {},
   "source": [
    "- H0: Las proporciones de conversión de los grupos 246 y 248 en el evento PaymentScreenSuccessful son iguales \n",
    "- H1: Las proporciones de conversión de los grupos 246 y 248 en el evento PaymentScreenSuccessful son diferentes"
   ]
  },
  {
   "cell_type": "code",
   "execution_count": null,
   "metadata": {},
   "outputs": [
    {
     "data": {
      "text/plain": [
       "1181.0"
      ]
     },
     "execution_count": 71,
     "metadata": {},
     "output_type": "execute_result"
    }
   ],
   "source": [
    "# cantidad de usuarios del grupo de prueba que pasaron por el evento MainScreenAppear\n",
    "user_248_payment= df_payment_success_converted[df_payment_success_converted['exp_group'] == \"248\"]['converted'].sum()\n",
    "user_248_payment"
   ]
  },
  {
   "cell_type": "code",
   "execution_count": null,
   "metadata": {},
   "outputs": [
    {
     "name": "stdout",
     "output_type": "stream",
     "text": [
      "P-value: 0.2122553275697796\n",
      "No se puede rechazar la hipótesis nula: no hay una diferencia significativa entre las proporciones\n"
     ]
    }
   ],
   "source": [
    "p, rechazar = prueba_z(user_248_payment, group_248, user_246_payment , group_246, alpha=0.1)\n",
    "print(f\"P-value: {p}\")\n",
    "if rechazar:\n",
    "    print(\"Rechazamos la hipótesis nula: hay una diferencia significativa entre las proporciones\")\n",
    "else:\n",
    "    print(\"No se puede rechazar la hipótesis nula: no hay una diferencia significativa entre las proporciones\")"
   ]
  },
  {
   "cell_type": "markdown",
   "metadata": {},
   "source": [
    "#### Grupo 248 vs Grupo 247"
   ]
  },
  {
   "cell_type": "markdown",
   "metadata": {},
   "source": [
    "**Prueba 5 - evento MainScreenAppear** "
   ]
  },
  {
   "cell_type": "markdown",
   "metadata": {},
   "source": [
    "- H0: Las proporciones de conversión de los grupos 247 y 248 en el evento MainScreenAppear son iguales \n",
    "- H1: Las proporciones de conversión de los grupos 247 y 248 en el evento MainScreenAppear son diferentes"
   ]
  },
  {
   "cell_type": "code",
   "execution_count": null,
   "metadata": {},
   "outputs": [
    {
     "name": "stdout",
     "output_type": "stream",
     "text": [
      "P-value: 0.4587053616621515\n",
      "No se puede rechazar la hipótesis nula: no hay una diferencia significativa entre las proporciones\n"
     ]
    }
   ],
   "source": [
    "p, rechazar = prueba_z(user_248_main_screen, group_248, user_247_main_screen, group_247, alpha=0.1)\n",
    "print(f\"P-value: {p}\")\n",
    "if rechazar:\n",
    "    print(\"Rechazamos la hipótesis nula: hay una diferencia significativa entre las proporciones\")\n",
    "else:\n",
    "    print(\"No se puede rechazar la hipótesis nula: no hay una diferencia significativa entre las proporciones\")"
   ]
  },
  {
   "cell_type": "markdown",
   "metadata": {},
   "source": [
    "**Prueba 6 - evento OffersScreenAppear** "
   ]
  },
  {
   "cell_type": "markdown",
   "metadata": {},
   "source": [
    "- H0: Las proporciones de conversión de los grupos 247 y 248 en el evento OffersScreenAppear son iguales \n",
    "- H1: Las proporciones de conversión de los grupos 247 y 248 en el evento OffersScreenAppear son diferentes"
   ]
  },
  {
   "cell_type": "code",
   "execution_count": null,
   "metadata": {},
   "outputs": [
    {
     "name": "stdout",
     "output_type": "stream",
     "text": [
      "P-value: 0.9197817830592261\n",
      "No se puede rechazar la hipótesis nula: no hay una diferencia significativa entre las proporciones\n"
     ]
    }
   ],
   "source": [
    "p, rechazar = prueba_z(user_248_offers, group_248, user_247_offers, group_247, alpha=0.1)\n",
    "print(f\"P-value: {p}\")\n",
    "if rechazar:\n",
    "    print(\"Rechazamos la hipótesis nula: hay una diferencia significativa entre las proporciones\")\n",
    "else:\n",
    "    print(\"No se puede rechazar la hipótesis nula: no hay una diferencia significativa entre las proporciones\")"
   ]
  },
  {
   "cell_type": "markdown",
   "metadata": {},
   "source": [
    "**Prueba 7 - evento CartScreenAppear** "
   ]
  },
  {
   "cell_type": "markdown",
   "metadata": {},
   "source": [
    "- H0: Las proporciones de conversión de los grupos 247 y 248 en el evento CartScreenAppear son iguales \n",
    "- H1: Las proporciones de conversión de los grupos 247 y 248 en el evento CartScreenAppear son diferentes"
   ]
  },
  {
   "cell_type": "code",
   "execution_count": null,
   "metadata": {},
   "outputs": [
    {
     "name": "stdout",
     "output_type": "stream",
     "text": [
      "P-value: 0.5786197879539783\n",
      "No se puede rechazar la hipótesis nula: no hay una diferencia significativa entre las proporciones\n"
     ]
    }
   ],
   "source": [
    "p, rechazar = prueba_z(user_248_cart, group_248, user_247_cart, group_247, alpha=0.1)\n",
    "print(f\"P-value: {p}\")\n",
    "if rechazar:\n",
    "    print(\"Rechazamos la hipótesis nula: hay una diferencia significativa entre las proporciones\")\n",
    "else:\n",
    "    print(\"No se puede rechazar la hipótesis nula: no hay una diferencia significativa entre las proporciones\")"
   ]
  },
  {
   "cell_type": "markdown",
   "metadata": {},
   "source": [
    "**Prueba 8 - evento PaymentScreenSuccessful**"
   ]
  },
  {
   "cell_type": "markdown",
   "metadata": {},
   "source": [
    "- H0: Las proporciones de conversión de los grupos 247 y 248 en el evento PaymentScreenSuccessful son iguales \n",
    "- H1: Las proporciones de conversión de los grupos 247 y 248 en el evento PaymentScreenSuccessful son diferentes"
   ]
  },
  {
   "cell_type": "code",
   "execution_count": null,
   "metadata": {},
   "outputs": [
    {
     "name": "stdout",
     "output_type": "stream",
     "text": [
      "P-value: 0.7373415053803964\n",
      "No se puede rechazar la hipótesis nula: no hay una diferencia significativa entre las proporciones\n"
     ]
    }
   ],
   "source": [
    "p, rechazar = prueba_z(user_248_payment, group_248, user_247_payment, group_247, alpha=0.1)\n",
    "print(f\"P-value: {p}\")\n",
    "if rechazar:\n",
    "    print(\"Rechazamos la hipótesis nula: hay una diferencia significativa entre las proporciones\")\n",
    "else:\n",
    "    print(\"No se puede rechazar la hipótesis nula: no hay una diferencia significativa entre las proporciones\")"
   ]
  },
  {
   "cell_type": "markdown",
   "metadata": {},
   "source": [
    "#### Grupo 248 vs Grupo combinado (246 y 247)"
   ]
  },
  {
   "cell_type": "markdown",
   "metadata": {},
   "source": [
    "**Prueba 9 - evento MainScreenAppear** "
   ]
  },
  {
   "cell_type": "markdown",
   "metadata": {},
   "source": [
    "- H0: Las proporciones de conversión del grupo combinado y el grupo 248 en el evento MainScreenAppear son iguales \n",
    "- H1: Las proporciones de conversión del grupo combinado y el grupo 248 en el evento MainScreenAppear son diferentes"
   ]
  },
  {
   "cell_type": "code",
   "execution_count": null,
   "metadata": {},
   "outputs": [
    {
     "data": {
      "text/plain": [
       "4997"
      ]
     },
     "execution_count": 77,
     "metadata": {},
     "output_type": "execute_result"
    }
   ],
   "source": [
    "combinated_group = group_246 + group_247\n",
    "combinated_group"
   ]
  },
  {
   "cell_type": "code",
   "execution_count": null,
   "metadata": {},
   "outputs": [
    {
     "data": {
      "text/plain": [
       "4926.0"
      ]
     },
     "execution_count": 78,
     "metadata": {},
     "output_type": "execute_result"
    }
   ],
   "source": [
    "combinated_group_main_screen = user_246_main_screen + user_247_main_screen\n",
    "\n",
    "combinated_group_main_screen \n"
   ]
  },
  {
   "cell_type": "code",
   "execution_count": null,
   "metadata": {},
   "outputs": [
    {
     "name": "stdout",
     "output_type": "stream",
     "text": [
      "P-value: 0.29424526837179577\n",
      "No se puede rechazar la hipótesis nula: no hay una diferencia significativa entre las proporciones\n"
     ]
    }
   ],
   "source": [
    "p, rechazar = prueba_z(user_248_main_screen, group_248, combinated_group_main_screen, combinated_group, alpha=0.1)\n",
    "print(f\"P-value: {p}\")\n",
    "if rechazar:\n",
    "    print(\"Rechazamos la hipótesis nula: hay una diferencia significativa entre las proporciones\")\n",
    "else:\n",
    "    print(\"No se puede rechazar la hipótesis nula: no hay una diferencia significativa entre las proporciones\")"
   ]
  },
  {
   "cell_type": "markdown",
   "metadata": {},
   "source": [
    "**Prueba 10 - evento OffersScreenAppear** "
   ]
  },
  {
   "cell_type": "markdown",
   "metadata": {},
   "source": [
    "- H0: Las proporciones de conversión del grupo combinado y el grupo 248 en el evento OffersScreenAppear son iguales \n",
    "- H1: Las proporciones de conversión del grupo combinado y el grupo 248 en el evento OffersScreenAppear son diferentes"
   ]
  },
  {
   "cell_type": "code",
   "execution_count": null,
   "metadata": {},
   "outputs": [
    {
     "data": {
      "text/plain": [
       "3062.0"
      ]
     },
     "execution_count": 80,
     "metadata": {},
     "output_type": "execute_result"
    }
   ],
   "source": [
    "combinated_group_offers = user_246_offers + user_247_offers\n",
    "\n",
    "combinated_group_offers\n"
   ]
  },
  {
   "cell_type": "code",
   "execution_count": null,
   "metadata": {},
   "outputs": [
    {
     "name": "stdout",
     "output_type": "stream",
     "text": [
      "P-value: 0.43425549655188256\n",
      "No se puede rechazar la hipótesis nula: no hay una diferencia significativa entre las proporciones\n"
     ]
    }
   ],
   "source": [
    "p, rechazar = prueba_z(user_248_offers, group_248, combinated_group_offers, combinated_group, alpha=0.1)\n",
    "print(f\"P-value: {p}\")\n",
    "if rechazar:\n",
    "    print(\"Rechazamos la hipótesis nula: hay una diferencia significativa entre las proporciones\")\n",
    "else:\n",
    "    print(\"No se puede rechazar la hipótesis nula: no hay una diferencia significativa entre las proporciones\")"
   ]
  },
  {
   "cell_type": "markdown",
   "metadata": {},
   "source": [
    "**Prueba 11 - evento CartScreenAppear** "
   ]
  },
  {
   "cell_type": "markdown",
   "metadata": {},
   "source": [
    "- H0: Las proporciones de conversión del grupo combinado y el grupo 248 en el evento CartScreenAppear son iguales \n",
    "- H1: Las proporciones de conversión del grupo combinado y el grupo 248 en el evento CartScreenAppear son diferentes"
   ]
  },
  {
   "cell_type": "code",
   "execution_count": null,
   "metadata": {},
   "outputs": [
    {
     "data": {
      "text/plain": [
       "2504.0"
      ]
     },
     "execution_count": 82,
     "metadata": {},
     "output_type": "execute_result"
    }
   ],
   "source": [
    "combinated_group_cart = user_246_cart + user_247_cart\n",
    "\n",
    "combinated_group_cart"
   ]
  },
  {
   "cell_type": "code",
   "execution_count": null,
   "metadata": {},
   "outputs": [
    {
     "name": "stdout",
     "output_type": "stream",
     "text": [
      "P-value: 0.18175875284404386\n",
      "No se puede rechazar la hipótesis nula: no hay una diferencia significativa entre las proporciones\n"
     ]
    }
   ],
   "source": [
    "p, rechazar = prueba_z(user_248_cart, group_248, combinated_group_cart, combinated_group, alpha=0.1)\n",
    "print(f\"P-value: {p}\")\n",
    "if rechazar:\n",
    "    print(\"Rechazamos la hipótesis nula: hay una diferencia significativa entre las proporciones\")\n",
    "else:\n",
    "    print(\"No se puede rechazar la hipótesis nula: no hay una diferencia significativa entre las proporciones\")"
   ]
  },
  {
   "cell_type": "markdown",
   "metadata": {},
   "source": [
    "**Prueba 12 - evento PaymentScreenSuccessful** "
   ]
  },
  {
   "cell_type": "markdown",
   "metadata": {},
   "source": [
    "- H0: Las proporciones de conversión del grupo combinado y el grupo 248 en el evento PaymentScreenSuccessful son iguales \n",
    "- H1: Las proporciones de conversión del grupo combinado y el grupo 248 en el evento PaymentScreenSuccessful son diferentes"
   ]
  },
  {
   "cell_type": "code",
   "execution_count": null,
   "metadata": {},
   "outputs": [
    {
     "data": {
      "text/plain": [
       "2358.0"
      ]
     },
     "execution_count": 84,
     "metadata": {},
     "output_type": "execute_result"
    }
   ],
   "source": [
    "combinated_group_payment = user_246_payment + user_247_payment\n",
    "\n",
    "combinated_group_payment"
   ]
  },
  {
   "cell_type": "code",
   "execution_count": null,
   "metadata": {},
   "outputs": [
    {
     "name": "stdout",
     "output_type": "stream",
     "text": [
      "P-value: 0.18175875284404386\n",
      "No se puede rechazar la hipótesis nula: no hay una diferencia significativa entre las proporciones\n"
     ]
    }
   ],
   "source": [
    "p, rechazar = prueba_z(user_248_cart, group_248, combinated_group_cart, combinated_group, alpha=0.1)\n",
    "print(f\"P-value: {p}\")\n",
    "if rechazar:\n",
    "    print(\"Rechazamos la hipótesis nula: hay una diferencia significativa entre las proporciones\")\n",
    "else:\n",
    "    print(\"No se puede rechazar la hipótesis nula: no hay una diferencia significativa entre las proporciones\")"
   ]
  },
  {
   "cell_type": "markdown",
   "metadata": {},
   "source": [
    "### Ajuste del nivel de significancia estadística"
   ]
  },
  {
   "cell_type": "code",
   "execution_count": null,
   "metadata": {},
   "outputs": [
    {
     "name": "stdout",
     "output_type": "stream",
     "text": [
      "la probabilidad de un falso positivo es de:  0.7175704635189999\n"
     ]
    }
   ],
   "source": [
    "n_pruebas = 12\n",
    "significancia = 0.1\n",
    "\n",
    "print(\"la probabilidad de un falso positivo es de: \", (1 - (1-significancia)**n_pruebas))"
   ]
  },
  {
   "cell_type": "code",
   "execution_count": null,
   "metadata": {},
   "outputs": [
    {
     "name": "stdout",
     "output_type": "stream",
     "text": [
      "la probabilidad de un falso positivo es de:  0.11361512828387077\n"
     ]
    }
   ],
   "source": [
    "n_pruebas = 12\n",
    "significancia = 0.01\n",
    "\n",
    "print(\"la probabilidad de un falso positivo es de: \", (1 - (1-significancia)**n_pruebas))"
   ]
  },
  {
   "cell_type": "markdown",
   "metadata": {},
   "source": [
    "Si es que se usa una significancia estadística de 0.1 en las 12 pruebas realizadas, la probabilidad de obtener un resultado falso es de alrededor del 72%. En cambio, si es que la significancia estadística fuera 0.01 la probabilidad de obtener un resultado erróneo sería del 11%. Por ello, se cambiará el nivel de significancia estadística a .01 para todas las pruebas, con la finalidad de verificar los resultados previos."
   ]
  },
  {
   "cell_type": "markdown",
   "metadata": {},
   "source": [
    "#### Grupo 248 vs Grupo 246"
   ]
  },
  {
   "cell_type": "markdown",
   "metadata": {},
   "source": [
    "**Prueba 1 - evento MainScreenAppear** \n",
    "- H0: Las proporciones de conversión de los grupos 246 y 248 en el evento MainScreenAppear son iguales \n",
    "- H1: Las proporciones de conversión de los grupos 246 y 248 en el evento MainScreenAppear son diferentes"
   ]
  },
  {
   "cell_type": "code",
   "execution_count": null,
   "metadata": {},
   "outputs": [],
   "source": [
    "def prueba_z(eventos1, n1, eventos2, n2, alpha=0.01):\n",
    "    p1 = eventos1 / n1\n",
    "    p2 = eventos2 / n2\n",
    "    p_combined = (eventos1 + eventos2) / (n1 + n2)\n",
    "    difference = p1-p2\n",
    "    z_value = difference/mth.sqrt(p_combined * (1 - p_combined) * (1/n1 + 1/n2))\n",
    "    p_value = (1 - distr.cdf(abs(z_value))) * 2\n",
    "    \n",
    "    reject_null = p_value < alpha\n",
    "    return p_value, reject_null\n",
    "    "
   ]
  },
  {
   "cell_type": "code",
   "execution_count": null,
   "metadata": {},
   "outputs": [
    {
     "name": "stdout",
     "output_type": "stream",
     "text": [
      "P-value: 0.2949721933554552\n",
      "No se puede rechazar la hipótesis nula: no hay una diferencia significativa entre las proporciones\n"
     ]
    }
   ],
   "source": [
    "p, rechazar = prueba_z(user_248_main_screen, group_248, user_246_main_screen , group_246, alpha=0.01)\n",
    "print(f\"P-value: {p}\")\n",
    "if rechazar:\n",
    "    print(\"Rechazamos la hipótesis nula: hay una diferencia significativa entre las proporciones\")\n",
    "else:\n",
    "    print(\"No se puede rechazar la hipótesis nula: no hay una diferencia significativa entre las proporciones\")"
   ]
  },
  {
   "cell_type": "markdown",
   "metadata": {},
   "source": [
    "El resultado anterior se mantiene, no hay una diferencia significativa entre las proporciones."
   ]
  },
  {
   "cell_type": "markdown",
   "metadata": {},
   "source": [
    "**Prueba 2 - evento OffersScreenAppear** \n",
    "- H0: Las proporciones de conversión de los grupos 246 y 248 en el evento OffersScreenAppear son iguales \n",
    "- H1: Las proporciones de conversión de los grupos 246 y 248 en el evento OffersScreenAppear son diferentes"
   ]
  },
  {
   "cell_type": "code",
   "execution_count": null,
   "metadata": {},
   "outputs": [
    {
     "name": "stdout",
     "output_type": "stream",
     "text": [
      "P-value: 0.20836205402738917\n",
      "No se puede rechazar la hipótesis nula: no hay una diferencia significativa entre las proporciones\n"
     ]
    }
   ],
   "source": [
    "p, rechazar = prueba_z(user_248_offers, group_248, user_246_offers , group_246, alpha=0.01)\n",
    "print(f\"P-value: {p}\")\n",
    "if rechazar:\n",
    "    print(\"Rechazamos la hipótesis nula: hay una diferencia significativa entre las proporciones\")\n",
    "else:\n",
    "    print(\"No se puede rechazar la hipótesis nula: no hay una diferencia significativa entre las proporciones\")"
   ]
  },
  {
   "cell_type": "markdown",
   "metadata": {},
   "source": [
    "El resultado anterior se mantiene, no hay una diferencia significativa entre las proporciones."
   ]
  },
  {
   "cell_type": "markdown",
   "metadata": {},
   "source": [
    "**Prueba 3 - evento CartScreenAppear** \n",
    "- H0: Las proporciones de conversión de los grupos 246 y 248 en el evento CartScreenAppear son iguales \n",
    "- H1: Las proporciones de conversión de los grupos 246 y 248 en el evento CartsScreenAppear son diferentes"
   ]
  },
  {
   "cell_type": "code",
   "execution_count": null,
   "metadata": {},
   "outputs": [
    {
     "name": "stdout",
     "output_type": "stream",
     "text": [
      "P-value: 0.07842923237520116\n",
      "No se puede rechazar la hipótesis nula: no hay una diferencia significativa entre las proporciones\n"
     ]
    }
   ],
   "source": [
    "p, rechazar = prueba_z(user_248_cart, group_248, user_246_cart , group_246, alpha=0.01)\n",
    "print(f\"P-value: {p}\")\n",
    "if rechazar:\n",
    "    print(\"Rechazamos la hipótesis nula: hay una diferencia significativa entre las proporciones\")\n",
    "else:\n",
    "    print(\"No se puede rechazar la hipótesis nula: no hay una diferencia significativa entre las proporciones\")"
   ]
  },
  {
   "cell_type": "markdown",
   "metadata": {},
   "source": [
    "A diferencia de la primera prueba, con un nivel de significancia más estricto, no se encuentra una diferencia significativa entre las proporciones de conversión de los grupos 246 y 248 en el evento CartScreenAppear."
   ]
  },
  {
   "cell_type": "markdown",
   "metadata": {},
   "source": [
    "**Prueba 4 - evento PaymentScreenSuccessful** \n",
    "\n",
    "- H0: Las proporciones de conversión de los grupos 246 y 248 en el evento PaymentScreenSuccessful son iguales \n",
    "- H1: Las proporciones de conversión de los grupos 246 y 248 en el evento PaymentScreenSuccessful son diferentes"
   ]
  },
  {
   "cell_type": "code",
   "execution_count": null,
   "metadata": {},
   "outputs": [
    {
     "name": "stdout",
     "output_type": "stream",
     "text": [
      "P-value: 0.2122553275697796\n",
      "No se puede rechazar la hipótesis nula: no hay una diferencia significativa entre las proporciones\n"
     ]
    }
   ],
   "source": [
    "p, rechazar = prueba_z(user_248_payment, group_248, user_246_payment , group_246, alpha=0.01)\n",
    "print(f\"P-value: {p}\")\n",
    "if rechazar:\n",
    "    print(\"Rechazamos la hipótesis nula: hay una diferencia significativa entre las proporciones\")\n",
    "else:\n",
    "    print(\"No se puede rechazar la hipótesis nula: no hay una diferencia significativa entre las proporciones\")"
   ]
  },
  {
   "cell_type": "markdown",
   "metadata": {},
   "source": [
    "El resultado anterior se mantiene, no hay una diferencia significativa entre las proporciones."
   ]
  },
  {
   "cell_type": "markdown",
   "metadata": {},
   "source": [
    "#### Grupo 248 vs Grupo 247"
   ]
  },
  {
   "cell_type": "markdown",
   "metadata": {},
   "source": [
    "**Prueba 5 - evento MainScreenAppear** \n",
    "- H0: Las proporciones de conversión de los grupos 247 y 248 en el evento MainScreenAppear son iguales \n",
    "- H1: Las proporciones de conversión de los grupos 247 y 248 en el evento MainScreenAppear son diferentes"
   ]
  },
  {
   "cell_type": "code",
   "execution_count": null,
   "metadata": {},
   "outputs": [
    {
     "name": "stdout",
     "output_type": "stream",
     "text": [
      "P-value: 0.4587053616621515\n",
      "No se puede rechazar la hipótesis nula: no hay una diferencia significativa entre las proporciones\n"
     ]
    }
   ],
   "source": [
    "p, rechazar = prueba_z(user_248_main_screen, group_248, user_247_main_screen, group_247, alpha=0.01)\n",
    "print(f\"P-value: {p}\")\n",
    "if rechazar:\n",
    "    print(\"Rechazamos la hipótesis nula: hay una diferencia significativa entre las proporciones\")\n",
    "else:\n",
    "    print(\"No se puede rechazar la hipótesis nula: no hay una diferencia significativa entre las proporciones\")"
   ]
  },
  {
   "cell_type": "markdown",
   "metadata": {},
   "source": [
    "El resultado anterior se mantiene, no hay una diferencia significativa entre las proporciones."
   ]
  },
  {
   "cell_type": "markdown",
   "metadata": {},
   "source": [
    "**Prueba 6 - evento OffersScreenAppear** \n",
    "- H0: Las proporciones de conversión de los grupos 247 y 248 en el evento OffersScreenAppear son iguales \n",
    "- H1: Las proporciones de conversión de los grupos 247 y 248 en el evento OffersScreenAppear son diferentes"
   ]
  },
  {
   "cell_type": "code",
   "execution_count": null,
   "metadata": {},
   "outputs": [
    {
     "name": "stdout",
     "output_type": "stream",
     "text": [
      "P-value: 0.9197817830592261\n",
      "No se puede rechazar la hipótesis nula: no hay una diferencia significativa entre las proporciones\n"
     ]
    }
   ],
   "source": [
    "p, rechazar = prueba_z(user_248_offers, group_248, user_247_offers, group_247, alpha=0.01)\n",
    "print(f\"P-value: {p}\")\n",
    "if rechazar:\n",
    "    print(\"Rechazamos la hipótesis nula: hay una diferencia significativa entre las proporciones\")\n",
    "else:\n",
    "    print(\"No se puede rechazar la hipótesis nula: no hay una diferencia significativa entre las proporciones\")"
   ]
  },
  {
   "cell_type": "markdown",
   "metadata": {},
   "source": [
    "El resultado anterior se mantiene, no hay una diferencia significativa entre las proporciones."
   ]
  },
  {
   "cell_type": "markdown",
   "metadata": {},
   "source": [
    "**Prueba 7 - evento CartScreenAppear** \n",
    "- H0: Las proporciones de conversión de los grupos 247 y 248 en el evento CartScreenAppear son iguales \n",
    "- H1: Las proporciones de conversión de los grupos 247 y 248 en el evento CartScreenAppear son diferentes"
   ]
  },
  {
   "cell_type": "code",
   "execution_count": null,
   "metadata": {},
   "outputs": [
    {
     "name": "stdout",
     "output_type": "stream",
     "text": [
      "P-value: 0.5786197879539783\n",
      "No se puede rechazar la hipótesis nula: no hay una diferencia significativa entre las proporciones\n"
     ]
    }
   ],
   "source": [
    "p, rechazar = prueba_z(user_248_cart, group_248, user_247_cart, group_247, alpha=0.01)\n",
    "print(f\"P-value: {p}\")\n",
    "if rechazar:\n",
    "    print(\"Rechazamos la hipótesis nula: hay una diferencia significativa entre las proporciones\")\n",
    "else:\n",
    "    print(\"No se puede rechazar la hipótesis nula: no hay una diferencia significativa entre las proporciones\")"
   ]
  },
  {
   "cell_type": "markdown",
   "metadata": {},
   "source": [
    "El resultado anterior se mantiene, no hay una diferencia significativa entre las proporciones."
   ]
  },
  {
   "cell_type": "markdown",
   "metadata": {},
   "source": [
    "**Prueba 8 - evento PaymentScreenSuccessful**\n",
    "- H0: Las proporciones de conversión de los grupos 247 y 248 en el evento PaymentScreenSuccessful son iguales \n",
    "- H1: Las proporciones de conversión de los grupos 247 y 248 en el evento PaymentScreenSuccessful son diferentes"
   ]
  },
  {
   "cell_type": "code",
   "execution_count": null,
   "metadata": {},
   "outputs": [
    {
     "name": "stdout",
     "output_type": "stream",
     "text": [
      "P-value: 0.7373415053803964\n",
      "No se puede rechazar la hipótesis nula: no hay una diferencia significativa entre las proporciones\n"
     ]
    }
   ],
   "source": [
    "p, rechazar = prueba_z(user_248_payment, group_248, user_247_payment, group_247, alpha=0.01)\n",
    "print(f\"P-value: {p}\")\n",
    "if rechazar:\n",
    "    print(\"Rechazamos la hipótesis nula: hay una diferencia significativa entre las proporciones\")\n",
    "else:\n",
    "    print(\"No se puede rechazar la hipótesis nula: no hay una diferencia significativa entre las proporciones\")"
   ]
  },
  {
   "cell_type": "markdown",
   "metadata": {},
   "source": [
    "El resultado anterior se mantiene, no hay una diferencia significativa entre las proporciones."
   ]
  },
  {
   "cell_type": "markdown",
   "metadata": {},
   "source": [
    "#### Grupo 248 vs Grupo combinado (246 y 247)"
   ]
  },
  {
   "cell_type": "markdown",
   "metadata": {},
   "source": [
    "**Prueba 9 - evento MainScreenAppear** \n",
    "- H0: Las proporciones de conversión del grupo combinado y el grupo 248 en el evento MainScreenAppear son iguales \n",
    "- H1: Las proporciones de conversión del grupo combinado y el grupo 248 en el evento MainScreenAppear son diferentes"
   ]
  },
  {
   "cell_type": "code",
   "execution_count": null,
   "metadata": {},
   "outputs": [
    {
     "name": "stdout",
     "output_type": "stream",
     "text": [
      "P-value: 0.29424526837179577\n",
      "No se puede rechazar la hipótesis nula: no hay una diferencia significativa entre las proporciones\n"
     ]
    }
   ],
   "source": [
    "p, rechazar = prueba_z(user_248_main_screen, group_248, combinated_group_main_screen, combinated_group, alpha=0.01)\n",
    "print(f\"P-value: {p}\")\n",
    "if rechazar:\n",
    "    print(\"Rechazamos la hipótesis nula: hay una diferencia significativa entre las proporciones\")\n",
    "else:\n",
    "    print(\"No se puede rechazar la hipótesis nula: no hay una diferencia significativa entre las proporciones\")"
   ]
  },
  {
   "cell_type": "markdown",
   "metadata": {},
   "source": [
    "El resultado anterior se mantiene, no hay una diferencia significativa entre las proporciones."
   ]
  },
  {
   "cell_type": "markdown",
   "metadata": {},
   "source": [
    "**Prueba 10 - evento OffersScreenAppear** \n",
    "- H0: Las proporciones de conversión del grupo combinado y el grupo 248 en el evento OffersScreenAppear son iguales \n",
    "- H1: Las proporciones de conversión del grupo combinado y el grupo 248 en el evento OffersScreenAppear son diferentes"
   ]
  },
  {
   "cell_type": "code",
   "execution_count": null,
   "metadata": {},
   "outputs": [
    {
     "name": "stdout",
     "output_type": "stream",
     "text": [
      "P-value: 0.43425549655188256\n",
      "No se puede rechazar la hipótesis nula: no hay una diferencia significativa entre las proporciones\n"
     ]
    }
   ],
   "source": [
    "p, rechazar = prueba_z(user_248_offers, group_248, combinated_group_offers, combinated_group, alpha=0.01)\n",
    "print(f\"P-value: {p}\")\n",
    "if rechazar:\n",
    "    print(\"Rechazamos la hipótesis nula: hay una diferencia significativa entre las proporciones\")\n",
    "else:\n",
    "    print(\"No se puede rechazar la hipótesis nula: no hay una diferencia significativa entre las proporciones\")"
   ]
  },
  {
   "cell_type": "markdown",
   "metadata": {},
   "source": [
    "El resultado anterior se mantiene, no hay una diferencia significativa entre las proporciones."
   ]
  },
  {
   "cell_type": "markdown",
   "metadata": {},
   "source": [
    "**Prueba 11 - evento CartScreenAppear** \n",
    "- H0: Las proporciones de conversión del grupo combinado y el grupo 248 en el evento CartScreenAppear son iguales \n",
    "- H1: Las proporciones de conversión del grupo combinado y el grupo 248 en el evento CartsScreenAppear son diferentes"
   ]
  },
  {
   "cell_type": "code",
   "execution_count": null,
   "metadata": {},
   "outputs": [
    {
     "name": "stdout",
     "output_type": "stream",
     "text": [
      "P-value: 0.18175875284404386\n",
      "No se puede rechazar la hipótesis nula: no hay una diferencia significativa entre las proporciones\n"
     ]
    }
   ],
   "source": [
    "p, rechazar = prueba_z(user_248_cart, group_248, combinated_group_cart, combinated_group, alpha=0.01)\n",
    "print(f\"P-value: {p}\")\n",
    "if rechazar:\n",
    "    print(\"Rechazamos la hipótesis nula: hay una diferencia significativa entre las proporciones\")\n",
    "else:\n",
    "    print(\"No se puede rechazar la hipótesis nula: no hay una diferencia significativa entre las proporciones\")"
   ]
  },
  {
   "cell_type": "markdown",
   "metadata": {},
   "source": [
    "El resultado anterior se mantiene, no hay una diferencia significativa entre las proporciones."
   ]
  },
  {
   "cell_type": "markdown",
   "metadata": {},
   "source": [
    "**Prueba 12 - evento PaymentScreenSuccessful** \n",
    "- H0: Las proporciones de conversión del grupo combinado y el grupo 248 en el evento PaymentScreenSuccessful son iguales \n",
    "- H1: Las proporciones de conversión del grupo combinado y el grupo 248 en el evento PaymentScreenSuccessful son diferentes"
   ]
  },
  {
   "cell_type": "code",
   "execution_count": null,
   "metadata": {},
   "outputs": [
    {
     "name": "stdout",
     "output_type": "stream",
     "text": [
      "P-value: 0.20836205402738917\n",
      "No se puede rechazar la hipótesis nula: no hay una diferencia significativa entre las proporciones\n"
     ]
    }
   ],
   "source": [
    "p, rechazar = prueba_z(user_248_offers, group_248, user_246_offers , group_246, alpha=0.01)\n",
    "print(f\"P-value: {p}\")\n",
    "if rechazar:\n",
    "    print(\"Rechazamos la hipótesis nula: hay una diferencia significativa entre las proporciones\")\n",
    "else:\n",
    "    print(\"No se puede rechazar la hipótesis nula: no hay una diferencia significativa entre las proporciones\")"
   ]
  },
  {
   "cell_type": "markdown",
   "metadata": {},
   "source": [
    "El resultado anterior se mantiene, no hay una diferencia significativa entre las proporciones."
   ]
  },
  {
   "cell_type": "markdown",
   "metadata": {},
   "source": [
    "## Conclusiones"
   ]
  },
  {
   "cell_type": "markdown",
   "metadata": {},
   "source": [
    "Con base en el análisis realizado, se llegaron a las siguientes conclusiones:\n",
    "1. En promedio, cada usuario(a) pasa por alrededor de 3 eventos diferentes. Además, el evento más popular es la visualización de la pantalla principal (MainScreenAppear) seguido  por la visualización de las ofertas (OffersScreenAppear), la visualización del carrito de compras (CartScreenAppear) y la realización del pago (PaymentScreenSuccesful). Por su lado, el evento Tutorial parece ser un paso opcional para los(as) usuarios(as). \n",
    "\n",
    "\n",
    "2. En cuanto a la conversión, se pudo obtener que solo el 18,4% de los usuarios(as) pasa por todos los eventos hasta realizar el pago. Además, la etapa en la que se pierden más usuarios(as) es el momento en el que se les muestra las ofertas, ya que el 61% de los usuarios iniciales que vieron la página principal llegan a dicha etapa. El resto de etapas tienen buenas tasas de conversión entre el entre 81% y 95%. \n",
    "\n",
    "\n",
    "3. En cuanto a los resultados del test A/A/B, primero se comprobó que no existían diferencias significativas entre los grupos de control y que estos se dividieron correctamente. Posteriormente, se compararon las proporciones de las conversiones de cada evento del grupo de prueba contra cada uno de los grupos de control y los grupos combinados. \n",
    "\n",
    "\n",
    "4. En un inicio no se encontraron diferencias estadísticamente significativas en las proporciones de ningún evento, a excepción de la comparación de las proporciones del grupo 246 y el grupo 248 en el evento CartScreenAppear, la cual sí mostró diferencias estadísticamente significativas. Sin embargo, al ajustar el nivel de significancia estadísticas para reducir la probabilidad de obtener un resultado falso, no se encontraron diferencias significativas en ningunas de las comparaciones de proporciones en ningún evento. \n",
    "\n",
    "\n",
    "5. Por ello, se puede concluir que no existen diferencias significativas entre las tasas de conversión del grupo con fuentes alteradas y los grupos de control. En esa línea, se puede decir que es seguro cambiar las fuentes de toda la aplicación, ya que no parece afectar las tasas de conversión de los usuarios en ninguno de los eventos. "
   ]
  },
  {
   "cell_type": "code",
   "execution_count": null,
   "metadata": {},
   "outputs": [],
   "source": []
  }
 ],
 "metadata": {
  "ExecuteTimeLog": [
   {
    "duration": 887,
    "start_time": "2024-08-20T23:51:04.495Z"
   },
   {
    "duration": 340,
    "start_time": "2024-08-20T23:52:44.570Z"
   },
   {
    "duration": 351,
    "start_time": "2024-08-20T23:52:50.420Z"
   },
   {
    "duration": 8,
    "start_time": "2024-08-20T23:53:15.126Z"
   },
   {
    "duration": 5,
    "start_time": "2024-08-20T23:53:17.820Z"
   },
   {
    "duration": 6,
    "start_time": "2024-08-20T23:53:21.628Z"
   },
   {
    "duration": 316,
    "start_time": "2024-08-20T23:54:12.316Z"
   },
   {
    "duration": 331,
    "start_time": "2024-08-20T23:54:32.208Z"
   },
   {
    "duration": 6,
    "start_time": "2024-08-20T23:54:53.040Z"
   },
   {
    "duration": 6,
    "start_time": "2024-08-20T23:55:14.768Z"
   },
   {
    "duration": 312,
    "start_time": "2024-08-20T23:55:23.454Z"
   },
   {
    "duration": 6,
    "start_time": "2024-08-20T23:55:43.331Z"
   },
   {
    "duration": 201,
    "start_time": "2024-08-20T23:55:49.676Z"
   },
   {
    "duration": 25,
    "start_time": "2024-08-20T23:57:03.046Z"
   },
   {
    "duration": 66,
    "start_time": "2024-08-20T23:59:44.003Z"
   },
   {
    "duration": 72,
    "start_time": "2024-08-21T00:08:39.056Z"
   },
   {
    "duration": 78,
    "start_time": "2024-08-21T00:09:55.469Z"
   },
   {
    "duration": 76,
    "start_time": "2024-08-21T00:11:12.302Z"
   },
   {
    "duration": 86,
    "start_time": "2024-08-21T00:12:35.824Z"
   },
   {
    "duration": 97,
    "start_time": "2024-08-21T00:12:45.791Z"
   },
   {
    "duration": 6,
    "start_time": "2024-08-21T00:23:49.189Z"
   },
   {
    "duration": 6,
    "start_time": "2024-08-21T00:35:10.316Z"
   },
   {
    "duration": 6,
    "start_time": "2024-08-21T00:35:42.082Z"
   },
   {
    "duration": 1624,
    "start_time": "2024-08-21T00:35:43.925Z"
   },
   {
    "duration": 7,
    "start_time": "2024-08-21T00:35:52.683Z"
   },
   {
    "duration": 77,
    "start_time": "2024-08-21T00:35:53.963Z"
   },
   {
    "duration": 846,
    "start_time": "2024-08-21T00:36:14.778Z"
   },
   {
    "duration": 201,
    "start_time": "2024-08-21T00:36:15.628Z"
   },
   {
    "duration": 26,
    "start_time": "2024-08-21T00:36:15.831Z"
   },
   {
    "duration": 99,
    "start_time": "2024-08-21T00:36:15.861Z"
   },
   {
    "duration": 88,
    "start_time": "2024-08-21T00:36:15.962Z"
   },
   {
    "duration": 107,
    "start_time": "2024-08-21T00:36:16.053Z"
   },
   {
    "duration": 8,
    "start_time": "2024-08-21T00:36:16.163Z"
   },
   {
    "duration": 306,
    "start_time": "2024-08-21T00:36:16.173Z"
   },
   {
    "duration": 11,
    "start_time": "2024-08-21T00:39:58.778Z"
   },
   {
    "duration": 22,
    "start_time": "2024-08-21T00:40:05.854Z"
   },
   {
    "duration": 29,
    "start_time": "2024-08-21T00:41:32.952Z"
   },
   {
    "duration": 957,
    "start_time": "2024-08-21T00:43:28.010Z"
   },
   {
    "duration": 215,
    "start_time": "2024-08-21T00:43:28.971Z"
   },
   {
    "duration": 40,
    "start_time": "2024-08-21T00:43:29.189Z"
   },
   {
    "duration": 94,
    "start_time": "2024-08-21T00:43:29.234Z"
   },
   {
    "duration": 110,
    "start_time": "2024-08-21T00:43:29.331Z"
   },
   {
    "duration": 117,
    "start_time": "2024-08-21T00:43:29.447Z"
   },
   {
    "duration": 13,
    "start_time": "2024-08-21T00:43:29.566Z"
   },
   {
    "duration": 352,
    "start_time": "2024-08-21T00:43:29.584Z"
   },
   {
    "duration": 22,
    "start_time": "2024-08-21T00:44:00.939Z"
   },
   {
    "duration": 1293,
    "start_time": "2024-08-21T00:44:27.814Z"
   },
   {
    "duration": 969,
    "start_time": "2024-08-21T00:45:15.006Z"
   },
   {
    "duration": 216,
    "start_time": "2024-08-21T00:45:15.980Z"
   },
   {
    "duration": 39,
    "start_time": "2024-08-21T00:45:16.199Z"
   },
   {
    "duration": 107,
    "start_time": "2024-08-21T00:45:16.243Z"
   },
   {
    "duration": 96,
    "start_time": "2024-08-21T00:45:16.354Z"
   },
   {
    "duration": 118,
    "start_time": "2024-08-21T00:45:16.453Z"
   },
   {
    "duration": 1289,
    "start_time": "2024-08-21T00:45:16.573Z"
   },
   {
    "duration": 0,
    "start_time": "2024-08-21T00:45:17.866Z"
   },
   {
    "duration": 112,
    "start_time": "2024-08-21T00:46:11.641Z"
   },
   {
    "duration": 114,
    "start_time": "2024-08-21T00:46:17.165Z"
   },
   {
    "duration": 114,
    "start_time": "2024-08-21T00:46:28.154Z"
   },
   {
    "duration": 135,
    "start_time": "2024-08-21T00:46:39.832Z"
   },
   {
    "duration": 117,
    "start_time": "2024-08-21T00:47:58.590Z"
   },
   {
    "duration": 134,
    "start_time": "2024-08-21T00:49:55.196Z"
   },
   {
    "duration": 154,
    "start_time": "2024-08-21T00:50:00.356Z"
   },
   {
    "duration": 940,
    "start_time": "2024-08-21T00:50:04.931Z"
   },
   {
    "duration": 209,
    "start_time": "2024-08-21T00:50:05.875Z"
   },
   {
    "duration": 39,
    "start_time": "2024-08-21T00:50:06.088Z"
   },
   {
    "duration": 109,
    "start_time": "2024-08-21T00:50:06.131Z"
   },
   {
    "duration": 96,
    "start_time": "2024-08-21T00:50:06.243Z"
   },
   {
    "duration": 123,
    "start_time": "2024-08-21T00:50:06.342Z"
   },
   {
    "duration": 468,
    "start_time": "2024-08-21T00:50:06.468Z"
   },
   {
    "duration": 0,
    "start_time": "2024-08-21T00:50:06.939Z"
   },
   {
    "duration": 17,
    "start_time": "2024-08-21T00:50:29.496Z"
   },
   {
    "duration": 334,
    "start_time": "2024-08-21T00:50:38.741Z"
   },
   {
    "duration": 58,
    "start_time": "2024-08-21T00:51:04.308Z"
   },
   {
    "duration": 26,
    "start_time": "2024-08-21T00:57:13.311Z"
   },
   {
    "duration": 91,
    "start_time": "2024-08-21T00:58:49.152Z"
   },
   {
    "duration": 73,
    "start_time": "2024-08-21T00:59:01.727Z"
   },
   {
    "duration": 337,
    "start_time": "2024-08-21T01:01:04.787Z"
   },
   {
    "duration": 13,
    "start_time": "2024-08-21T01:19:47.920Z"
   },
   {
    "duration": 104,
    "start_time": "2024-08-21T01:20:08.821Z"
   },
   {
    "duration": 5250,
    "start_time": "2024-08-21T01:34:28.380Z"
   },
   {
    "duration": 14,
    "start_time": "2024-08-21T04:24:55.489Z"
   },
   {
    "duration": 320,
    "start_time": "2024-08-21T04:25:13.843Z"
   },
   {
    "duration": 4759,
    "start_time": "2024-08-21T04:25:19.823Z"
   },
   {
    "duration": 232,
    "start_time": "2024-08-21T04:25:24.586Z"
   },
   {
    "duration": 33,
    "start_time": "2024-08-21T04:25:24.821Z"
   },
   {
    "duration": 93,
    "start_time": "2024-08-21T04:25:24.859Z"
   },
   {
    "duration": 88,
    "start_time": "2024-08-21T04:25:24.955Z"
   },
   {
    "duration": 124,
    "start_time": "2024-08-21T04:25:25.046Z"
   },
   {
    "duration": 11,
    "start_time": "2024-08-21T04:25:25.175Z"
   },
   {
    "duration": 40245,
    "start_time": "2024-08-21T04:25:25.189Z"
   },
   {
    "duration": 226,
    "start_time": "2024-08-21T04:30:38.416Z"
   },
   {
    "duration": 61,
    "start_time": "2024-08-21T04:40:53.118Z"
   },
   {
    "duration": 50,
    "start_time": "2024-08-21T04:44:56.078Z"
   },
   {
    "duration": 53,
    "start_time": "2024-08-21T04:48:24.748Z"
   },
   {
    "duration": 51,
    "start_time": "2024-08-21T04:49:04.353Z"
   },
   {
    "duration": 102,
    "start_time": "2024-08-21T04:49:17.258Z"
   },
   {
    "duration": 5,
    "start_time": "2024-08-21T04:49:37.398Z"
   },
   {
    "duration": 37,
    "start_time": "2024-08-21T04:52:47.667Z"
   },
   {
    "duration": 765,
    "start_time": "2024-08-21T04:56:01.358Z"
   },
   {
    "duration": 49,
    "start_time": "2024-08-21T04:58:30.763Z"
   },
   {
    "duration": 256,
    "start_time": "2024-08-21T04:58:55.115Z"
   },
   {
    "duration": 250,
    "start_time": "2024-08-21T05:00:38.965Z"
   },
   {
    "duration": 266,
    "start_time": "2024-08-21T05:01:18.720Z"
   },
   {
    "duration": 304,
    "start_time": "2024-08-21T05:01:55.046Z"
   },
   {
    "duration": 328,
    "start_time": "2024-08-21T05:02:04.358Z"
   },
   {
    "duration": 322,
    "start_time": "2024-08-21T05:02:12.048Z"
   },
   {
    "duration": 336,
    "start_time": "2024-08-21T05:02:24.408Z"
   },
   {
    "duration": 348,
    "start_time": "2024-08-21T05:02:49.248Z"
   },
   {
    "duration": 320,
    "start_time": "2024-08-21T05:03:02.878Z"
   },
   {
    "duration": 412,
    "start_time": "2024-08-21T05:07:45.728Z"
   },
   {
    "duration": 97,
    "start_time": "2024-08-21T05:08:12.696Z"
   },
   {
    "duration": 66,
    "start_time": "2024-08-21T05:08:32.916Z"
   },
   {
    "duration": 74,
    "start_time": "2024-08-21T05:08:42.309Z"
   },
   {
    "duration": 74,
    "start_time": "2024-08-21T05:08:47.934Z"
   },
   {
    "duration": 79,
    "start_time": "2024-08-21T05:10:56.494Z"
   },
   {
    "duration": 86,
    "start_time": "2024-08-21T05:12:43.120Z"
   },
   {
    "duration": 25,
    "start_time": "2024-08-21T05:13:25.000Z"
   },
   {
    "duration": 77,
    "start_time": "2024-08-21T05:17:08.438Z"
   },
   {
    "duration": 4938,
    "start_time": "2024-08-22T02:10:58.902Z"
   },
   {
    "duration": 231,
    "start_time": "2024-08-22T02:11:03.844Z"
   },
   {
    "duration": 39,
    "start_time": "2024-08-22T02:11:04.078Z"
   },
   {
    "duration": 70,
    "start_time": "2024-08-22T02:11:04.121Z"
   },
   {
    "duration": 92,
    "start_time": "2024-08-22T02:11:04.194Z"
   },
   {
    "duration": 132,
    "start_time": "2024-08-22T02:11:04.289Z"
   },
   {
    "duration": 10,
    "start_time": "2024-08-22T02:11:04.424Z"
   },
   {
    "duration": 39746,
    "start_time": "2024-08-22T02:11:04.438Z"
   },
   {
    "duration": 239,
    "start_time": "2024-08-22T02:11:44.187Z"
   },
   {
    "duration": 67,
    "start_time": "2024-08-22T02:11:44.432Z"
   },
   {
    "duration": 57,
    "start_time": "2024-08-22T02:11:44.515Z"
   },
   {
    "duration": 116,
    "start_time": "2024-08-22T02:11:44.575Z"
   },
   {
    "duration": 18,
    "start_time": "2024-08-22T02:11:44.695Z"
   },
   {
    "duration": 35,
    "start_time": "2024-08-22T02:11:44.716Z"
   },
   {
    "duration": 438,
    "start_time": "2024-08-22T02:11:44.754Z"
   },
   {
    "duration": 124,
    "start_time": "2024-08-22T02:11:45.196Z"
   },
   {
    "duration": 109,
    "start_time": "2024-08-22T02:11:45.323Z"
   },
   {
    "duration": 25,
    "start_time": "2024-08-22T02:11:45.435Z"
   },
   {
    "duration": 102,
    "start_time": "2024-08-22T02:11:45.463Z"
   },
   {
    "duration": 15,
    "start_time": "2024-08-22T02:11:45.657Z"
   },
   {
    "duration": 419,
    "start_time": "2024-08-22T02:13:42.362Z"
   },
   {
    "duration": 42,
    "start_time": "2024-08-22T02:15:23.203Z"
   },
   {
    "duration": 87,
    "start_time": "2024-08-22T02:16:05.998Z"
   },
   {
    "duration": 93,
    "start_time": "2024-08-22T02:48:50.098Z"
   },
   {
    "duration": 86,
    "start_time": "2024-08-22T02:49:49.788Z"
   },
   {
    "duration": 101,
    "start_time": "2024-08-22T02:50:59.451Z"
   },
   {
    "duration": 128,
    "start_time": "2024-08-22T02:56:10.337Z"
   },
   {
    "duration": 112,
    "start_time": "2024-08-22T02:56:16.163Z"
   },
   {
    "duration": 107,
    "start_time": "2024-08-22T02:56:48.398Z"
   },
   {
    "duration": 1108,
    "start_time": "2024-08-22T02:57:55.154Z"
   },
   {
    "duration": 206,
    "start_time": "2024-08-22T02:57:56.266Z"
   },
   {
    "duration": 37,
    "start_time": "2024-08-22T02:57:56.475Z"
   },
   {
    "duration": 78,
    "start_time": "2024-08-22T02:57:56.517Z"
   },
   {
    "duration": 100,
    "start_time": "2024-08-22T02:57:56.613Z"
   },
   {
    "duration": 129,
    "start_time": "2024-08-22T02:57:56.717Z"
   },
   {
    "duration": 10,
    "start_time": "2024-08-22T02:57:56.852Z"
   },
   {
    "duration": 39408,
    "start_time": "2024-08-22T02:57:56.865Z"
   },
   {
    "duration": 245,
    "start_time": "2024-08-22T02:58:36.275Z"
   },
   {
    "duration": 60,
    "start_time": "2024-08-22T02:58:36.526Z"
   },
   {
    "duration": 66,
    "start_time": "2024-08-22T02:58:36.589Z"
   },
   {
    "duration": 121,
    "start_time": "2024-08-22T02:58:36.658Z"
   },
   {
    "duration": 5,
    "start_time": "2024-08-22T02:58:36.782Z"
   },
   {
    "duration": 48,
    "start_time": "2024-08-22T02:58:36.789Z"
   },
   {
    "duration": 365,
    "start_time": "2024-08-22T02:58:36.840Z"
   },
   {
    "duration": 122,
    "start_time": "2024-08-22T02:58:37.212Z"
   },
   {
    "duration": 106,
    "start_time": "2024-08-22T02:58:37.337Z"
   },
   {
    "duration": 27,
    "start_time": "2024-08-22T02:58:37.446Z"
   },
   {
    "duration": 100,
    "start_time": "2024-08-22T02:58:37.477Z"
   },
   {
    "duration": 56,
    "start_time": "2024-08-22T02:58:37.580Z"
   },
   {
    "duration": 99,
    "start_time": "2024-08-22T02:58:37.638Z"
   },
   {
    "duration": 105,
    "start_time": "2024-08-22T02:58:37.740Z"
   },
   {
    "duration": 7,
    "start_time": "2024-08-22T03:04:40.476Z"
   },
   {
    "duration": 6,
    "start_time": "2024-08-22T03:05:06.048Z"
   },
   {
    "duration": 6,
    "start_time": "2024-08-22T03:05:12.499Z"
   },
   {
    "duration": 6,
    "start_time": "2024-08-22T03:05:28.494Z"
   },
   {
    "duration": 6,
    "start_time": "2024-08-22T03:05:59.068Z"
   },
   {
    "duration": 6,
    "start_time": "2024-08-22T03:06:09.532Z"
   },
   {
    "duration": 5,
    "start_time": "2024-08-22T03:06:28.736Z"
   },
   {
    "duration": 6,
    "start_time": "2024-08-22T03:06:43.394Z"
   },
   {
    "duration": 7,
    "start_time": "2024-08-22T03:06:47.314Z"
   },
   {
    "duration": 6,
    "start_time": "2024-08-22T03:07:14.740Z"
   },
   {
    "duration": 5,
    "start_time": "2024-08-22T03:07:21.378Z"
   },
   {
    "duration": 6,
    "start_time": "2024-08-22T03:07:33.336Z"
   },
   {
    "duration": 5,
    "start_time": "2024-08-22T03:08:41.173Z"
   },
   {
    "duration": 8,
    "start_time": "2024-08-22T03:09:11.546Z"
   },
   {
    "duration": 225,
    "start_time": "2024-08-22T03:09:51.042Z"
   },
   {
    "duration": 11,
    "start_time": "2024-08-22T03:10:09.120Z"
   },
   {
    "duration": 5,
    "start_time": "2024-08-22T03:10:48.092Z"
   },
   {
    "duration": 6,
    "start_time": "2024-08-22T03:11:08.306Z"
   },
   {
    "duration": 11,
    "start_time": "2024-08-22T03:12:01.680Z"
   },
   {
    "duration": 4782,
    "start_time": "2024-08-22T04:43:00.323Z"
   },
   {
    "duration": 230,
    "start_time": "2024-08-22T04:43:05.109Z"
   },
   {
    "duration": 25,
    "start_time": "2024-08-22T04:43:05.342Z"
   },
   {
    "duration": 90,
    "start_time": "2024-08-22T04:43:05.370Z"
   },
   {
    "duration": 97,
    "start_time": "2024-08-22T04:43:05.465Z"
   },
   {
    "duration": 119,
    "start_time": "2024-08-22T04:43:05.565Z"
   },
   {
    "duration": 25,
    "start_time": "2024-08-22T04:43:05.686Z"
   },
   {
    "duration": 39502,
    "start_time": "2024-08-22T04:43:05.714Z"
   },
   {
    "duration": 238,
    "start_time": "2024-08-22T04:43:45.219Z"
   },
   {
    "duration": 75,
    "start_time": "2024-08-22T04:43:45.460Z"
   },
   {
    "duration": 64,
    "start_time": "2024-08-22T04:43:45.538Z"
   },
   {
    "duration": 108,
    "start_time": "2024-08-22T04:43:45.605Z"
   },
   {
    "duration": 5,
    "start_time": "2024-08-22T04:43:45.716Z"
   },
   {
    "duration": 34,
    "start_time": "2024-08-22T04:43:45.728Z"
   },
   {
    "duration": 409,
    "start_time": "2024-08-22T04:43:45.765Z"
   },
   {
    "duration": 124,
    "start_time": "2024-08-22T04:43:46.177Z"
   },
   {
    "duration": 106,
    "start_time": "2024-08-22T04:43:46.305Z"
   },
   {
    "duration": 26,
    "start_time": "2024-08-22T04:43:46.414Z"
   },
   {
    "duration": 110,
    "start_time": "2024-08-22T04:43:46.443Z"
   },
   {
    "duration": 55,
    "start_time": "2024-08-22T04:43:46.557Z"
   },
   {
    "duration": 95,
    "start_time": "2024-08-22T04:43:46.615Z"
   },
   {
    "duration": 112,
    "start_time": "2024-08-22T04:43:46.713Z"
   },
   {
    "duration": 236,
    "start_time": "2024-08-22T04:43:46.829Z"
   },
   {
    "duration": 77,
    "start_time": "2024-08-22T04:43:50.513Z"
   },
   {
    "duration": 1054,
    "start_time": "2024-08-22T05:36:05.934Z"
   },
   {
    "duration": 77,
    "start_time": "2024-08-22T05:36:15.000Z"
   },
   {
    "duration": 60,
    "start_time": "2024-08-22T05:39:27.519Z"
   },
   {
    "duration": 23,
    "start_time": "2024-08-22T05:42:14.527Z"
   },
   {
    "duration": 4974,
    "start_time": "2024-08-24T00:04:12.414Z"
   },
   {
    "duration": 233,
    "start_time": "2024-08-24T00:04:17.392Z"
   },
   {
    "duration": 27,
    "start_time": "2024-08-24T00:04:17.628Z"
   },
   {
    "duration": 92,
    "start_time": "2024-08-24T00:04:17.659Z"
   },
   {
    "duration": 88,
    "start_time": "2024-08-24T00:04:17.754Z"
   },
   {
    "duration": 130,
    "start_time": "2024-08-24T00:04:17.845Z"
   },
   {
    "duration": 20,
    "start_time": "2024-08-24T00:04:17.977Z"
   },
   {
    "duration": 241,
    "start_time": "2024-08-24T00:04:57.544Z"
   },
   {
    "duration": 61,
    "start_time": "2024-08-24T00:04:57.795Z"
   },
   {
    "duration": 66,
    "start_time": "2024-08-24T00:04:57.858Z"
   },
   {
    "duration": 117,
    "start_time": "2024-08-24T00:04:57.926Z"
   },
   {
    "duration": 5,
    "start_time": "2024-08-24T00:04:58.047Z"
   },
   {
    "duration": 55,
    "start_time": "2024-08-24T00:04:58.055Z"
   },
   {
    "duration": 416,
    "start_time": "2024-08-24T00:04:58.113Z"
   },
   {
    "duration": 126,
    "start_time": "2024-08-24T00:04:58.532Z"
   },
   {
    "duration": 97,
    "start_time": "2024-08-24T00:04:58.660Z"
   },
   {
    "duration": 38,
    "start_time": "2024-08-24T00:04:58.762Z"
   },
   {
    "duration": 95,
    "start_time": "2024-08-24T00:04:58.803Z"
   },
   {
    "duration": 40,
    "start_time": "2024-08-24T00:04:58.901Z"
   },
   {
    "duration": 107,
    "start_time": "2024-08-24T00:04:58.943Z"
   },
   {
    "duration": 111,
    "start_time": "2024-08-24T00:04:59.053Z"
   },
   {
    "duration": 230,
    "start_time": "2024-08-24T00:04:59.167Z"
   },
   {
    "duration": 123,
    "start_time": "2024-08-24T00:04:59.402Z"
   },
   {
    "duration": 103,
    "start_time": "2024-08-24T00:04:59.527Z"
   },
   {
    "duration": 77,
    "start_time": "2024-08-24T00:04:59.633Z"
   },
   {
    "duration": 24,
    "start_time": "2024-08-24T00:04:59.713Z"
   },
   {
    "duration": 1622,
    "start_time": "2024-08-24T00:04:59.743Z"
   },
   {
    "duration": 5,
    "start_time": "2024-08-24T00:33:41.673Z"
   },
   {
    "duration": 4,
    "start_time": "2024-08-24T00:34:01.565Z"
   },
   {
    "duration": 6,
    "start_time": "2024-08-24T00:34:08.746Z"
   },
   {
    "duration": 4,
    "start_time": "2024-08-24T00:35:15.606Z"
   },
   {
    "duration": 5,
    "start_time": "2024-08-24T00:35:34.124Z"
   },
   {
    "duration": 5,
    "start_time": "2024-08-24T00:35:41.274Z"
   },
   {
    "duration": 4,
    "start_time": "2024-08-24T00:35:47.792Z"
   },
   {
    "duration": 5,
    "start_time": "2024-08-24T00:35:51.843Z"
   },
   {
    "duration": 423,
    "start_time": "2024-08-24T00:40:18.889Z"
   },
   {
    "duration": 11,
    "start_time": "2024-08-24T00:40:52.703Z"
   },
   {
    "duration": 11,
    "start_time": "2024-08-24T00:41:13.535Z"
   },
   {
    "duration": 31,
    "start_time": "2024-08-24T00:48:06.758Z"
   },
   {
    "duration": 5,
    "start_time": "2024-08-24T00:48:10.125Z"
   },
   {
    "duration": 6,
    "start_time": "2024-08-24T00:48:29.715Z"
   },
   {
    "duration": 8,
    "start_time": "2024-08-24T00:48:31.998Z"
   },
   {
    "duration": 6,
    "start_time": "2024-08-24T00:51:07.045Z"
   },
   {
    "duration": 4,
    "start_time": "2024-08-24T00:51:30.274Z"
   },
   {
    "duration": 3,
    "start_time": "2024-08-24T00:53:50.172Z"
   },
   {
    "duration": 25,
    "start_time": "2024-08-24T00:55:23.393Z"
   },
   {
    "duration": 4,
    "start_time": "2024-08-24T00:55:30.709Z"
   },
   {
    "duration": 4,
    "start_time": "2024-08-24T00:55:34.455Z"
   },
   {
    "duration": 3,
    "start_time": "2024-08-24T00:55:36.972Z"
   },
   {
    "duration": 4,
    "start_time": "2024-08-24T00:55:39.020Z"
   },
   {
    "duration": 5,
    "start_time": "2024-08-24T00:59:37.092Z"
   },
   {
    "duration": 31,
    "start_time": "2024-08-24T01:00:29.663Z"
   },
   {
    "duration": 5,
    "start_time": "2024-08-24T01:11:21.904Z"
   },
   {
    "duration": 6,
    "start_time": "2024-08-24T01:13:43.795Z"
   },
   {
    "duration": 46,
    "start_time": "2024-08-24T01:17:50.378Z"
   },
   {
    "duration": 22,
    "start_time": "2024-08-24T01:18:17.501Z"
   },
   {
    "duration": 24,
    "start_time": "2024-08-24T01:19:04.274Z"
   },
   {
    "duration": 11,
    "start_time": "2024-08-24T01:20:08.958Z"
   },
   {
    "duration": 8,
    "start_time": "2024-08-24T01:20:40.370Z"
   },
   {
    "duration": 605,
    "start_time": "2024-08-24T01:26:29.011Z"
   },
   {
    "duration": 86,
    "start_time": "2024-08-24T01:27:03.492Z"
   },
   {
    "duration": 100,
    "start_time": "2024-08-24T01:27:24.688Z"
   },
   {
    "duration": 81,
    "start_time": "2024-08-24T01:29:45.652Z"
   },
   {
    "duration": 10,
    "start_time": "2024-08-24T01:30:25.370Z"
   },
   {
    "duration": 4,
    "start_time": "2024-08-24T01:30:27.667Z"
   },
   {
    "duration": 10,
    "start_time": "2024-08-24T01:30:45.059Z"
   },
   {
    "duration": 5,
    "start_time": "2024-08-24T01:30:52.386Z"
   },
   {
    "duration": 7,
    "start_time": "2024-08-24T01:30:58.049Z"
   },
   {
    "duration": 5,
    "start_time": "2024-08-24T01:33:15.492Z"
   },
   {
    "duration": 5,
    "start_time": "2024-08-24T01:33:36.342Z"
   },
   {
    "duration": 3,
    "start_time": "2024-08-24T01:38:03.923Z"
   },
   {
    "duration": 4,
    "start_time": "2024-08-24T01:39:38.666Z"
   },
   {
    "duration": 10,
    "start_time": "2024-08-24T01:41:32.013Z"
   },
   {
    "duration": 31,
    "start_time": "2024-08-24T01:41:40.799Z"
   },
   {
    "duration": 7,
    "start_time": "2024-08-24T01:42:08.493Z"
   },
   {
    "duration": 47,
    "start_time": "2024-08-24T01:52:54.005Z"
   },
   {
    "duration": 25,
    "start_time": "2024-08-24T01:53:50.320Z"
   },
   {
    "duration": 10,
    "start_time": "2024-08-24T01:54:54.470Z"
   },
   {
    "duration": 12,
    "start_time": "2024-08-24T01:55:08.652Z"
   },
   {
    "duration": 14,
    "start_time": "2024-08-24T01:55:32.009Z"
   },
   {
    "duration": 7,
    "start_time": "2024-08-24T01:56:52.491Z"
   },
   {
    "duration": 5,
    "start_time": "2024-08-24T01:57:22.901Z"
   },
   {
    "duration": 3,
    "start_time": "2024-08-24T01:58:22.722Z"
   },
   {
    "duration": 7,
    "start_time": "2024-08-24T01:58:30.098Z"
   },
   {
    "duration": 7,
    "start_time": "2024-08-24T01:59:29.850Z"
   },
   {
    "duration": 1146,
    "start_time": "2024-08-24T02:23:46.649Z"
   },
   {
    "duration": 194,
    "start_time": "2024-08-24T02:23:47.798Z"
   },
   {
    "duration": 24,
    "start_time": "2024-08-24T02:23:47.995Z"
   },
   {
    "duration": 92,
    "start_time": "2024-08-24T02:23:48.023Z"
   },
   {
    "duration": 87,
    "start_time": "2024-08-24T02:23:48.118Z"
   },
   {
    "duration": 123,
    "start_time": "2024-08-24T02:23:48.208Z"
   },
   {
    "duration": 11,
    "start_time": "2024-08-24T02:23:48.335Z"
   },
   {
    "duration": 38174,
    "start_time": "2024-08-24T02:23:48.350Z"
   },
   {
    "duration": 263,
    "start_time": "2024-08-24T02:24:26.527Z"
   },
   {
    "duration": 61,
    "start_time": "2024-08-24T02:24:26.796Z"
   },
   {
    "duration": 68,
    "start_time": "2024-08-24T02:24:26.860Z"
   },
   {
    "duration": 116,
    "start_time": "2024-08-24T02:24:26.932Z"
   },
   {
    "duration": 5,
    "start_time": "2024-08-24T02:24:27.051Z"
   },
   {
    "duration": 52,
    "start_time": "2024-08-24T02:24:27.059Z"
   },
   {
    "duration": 367,
    "start_time": "2024-08-24T02:24:27.113Z"
   },
   {
    "duration": 126,
    "start_time": "2024-08-24T02:24:27.482Z"
   },
   {
    "duration": 101,
    "start_time": "2024-08-24T02:24:27.612Z"
   },
   {
    "duration": 25,
    "start_time": "2024-08-24T02:24:27.716Z"
   },
   {
    "duration": 102,
    "start_time": "2024-08-24T02:24:27.744Z"
   },
   {
    "duration": 53,
    "start_time": "2024-08-24T02:24:27.849Z"
   },
   {
    "duration": 98,
    "start_time": "2024-08-24T02:24:27.904Z"
   },
   {
    "duration": 105,
    "start_time": "2024-08-24T02:24:28.005Z"
   },
   {
    "duration": 253,
    "start_time": "2024-08-24T02:24:28.113Z"
   },
   {
    "duration": 122,
    "start_time": "2024-08-24T02:24:28.368Z"
   },
   {
    "duration": 4,
    "start_time": "2024-08-24T02:24:28.493Z"
   },
   {
    "duration": 91,
    "start_time": "2024-08-24T02:24:28.500Z"
   },
   {
    "duration": 61,
    "start_time": "2024-08-24T02:24:28.594Z"
   },
   {
    "duration": 40,
    "start_time": "2024-08-24T02:24:28.662Z"
   },
   {
    "duration": 11,
    "start_time": "2024-08-24T02:24:28.705Z"
   },
   {
    "duration": 6,
    "start_time": "2024-08-24T02:24:28.718Z"
   },
   {
    "duration": 442,
    "start_time": "2024-08-24T02:24:28.727Z"
   },
   {
    "duration": 0,
    "start_time": "2024-08-24T02:24:29.171Z"
   },
   {
    "duration": 0,
    "start_time": "2024-08-24T02:24:29.173Z"
   },
   {
    "duration": 0,
    "start_time": "2024-08-24T02:24:29.176Z"
   },
   {
    "duration": 0,
    "start_time": "2024-08-24T02:24:29.178Z"
   },
   {
    "duration": 0,
    "start_time": "2024-08-24T02:24:29.179Z"
   },
   {
    "duration": 0,
    "start_time": "2024-08-24T02:24:29.180Z"
   },
   {
    "duration": 0,
    "start_time": "2024-08-24T02:24:29.181Z"
   },
   {
    "duration": 0,
    "start_time": "2024-08-24T02:24:29.190Z"
   },
   {
    "duration": 0,
    "start_time": "2024-08-24T02:24:29.192Z"
   },
   {
    "duration": 0,
    "start_time": "2024-08-24T02:24:29.194Z"
   },
   {
    "duration": 0,
    "start_time": "2024-08-24T02:24:29.197Z"
   },
   {
    "duration": 0,
    "start_time": "2024-08-24T02:24:29.199Z"
   },
   {
    "duration": 0,
    "start_time": "2024-08-24T02:24:29.201Z"
   },
   {
    "duration": 0,
    "start_time": "2024-08-24T02:24:29.204Z"
   },
   {
    "duration": 0,
    "start_time": "2024-08-24T02:24:29.205Z"
   },
   {
    "duration": 0,
    "start_time": "2024-08-24T02:24:29.208Z"
   },
   {
    "duration": 0,
    "start_time": "2024-08-24T02:24:29.210Z"
   },
   {
    "duration": 0,
    "start_time": "2024-08-24T02:24:29.212Z"
   },
   {
    "duration": 0,
    "start_time": "2024-08-24T02:24:29.215Z"
   },
   {
    "duration": 1149,
    "start_time": "2024-08-24T02:25:19.537Z"
   },
   {
    "duration": 199,
    "start_time": "2024-08-24T02:25:20.689Z"
   },
   {
    "duration": 24,
    "start_time": "2024-08-24T02:25:20.891Z"
   },
   {
    "duration": 90,
    "start_time": "2024-08-24T02:25:20.920Z"
   },
   {
    "duration": 89,
    "start_time": "2024-08-24T02:25:21.013Z"
   },
   {
    "duration": 120,
    "start_time": "2024-08-24T02:25:21.105Z"
   },
   {
    "duration": 11,
    "start_time": "2024-08-24T02:25:21.227Z"
   },
   {
    "duration": 38964,
    "start_time": "2024-08-24T02:25:21.242Z"
   },
   {
    "duration": 238,
    "start_time": "2024-08-24T02:26:00.209Z"
   },
   {
    "duration": 74,
    "start_time": "2024-08-24T02:26:00.454Z"
   },
   {
    "duration": 62,
    "start_time": "2024-08-24T02:26:00.531Z"
   },
   {
    "duration": 108,
    "start_time": "2024-08-24T02:26:00.596Z"
   },
   {
    "duration": 5,
    "start_time": "2024-08-24T02:26:00.707Z"
   },
   {
    "duration": 36,
    "start_time": "2024-08-24T02:26:00.715Z"
   },
   {
    "duration": 384,
    "start_time": "2024-08-24T02:26:00.754Z"
   },
   {
    "duration": 124,
    "start_time": "2024-08-24T02:26:01.141Z"
   },
   {
    "duration": 94,
    "start_time": "2024-08-24T02:26:01.268Z"
   },
   {
    "duration": 38,
    "start_time": "2024-08-24T02:26:01.365Z"
   },
   {
    "duration": 99,
    "start_time": "2024-08-24T02:26:01.405Z"
   },
   {
    "duration": 45,
    "start_time": "2024-08-24T02:26:01.507Z"
   },
   {
    "duration": 103,
    "start_time": "2024-08-24T02:26:01.555Z"
   },
   {
    "duration": 108,
    "start_time": "2024-08-24T02:26:01.660Z"
   },
   {
    "duration": 247,
    "start_time": "2024-08-24T02:26:01.771Z"
   },
   {
    "duration": 109,
    "start_time": "2024-08-24T02:26:02.021Z"
   },
   {
    "duration": 3,
    "start_time": "2024-08-24T02:26:02.133Z"
   },
   {
    "duration": 108,
    "start_time": "2024-08-24T02:26:02.140Z"
   },
   {
    "duration": 74,
    "start_time": "2024-08-24T02:26:02.251Z"
   },
   {
    "duration": 24,
    "start_time": "2024-08-24T02:26:02.334Z"
   },
   {
    "duration": 32,
    "start_time": "2024-08-24T02:26:02.361Z"
   },
   {
    "duration": 5,
    "start_time": "2024-08-24T02:26:02.396Z"
   },
   {
    "duration": 5,
    "start_time": "2024-08-24T02:26:02.405Z"
   },
   {
    "duration": 3,
    "start_time": "2024-08-24T02:26:02.414Z"
   },
   {
    "duration": 7,
    "start_time": "2024-08-24T02:26:02.421Z"
   },
   {
    "duration": 473,
    "start_time": "2024-08-24T02:26:02.431Z"
   },
   {
    "duration": 0,
    "start_time": "2024-08-24T02:26:02.907Z"
   },
   {
    "duration": 0,
    "start_time": "2024-08-24T02:26:02.909Z"
   },
   {
    "duration": 0,
    "start_time": "2024-08-24T02:26:02.911Z"
   },
   {
    "duration": 0,
    "start_time": "2024-08-24T02:26:02.913Z"
   },
   {
    "duration": 0,
    "start_time": "2024-08-24T02:26:02.915Z"
   },
   {
    "duration": 0,
    "start_time": "2024-08-24T02:26:02.918Z"
   },
   {
    "duration": 0,
    "start_time": "2024-08-24T02:26:02.920Z"
   },
   {
    "duration": 0,
    "start_time": "2024-08-24T02:26:02.923Z"
   },
   {
    "duration": 0,
    "start_time": "2024-08-24T02:26:02.926Z"
   },
   {
    "duration": 0,
    "start_time": "2024-08-24T02:26:02.928Z"
   },
   {
    "duration": 0,
    "start_time": "2024-08-24T02:26:02.930Z"
   },
   {
    "duration": 0,
    "start_time": "2024-08-24T02:26:02.931Z"
   },
   {
    "duration": 0,
    "start_time": "2024-08-24T02:26:02.933Z"
   },
   {
    "duration": 0,
    "start_time": "2024-08-24T02:26:02.935Z"
   },
   {
    "duration": 0,
    "start_time": "2024-08-24T02:26:02.937Z"
   },
   {
    "duration": 0,
    "start_time": "2024-08-24T02:26:02.995Z"
   },
   {
    "duration": 0,
    "start_time": "2024-08-24T02:26:02.998Z"
   },
   {
    "duration": 6,
    "start_time": "2024-08-24T02:27:38.080Z"
   },
   {
    "duration": 4,
    "start_time": "2024-08-24T02:27:46.991Z"
   },
   {
    "duration": 6,
    "start_time": "2024-08-24T02:28:00.238Z"
   },
   {
    "duration": 4,
    "start_time": "2024-08-24T02:28:19.843Z"
   },
   {
    "duration": 187,
    "start_time": "2024-08-24T02:28:19.852Z"
   },
   {
    "duration": 25,
    "start_time": "2024-08-24T02:28:20.043Z"
   },
   {
    "duration": 60,
    "start_time": "2024-08-24T02:28:20.090Z"
   },
   {
    "duration": 87,
    "start_time": "2024-08-24T02:28:20.153Z"
   },
   {
    "duration": 113,
    "start_time": "2024-08-24T02:28:20.243Z"
   },
   {
    "duration": 13,
    "start_time": "2024-08-24T02:28:20.358Z"
   },
   {
    "duration": 39782,
    "start_time": "2024-08-24T02:28:20.390Z"
   },
   {
    "duration": 231,
    "start_time": "2024-08-24T02:29:00.178Z"
   },
   {
    "duration": 60,
    "start_time": "2024-08-24T02:29:00.411Z"
   },
   {
    "duration": 46,
    "start_time": "2024-08-24T02:29:00.491Z"
   },
   {
    "duration": 118,
    "start_time": "2024-08-24T02:29:00.540Z"
   },
   {
    "duration": 5,
    "start_time": "2024-08-24T02:29:00.661Z"
   },
   {
    "duration": 48,
    "start_time": "2024-08-24T02:29:00.670Z"
   },
   {
    "duration": 351,
    "start_time": "2024-08-24T02:29:00.721Z"
   },
   {
    "duration": 130,
    "start_time": "2024-08-24T02:29:01.075Z"
   },
   {
    "duration": 97,
    "start_time": "2024-08-24T02:29:01.208Z"
   },
   {
    "duration": 26,
    "start_time": "2024-08-24T02:29:01.308Z"
   },
   {
    "duration": 101,
    "start_time": "2024-08-24T02:29:01.336Z"
   },
   {
    "duration": 54,
    "start_time": "2024-08-24T02:29:01.441Z"
   },
   {
    "duration": 97,
    "start_time": "2024-08-24T02:29:01.498Z"
   },
   {
    "duration": 103,
    "start_time": "2024-08-24T02:29:01.598Z"
   },
   {
    "duration": 11,
    "start_time": "2024-08-24T02:29:01.703Z"
   },
   {
    "duration": 104,
    "start_time": "2024-08-24T02:29:01.723Z"
   },
   {
    "duration": 3,
    "start_time": "2024-08-24T02:29:01.831Z"
   },
   {
    "duration": 95,
    "start_time": "2024-08-24T02:29:01.837Z"
   },
   {
    "duration": 74,
    "start_time": "2024-08-24T02:29:01.934Z"
   },
   {
    "duration": 23,
    "start_time": "2024-08-24T02:29:02.011Z"
   },
   {
    "duration": 13,
    "start_time": "2024-08-24T02:29:02.038Z"
   },
   {
    "duration": 7,
    "start_time": "2024-08-24T02:29:02.053Z"
   },
   {
    "duration": 30,
    "start_time": "2024-08-24T02:29:02.063Z"
   },
   {
    "duration": 5,
    "start_time": "2024-08-24T02:29:02.096Z"
   },
   {
    "duration": 8,
    "start_time": "2024-08-24T02:29:02.104Z"
   },
   {
    "duration": 6,
    "start_time": "2024-08-24T02:29:02.116Z"
   },
   {
    "duration": 6,
    "start_time": "2024-08-24T02:29:49.015Z"
   },
   {
    "duration": 8,
    "start_time": "2024-08-24T02:31:51.978Z"
   },
   {
    "duration": 7,
    "start_time": "2024-08-24T02:41:54.434Z"
   },
   {
    "duration": 1192,
    "start_time": "2024-08-24T02:42:12.464Z"
   },
   {
    "duration": 201,
    "start_time": "2024-08-24T02:42:13.659Z"
   },
   {
    "duration": 36,
    "start_time": "2024-08-24T02:42:13.863Z"
   },
   {
    "duration": 73,
    "start_time": "2024-08-24T02:42:13.903Z"
   },
   {
    "duration": 85,
    "start_time": "2024-08-24T02:42:13.978Z"
   },
   {
    "duration": 136,
    "start_time": "2024-08-24T02:42:14.066Z"
   },
   {
    "duration": 12,
    "start_time": "2024-08-24T02:42:14.204Z"
   },
   {
    "duration": 38510,
    "start_time": "2024-08-24T02:42:14.219Z"
   },
   {
    "duration": 249,
    "start_time": "2024-08-24T02:42:52.732Z"
   },
   {
    "duration": 64,
    "start_time": "2024-08-24T02:42:52.995Z"
   },
   {
    "duration": 72,
    "start_time": "2024-08-24T02:42:53.063Z"
   },
   {
    "duration": 116,
    "start_time": "2024-08-24T02:42:53.137Z"
   },
   {
    "duration": 5,
    "start_time": "2024-08-24T02:42:53.256Z"
   },
   {
    "duration": 53,
    "start_time": "2024-08-24T02:42:53.264Z"
   },
   {
    "duration": 374,
    "start_time": "2024-08-24T02:42:53.320Z"
   },
   {
    "duration": 128,
    "start_time": "2024-08-24T02:42:53.697Z"
   },
   {
    "duration": 100,
    "start_time": "2024-08-24T02:42:53.828Z"
   },
   {
    "duration": 28,
    "start_time": "2024-08-24T02:42:53.930Z"
   },
   {
    "duration": 101,
    "start_time": "2024-08-24T02:42:53.961Z"
   },
   {
    "duration": 54,
    "start_time": "2024-08-24T02:42:54.065Z"
   },
   {
    "duration": 104,
    "start_time": "2024-08-24T02:42:54.122Z"
   },
   {
    "duration": 105,
    "start_time": "2024-08-24T02:42:54.229Z"
   },
   {
    "duration": 237,
    "start_time": "2024-08-24T02:42:54.337Z"
   },
   {
    "duration": 144,
    "start_time": "2024-08-24T02:42:54.577Z"
   },
   {
    "duration": 4,
    "start_time": "2024-08-24T02:42:54.724Z"
   },
   {
    "duration": 102,
    "start_time": "2024-08-24T02:42:54.731Z"
   },
   {
    "duration": 73,
    "start_time": "2024-08-24T02:42:54.836Z"
   },
   {
    "duration": 24,
    "start_time": "2024-08-24T02:42:54.916Z"
   },
   {
    "duration": 11,
    "start_time": "2024-08-24T02:42:54.942Z"
   },
   {
    "duration": 6,
    "start_time": "2024-08-24T02:42:54.956Z"
   },
   {
    "duration": 6,
    "start_time": "2024-08-24T02:42:54.992Z"
   },
   {
    "duration": 3,
    "start_time": "2024-08-24T02:42:55.001Z"
   },
   {
    "duration": 7,
    "start_time": "2024-08-24T02:42:55.007Z"
   },
   {
    "duration": 4,
    "start_time": "2024-08-24T02:42:55.017Z"
   },
   {
    "duration": 7,
    "start_time": "2024-08-24T02:42:55.023Z"
   },
   {
    "duration": 60,
    "start_time": "2024-08-24T02:42:55.033Z"
   },
   {
    "duration": 50,
    "start_time": "2024-08-24T02:42:55.096Z"
   },
   {
    "duration": 52,
    "start_time": "2024-08-24T02:42:55.149Z"
   },
   {
    "duration": 12,
    "start_time": "2024-08-24T02:42:55.203Z"
   },
   {
    "duration": 4,
    "start_time": "2024-08-24T02:42:55.218Z"
   },
   {
    "duration": 4,
    "start_time": "2024-08-24T02:42:55.225Z"
   },
   {
    "duration": 6,
    "start_time": "2024-08-24T02:42:55.232Z"
   },
   {
    "duration": 50,
    "start_time": "2024-08-24T02:42:55.242Z"
   },
   {
    "duration": 4,
    "start_time": "2024-08-24T02:42:55.295Z"
   },
   {
    "duration": 8,
    "start_time": "2024-08-24T02:42:55.303Z"
   },
   {
    "duration": 81,
    "start_time": "2024-08-24T02:42:55.314Z"
   },
   {
    "duration": 23,
    "start_time": "2024-08-24T02:42:55.398Z"
   },
   {
    "duration": 12,
    "start_time": "2024-08-24T02:42:55.424Z"
   },
   {
    "duration": 4,
    "start_time": "2024-08-24T02:42:55.440Z"
   },
   {
    "duration": 43,
    "start_time": "2024-08-24T02:42:55.447Z"
   },
   {
    "duration": 7,
    "start_time": "2024-08-24T02:42:55.494Z"
   },
   {
    "duration": 5,
    "start_time": "2024-08-24T02:42:55.505Z"
   },
   {
    "duration": 416,
    "start_time": "2024-08-24T02:46:34.760Z"
   },
   {
    "duration": 40,
    "start_time": "2024-08-24T02:46:37.270Z"
   },
   {
    "duration": 38,
    "start_time": "2024-08-24T02:46:39.680Z"
   },
   {
    "duration": 24,
    "start_time": "2024-08-24T02:46:46.739Z"
   },
   {
    "duration": 20,
    "start_time": "2024-08-24T02:46:58.032Z"
   },
   {
    "duration": 12,
    "start_time": "2024-08-24T02:48:22.938Z"
   },
   {
    "duration": 11,
    "start_time": "2024-08-24T02:49:22.224Z"
   },
   {
    "duration": 4,
    "start_time": "2024-08-24T02:49:31.086Z"
   },
   {
    "duration": 197,
    "start_time": "2024-08-24T02:49:31.094Z"
   },
   {
    "duration": 23,
    "start_time": "2024-08-24T02:49:31.295Z"
   },
   {
    "duration": 85,
    "start_time": "2024-08-24T02:49:31.320Z"
   },
   {
    "duration": 87,
    "start_time": "2024-08-24T02:49:31.410Z"
   },
   {
    "duration": 123,
    "start_time": "2024-08-24T02:49:31.500Z"
   },
   {
    "duration": 12,
    "start_time": "2024-08-24T02:49:31.626Z"
   },
   {
    "duration": 39253,
    "start_time": "2024-08-24T02:49:31.641Z"
   },
   {
    "duration": 233,
    "start_time": "2024-08-24T02:50:10.897Z"
   },
   {
    "duration": 72,
    "start_time": "2024-08-24T02:50:11.133Z"
   },
   {
    "duration": 47,
    "start_time": "2024-08-24T02:50:11.210Z"
   },
   {
    "duration": 117,
    "start_time": "2024-08-24T02:50:11.260Z"
   },
   {
    "duration": 5,
    "start_time": "2024-08-24T02:50:11.392Z"
   },
   {
    "duration": 37,
    "start_time": "2024-08-24T02:50:11.400Z"
   },
   {
    "duration": 373,
    "start_time": "2024-08-24T02:50:11.441Z"
   },
   {
    "duration": 130,
    "start_time": "2024-08-24T02:50:11.817Z"
   },
   {
    "duration": 99,
    "start_time": "2024-08-24T02:50:11.950Z"
   },
   {
    "duration": 43,
    "start_time": "2024-08-24T02:50:12.053Z"
   },
   {
    "duration": 90,
    "start_time": "2024-08-24T02:50:12.101Z"
   },
   {
    "duration": 40,
    "start_time": "2024-08-24T02:50:12.194Z"
   },
   {
    "duration": 106,
    "start_time": "2024-08-24T02:50:12.237Z"
   },
   {
    "duration": 109,
    "start_time": "2024-08-24T02:50:12.346Z"
   },
   {
    "duration": 13,
    "start_time": "2024-08-24T02:50:12.458Z"
   },
   {
    "duration": 83,
    "start_time": "2024-08-24T02:50:12.490Z"
   },
   {
    "duration": 5,
    "start_time": "2024-08-24T02:50:12.589Z"
   },
   {
    "duration": 90,
    "start_time": "2024-08-24T02:50:12.601Z"
   },
   {
    "duration": 69,
    "start_time": "2024-08-24T02:50:12.694Z"
   },
   {
    "duration": 46,
    "start_time": "2024-08-24T02:50:12.766Z"
   },
   {
    "duration": 10,
    "start_time": "2024-08-24T02:50:12.820Z"
   },
   {
    "duration": 6,
    "start_time": "2024-08-24T02:50:12.833Z"
   },
   {
    "duration": 6,
    "start_time": "2024-08-24T02:50:12.842Z"
   },
   {
    "duration": 39,
    "start_time": "2024-08-24T02:50:12.851Z"
   },
   {
    "duration": 17,
    "start_time": "2024-08-24T02:50:12.893Z"
   },
   {
    "duration": 4,
    "start_time": "2024-08-24T02:50:12.913Z"
   },
   {
    "duration": 6,
    "start_time": "2024-08-24T02:50:12.921Z"
   },
   {
    "duration": 8,
    "start_time": "2024-08-24T02:50:12.930Z"
   },
   {
    "duration": 90,
    "start_time": "2024-08-24T02:50:12.941Z"
   },
   {
    "duration": 23,
    "start_time": "2024-08-24T02:50:13.034Z"
   },
   {
    "duration": 36,
    "start_time": "2024-08-24T02:50:13.060Z"
   },
   {
    "duration": 5,
    "start_time": "2024-08-24T02:50:13.099Z"
   },
   {
    "duration": 4,
    "start_time": "2024-08-24T02:50:13.108Z"
   },
   {
    "duration": 7,
    "start_time": "2024-08-24T02:50:13.114Z"
   },
   {
    "duration": 5,
    "start_time": "2024-08-24T02:50:13.126Z"
   },
   {
    "duration": 5,
    "start_time": "2024-08-24T02:50:13.134Z"
   },
   {
    "duration": 58,
    "start_time": "2024-08-24T02:50:13.142Z"
   },
   {
    "duration": 50,
    "start_time": "2024-08-24T02:50:13.203Z"
   },
   {
    "duration": 50,
    "start_time": "2024-08-24T02:50:13.255Z"
   },
   {
    "duration": 12,
    "start_time": "2024-08-24T02:50:13.308Z"
   },
   {
    "duration": 3,
    "start_time": "2024-08-24T02:50:13.323Z"
   },
   {
    "duration": 4,
    "start_time": "2024-08-24T02:50:13.330Z"
   },
   {
    "duration": 9,
    "start_time": "2024-08-24T02:50:13.337Z"
   },
   {
    "duration": 44,
    "start_time": "2024-08-24T02:50:13.392Z"
   },
   {
    "duration": 21,
    "start_time": "2024-08-24T02:50:13.439Z"
   },
   {
    "duration": 11,
    "start_time": "2024-08-24T02:50:47.918Z"
   },
   {
    "duration": 3,
    "start_time": "2024-08-24T02:54:51.480Z"
   },
   {
    "duration": 5,
    "start_time": "2024-08-24T02:55:23.976Z"
   },
   {
    "duration": 8,
    "start_time": "2024-08-24T02:56:08.828Z"
   },
   {
    "duration": 1165,
    "start_time": "2024-08-24T03:09:18.068Z"
   },
   {
    "duration": 196,
    "start_time": "2024-08-24T03:09:19.237Z"
   },
   {
    "duration": 26,
    "start_time": "2024-08-24T03:09:19.435Z"
   },
   {
    "duration": 87,
    "start_time": "2024-08-24T03:09:19.465Z"
   },
   {
    "duration": 95,
    "start_time": "2024-08-24T03:09:19.556Z"
   },
   {
    "duration": 117,
    "start_time": "2024-08-24T03:09:19.654Z"
   },
   {
    "duration": 20,
    "start_time": "2024-08-24T03:09:19.775Z"
   },
   {
    "duration": 37582,
    "start_time": "2024-08-24T03:09:19.798Z"
   },
   {
    "duration": 246,
    "start_time": "2024-08-24T03:09:57.392Z"
   },
   {
    "duration": 72,
    "start_time": "2024-08-24T03:09:57.646Z"
   },
   {
    "duration": 47,
    "start_time": "2024-08-24T03:09:57.722Z"
   },
   {
    "duration": 103,
    "start_time": "2024-08-24T03:09:57.791Z"
   },
   {
    "duration": 5,
    "start_time": "2024-08-24T03:09:57.898Z"
   },
   {
    "duration": 37,
    "start_time": "2024-08-24T03:09:57.905Z"
   },
   {
    "duration": 384,
    "start_time": "2024-08-24T03:09:57.945Z"
   },
   {
    "duration": 127,
    "start_time": "2024-08-24T03:09:58.332Z"
   },
   {
    "duration": 100,
    "start_time": "2024-08-24T03:09:58.462Z"
   },
   {
    "duration": 33,
    "start_time": "2024-08-24T03:09:58.565Z"
   },
   {
    "duration": 95,
    "start_time": "2024-08-24T03:09:58.601Z"
   },
   {
    "duration": 41,
    "start_time": "2024-08-24T03:09:58.698Z"
   },
   {
    "duration": 106,
    "start_time": "2024-08-24T03:09:58.742Z"
   },
   {
    "duration": 115,
    "start_time": "2024-08-24T03:09:58.851Z"
   },
   {
    "duration": 223,
    "start_time": "2024-08-24T03:09:58.968Z"
   },
   {
    "duration": 128,
    "start_time": "2024-08-24T03:09:59.193Z"
   },
   {
    "duration": 6,
    "start_time": "2024-08-24T03:09:59.324Z"
   },
   {
    "duration": 99,
    "start_time": "2024-08-24T03:09:59.333Z"
   },
   {
    "duration": 76,
    "start_time": "2024-08-24T03:09:59.435Z"
   },
   {
    "duration": 24,
    "start_time": "2024-08-24T03:09:59.520Z"
   },
   {
    "duration": 11,
    "start_time": "2024-08-24T03:09:59.547Z"
   },
   {
    "duration": 433,
    "start_time": "2024-08-24T03:09:59.560Z"
   },
   {
    "duration": 0,
    "start_time": "2024-08-24T03:09:59.996Z"
   },
   {
    "duration": 0,
    "start_time": "2024-08-24T03:09:59.998Z"
   },
   {
    "duration": 0,
    "start_time": "2024-08-24T03:10:00.001Z"
   },
   {
    "duration": 0,
    "start_time": "2024-08-24T03:10:00.003Z"
   },
   {
    "duration": 0,
    "start_time": "2024-08-24T03:10:00.006Z"
   },
   {
    "duration": 0,
    "start_time": "2024-08-24T03:10:00.008Z"
   },
   {
    "duration": 0,
    "start_time": "2024-08-24T03:10:00.011Z"
   },
   {
    "duration": 0,
    "start_time": "2024-08-24T03:10:00.013Z"
   },
   {
    "duration": 1,
    "start_time": "2024-08-24T03:10:00.015Z"
   },
   {
    "duration": 0,
    "start_time": "2024-08-24T03:10:00.019Z"
   },
   {
    "duration": 0,
    "start_time": "2024-08-24T03:10:00.021Z"
   },
   {
    "duration": 0,
    "start_time": "2024-08-24T03:10:00.024Z"
   },
   {
    "duration": 1,
    "start_time": "2024-08-24T03:10:00.026Z"
   },
   {
    "duration": 0,
    "start_time": "2024-08-24T03:10:00.029Z"
   },
   {
    "duration": 0,
    "start_time": "2024-08-24T03:10:00.091Z"
   },
   {
    "duration": 0,
    "start_time": "2024-08-24T03:10:00.093Z"
   },
   {
    "duration": 0,
    "start_time": "2024-08-24T03:10:00.096Z"
   },
   {
    "duration": 0,
    "start_time": "2024-08-24T03:10:00.098Z"
   },
   {
    "duration": 0,
    "start_time": "2024-08-24T03:10:00.100Z"
   },
   {
    "duration": 0,
    "start_time": "2024-08-24T03:10:00.102Z"
   },
   {
    "duration": 0,
    "start_time": "2024-08-24T03:10:00.104Z"
   },
   {
    "duration": 0,
    "start_time": "2024-08-24T03:10:00.106Z"
   },
   {
    "duration": 0,
    "start_time": "2024-08-24T03:10:00.108Z"
   },
   {
    "duration": 0,
    "start_time": "2024-08-24T03:10:00.111Z"
   },
   {
    "duration": 0,
    "start_time": "2024-08-24T03:10:00.112Z"
   },
   {
    "duration": 0,
    "start_time": "2024-08-24T03:10:00.115Z"
   },
   {
    "duration": 0,
    "start_time": "2024-08-24T03:10:00.117Z"
   },
   {
    "duration": 6,
    "start_time": "2024-08-24T03:10:32.094Z"
   },
   {
    "duration": 26,
    "start_time": "2024-08-24T03:10:34.721Z"
   },
   {
    "duration": 22,
    "start_time": "2024-08-24T03:10:35.045Z"
   },
   {
    "duration": 3,
    "start_time": "2024-08-24T03:10:42.912Z"
   },
   {
    "duration": 5,
    "start_time": "2024-08-24T03:10:46.938Z"
   },
   {
    "duration": 24,
    "start_time": "2024-08-24T03:10:54.904Z"
   },
   {
    "duration": 1,
    "start_time": "2024-08-24T03:10:54.930Z"
   },
   {
    "duration": 0,
    "start_time": "2024-08-24T03:10:54.932Z"
   },
   {
    "duration": 0,
    "start_time": "2024-08-24T03:10:54.935Z"
   },
   {
    "duration": 0,
    "start_time": "2024-08-24T03:10:54.937Z"
   },
   {
    "duration": 1,
    "start_time": "2024-08-24T03:10:54.940Z"
   },
   {
    "duration": 59,
    "start_time": "2024-08-24T03:10:54.944Z"
   },
   {
    "duration": 0,
    "start_time": "2024-08-24T03:10:55.007Z"
   },
   {
    "duration": 0,
    "start_time": "2024-08-24T03:10:55.009Z"
   },
   {
    "duration": 0,
    "start_time": "2024-08-24T03:10:55.011Z"
   },
   {
    "duration": 0,
    "start_time": "2024-08-24T03:10:55.013Z"
   },
   {
    "duration": 0,
    "start_time": "2024-08-24T03:10:55.015Z"
   },
   {
    "duration": 0,
    "start_time": "2024-08-24T03:10:55.017Z"
   },
   {
    "duration": 1,
    "start_time": "2024-08-24T03:10:55.018Z"
   },
   {
    "duration": 0,
    "start_time": "2024-08-24T03:10:55.020Z"
   },
   {
    "duration": 0,
    "start_time": "2024-08-24T03:10:55.022Z"
   },
   {
    "duration": 0,
    "start_time": "2024-08-24T03:10:55.023Z"
   },
   {
    "duration": 0,
    "start_time": "2024-08-24T03:10:55.026Z"
   },
   {
    "duration": 0,
    "start_time": "2024-08-24T03:10:55.029Z"
   },
   {
    "duration": 0,
    "start_time": "2024-08-24T03:10:55.031Z"
   },
   {
    "duration": 0,
    "start_time": "2024-08-24T03:10:55.034Z"
   },
   {
    "duration": 0,
    "start_time": "2024-08-24T03:10:55.091Z"
   },
   {
    "duration": 0,
    "start_time": "2024-08-24T03:10:55.093Z"
   },
   {
    "duration": 5,
    "start_time": "2024-08-24T03:10:55.102Z"
   },
   {
    "duration": 5,
    "start_time": "2024-08-24T03:11:15.506Z"
   },
   {
    "duration": 1176,
    "start_time": "2024-08-24T03:11:29.969Z"
   },
   {
    "duration": 196,
    "start_time": "2024-08-24T03:11:31.149Z"
   },
   {
    "duration": 26,
    "start_time": "2024-08-24T03:11:31.348Z"
   },
   {
    "duration": 72,
    "start_time": "2024-08-24T03:11:31.394Z"
   },
   {
    "duration": 89,
    "start_time": "2024-08-24T03:11:31.469Z"
   },
   {
    "duration": 129,
    "start_time": "2024-08-24T03:11:31.561Z"
   },
   {
    "duration": 11,
    "start_time": "2024-08-24T03:11:31.693Z"
   },
   {
    "duration": 40749,
    "start_time": "2024-08-24T03:11:31.708Z"
   },
   {
    "duration": 261,
    "start_time": "2024-08-24T03:12:12.460Z"
   },
   {
    "duration": 81,
    "start_time": "2024-08-24T03:12:12.728Z"
   },
   {
    "duration": 47,
    "start_time": "2024-08-24T03:12:12.812Z"
   },
   {
    "duration": 112,
    "start_time": "2024-08-24T03:12:12.862Z"
   },
   {
    "duration": 5,
    "start_time": "2024-08-24T03:12:12.990Z"
   },
   {
    "duration": 37,
    "start_time": "2024-08-24T03:12:12.999Z"
   },
   {
    "duration": 382,
    "start_time": "2024-08-24T03:12:13.039Z"
   },
   {
    "duration": 129,
    "start_time": "2024-08-24T03:12:13.423Z"
   },
   {
    "duration": 104,
    "start_time": "2024-08-24T03:12:13.555Z"
   },
   {
    "duration": 33,
    "start_time": "2024-08-24T03:12:13.662Z"
   },
   {
    "duration": 94,
    "start_time": "2024-08-24T03:12:13.698Z"
   },
   {
    "duration": 40,
    "start_time": "2024-08-24T03:12:13.795Z"
   },
   {
    "duration": 106,
    "start_time": "2024-08-24T03:12:13.838Z"
   },
   {
    "duration": 108,
    "start_time": "2024-08-24T03:12:13.947Z"
   },
   {
    "duration": 241,
    "start_time": "2024-08-24T03:12:14.058Z"
   },
   {
    "duration": 124,
    "start_time": "2024-08-24T03:12:14.302Z"
   },
   {
    "duration": 3,
    "start_time": "2024-08-24T03:12:14.429Z"
   },
   {
    "duration": 108,
    "start_time": "2024-08-24T03:12:14.436Z"
   },
   {
    "duration": 75,
    "start_time": "2024-08-24T03:12:14.547Z"
   },
   {
    "duration": 27,
    "start_time": "2024-08-24T03:12:14.629Z"
   },
   {
    "duration": 32,
    "start_time": "2024-08-24T03:12:14.660Z"
   },
   {
    "duration": 6,
    "start_time": "2024-08-24T03:12:14.694Z"
   },
   {
    "duration": 7,
    "start_time": "2024-08-24T03:12:14.703Z"
   },
   {
    "duration": 3,
    "start_time": "2024-08-24T03:12:14.714Z"
   },
   {
    "duration": 7,
    "start_time": "2024-08-24T03:12:14.720Z"
   },
   {
    "duration": 4,
    "start_time": "2024-08-24T03:12:14.730Z"
   },
   {
    "duration": 59,
    "start_time": "2024-08-24T03:12:14.737Z"
   },
   {
    "duration": 10,
    "start_time": "2024-08-24T03:12:14.799Z"
   },
   {
    "duration": 50,
    "start_time": "2024-08-24T03:12:14.813Z"
   },
   {
    "duration": 24,
    "start_time": "2024-08-24T03:12:14.890Z"
   },
   {
    "duration": 10,
    "start_time": "2024-08-24T03:12:14.917Z"
   },
   {
    "duration": 5,
    "start_time": "2024-08-24T03:12:14.930Z"
   },
   {
    "duration": 5,
    "start_time": "2024-08-24T03:12:14.938Z"
   },
   {
    "duration": 47,
    "start_time": "2024-08-24T03:12:14.946Z"
   },
   {
    "duration": 8,
    "start_time": "2024-08-24T03:12:14.996Z"
   },
   {
    "duration": 5,
    "start_time": "2024-08-24T03:12:15.006Z"
   },
   {
    "duration": 8,
    "start_time": "2024-08-24T03:12:15.013Z"
   },
   {
    "duration": 85,
    "start_time": "2024-08-24T03:12:15.024Z"
   },
   {
    "duration": 23,
    "start_time": "2024-08-24T03:12:15.112Z"
   },
   {
    "duration": 13,
    "start_time": "2024-08-24T03:12:15.138Z"
   },
   {
    "duration": 4,
    "start_time": "2024-08-24T03:12:15.190Z"
   },
   {
    "duration": 4,
    "start_time": "2024-08-24T03:12:15.197Z"
   },
   {
    "duration": 9,
    "start_time": "2024-08-24T03:12:15.204Z"
   },
   {
    "duration": 74,
    "start_time": "2024-08-24T03:12:15.217Z"
   },
   {
    "duration": 21,
    "start_time": "2024-08-24T03:12:15.293Z"
   },
   {
    "duration": 12,
    "start_time": "2024-08-24T03:12:15.317Z"
   },
   {
    "duration": 4,
    "start_time": "2024-08-24T03:12:15.332Z"
   },
   {
    "duration": 8,
    "start_time": "2024-08-24T03:12:15.341Z"
   },
   {
    "duration": 5,
    "start_time": "2024-08-24T03:12:15.392Z"
   },
   {
    "duration": 9,
    "start_time": "2024-08-24T03:41:43.951Z"
   },
   {
    "duration": 409,
    "start_time": "2024-08-24T03:41:53.775Z"
   },
   {
    "duration": 4,
    "start_time": "2024-08-24T03:42:12.909Z"
   },
   {
    "duration": 5,
    "start_time": "2024-08-24T03:42:19.375Z"
   },
   {
    "duration": 10,
    "start_time": "2024-08-24T04:30:53.432Z"
   },
   {
    "duration": 12,
    "start_time": "2024-08-24T04:31:05.496Z"
   },
   {
    "duration": 6,
    "start_time": "2024-08-24T04:31:19.882Z"
   },
   {
    "duration": 6,
    "start_time": "2024-08-24T04:44:09.255Z"
   },
   {
    "duration": 8,
    "start_time": "2024-08-24T04:44:11.767Z"
   },
   {
    "duration": 30,
    "start_time": "2024-08-24T04:44:19.567Z"
   },
   {
    "duration": 7,
    "start_time": "2024-08-24T04:44:38.862Z"
   },
   {
    "duration": 24,
    "start_time": "2024-08-24T04:46:47.538Z"
   },
   {
    "duration": 23,
    "start_time": "2024-08-24T04:47:17.293Z"
   },
   {
    "duration": 11,
    "start_time": "2024-08-24T04:47:22.173Z"
   },
   {
    "duration": 28,
    "start_time": "2024-08-24T04:48:24.116Z"
   },
   {
    "duration": 10,
    "start_time": "2024-08-24T04:48:32.985Z"
   },
   {
    "duration": 25,
    "start_time": "2024-08-24T04:48:34.471Z"
   },
   {
    "duration": 10,
    "start_time": "2024-08-24T04:49:13.469Z"
   },
   {
    "duration": 6,
    "start_time": "2024-08-24T04:49:14.757Z"
   },
   {
    "duration": 10,
    "start_time": "2024-08-24T04:50:42.293Z"
   },
   {
    "duration": 9,
    "start_time": "2024-08-24T04:51:39.771Z"
   },
   {
    "duration": 7,
    "start_time": "2024-08-24T04:51:41.435Z"
   },
   {
    "duration": 5,
    "start_time": "2024-08-24T04:51:53.349Z"
   },
   {
    "duration": 7,
    "start_time": "2024-08-24T04:52:22.638Z"
   },
   {
    "duration": 10,
    "start_time": "2024-08-24T04:55:40.530Z"
   },
   {
    "duration": 7,
    "start_time": "2024-08-24T04:56:13.391Z"
   },
   {
    "duration": 6,
    "start_time": "2024-08-24T05:00:16.681Z"
   },
   {
    "duration": 6,
    "start_time": "2024-08-24T05:00:22.189Z"
   },
   {
    "duration": 6,
    "start_time": "2024-08-24T05:03:01.161Z"
   },
   {
    "duration": 6,
    "start_time": "2024-08-24T05:03:38.305Z"
   },
   {
    "duration": 5,
    "start_time": "2024-08-24T05:05:10.217Z"
   },
   {
    "duration": 6,
    "start_time": "2024-08-24T05:05:15.745Z"
   },
   {
    "duration": 5,
    "start_time": "2024-08-24T05:07:11.560Z"
   },
   {
    "duration": 5,
    "start_time": "2024-08-24T05:07:20.334Z"
   },
   {
    "duration": 6,
    "start_time": "2024-08-24T05:09:15.346Z"
   },
   {
    "duration": 5,
    "start_time": "2024-08-24T05:09:56.231Z"
   },
   {
    "duration": 12,
    "start_time": "2024-08-24T05:10:02.711Z"
   },
   {
    "duration": 6,
    "start_time": "2024-08-24T05:18:41.618Z"
   },
   {
    "duration": 6,
    "start_time": "2024-08-24T05:18:59.088Z"
   },
   {
    "duration": 7,
    "start_time": "2024-08-24T05:20:48.424Z"
   },
   {
    "duration": 6,
    "start_time": "2024-08-24T05:21:30.124Z"
   },
   {
    "duration": 10,
    "start_time": "2024-08-24T05:22:04.814Z"
   },
   {
    "duration": 24,
    "start_time": "2024-08-24T05:22:39.260Z"
   },
   {
    "duration": 4,
    "start_time": "2024-08-24T05:22:44.563Z"
   },
   {
    "duration": 5,
    "start_time": "2024-08-24T05:22:51.470Z"
   },
   {
    "duration": 5,
    "start_time": "2024-08-24T05:28:11.760Z"
   },
   {
    "duration": 6,
    "start_time": "2024-08-24T05:32:41.812Z"
   },
   {
    "duration": 5,
    "start_time": "2024-08-24T05:33:15.826Z"
   },
   {
    "duration": 6,
    "start_time": "2024-08-24T05:34:59.044Z"
   },
   {
    "duration": 9,
    "start_time": "2024-08-24T05:37:33.387Z"
   },
   {
    "duration": 5,
    "start_time": "2024-08-24T05:43:09.301Z"
   },
   {
    "duration": 6,
    "start_time": "2024-08-24T05:46:12.542Z"
   },
   {
    "duration": 5,
    "start_time": "2024-08-24T05:46:35.257Z"
   },
   {
    "duration": 6,
    "start_time": "2024-08-24T05:54:37.936Z"
   },
   {
    "duration": 4877,
    "start_time": "2024-08-25T18:40:42.798Z"
   },
   {
    "duration": 246,
    "start_time": "2024-08-25T18:40:47.678Z"
   },
   {
    "duration": 40,
    "start_time": "2024-08-25T18:40:47.927Z"
   },
   {
    "duration": 69,
    "start_time": "2024-08-25T18:40:47.973Z"
   },
   {
    "duration": 93,
    "start_time": "2024-08-25T18:40:48.045Z"
   },
   {
    "duration": 131,
    "start_time": "2024-08-25T18:40:48.142Z"
   },
   {
    "duration": 12,
    "start_time": "2024-08-25T18:40:48.277Z"
   },
   {
    "duration": 38218,
    "start_time": "2024-08-25T18:40:48.292Z"
   },
   {
    "duration": 234,
    "start_time": "2024-08-25T18:41:26.515Z"
   },
   {
    "duration": 69,
    "start_time": "2024-08-25T18:41:26.755Z"
   },
   {
    "duration": 71,
    "start_time": "2024-08-25T18:41:26.827Z"
   },
   {
    "duration": 108,
    "start_time": "2024-08-25T18:41:26.901Z"
   },
   {
    "duration": 4,
    "start_time": "2024-08-25T18:41:27.011Z"
   },
   {
    "duration": 63,
    "start_time": "2024-08-25T18:41:27.019Z"
   },
   {
    "duration": 363,
    "start_time": "2024-08-25T18:41:27.085Z"
   },
   {
    "duration": 125,
    "start_time": "2024-08-25T18:41:27.452Z"
   },
   {
    "duration": 103,
    "start_time": "2024-08-25T18:41:27.579Z"
   },
   {
    "duration": 25,
    "start_time": "2024-08-25T18:41:27.685Z"
   },
   {
    "duration": 100,
    "start_time": "2024-08-25T18:41:27.712Z"
   },
   {
    "duration": 69,
    "start_time": "2024-08-25T18:41:27.815Z"
   },
   {
    "duration": 99,
    "start_time": "2024-08-25T18:41:27.888Z"
   },
   {
    "duration": 183,
    "start_time": "2024-08-25T18:41:27.990Z"
   },
   {
    "duration": 251,
    "start_time": "2024-08-25T18:41:28.176Z"
   },
   {
    "duration": 159,
    "start_time": "2024-08-25T18:41:28.430Z"
   },
   {
    "duration": 5,
    "start_time": "2024-08-25T18:41:28.591Z"
   },
   {
    "duration": 100,
    "start_time": "2024-08-25T18:41:28.600Z"
   },
   {
    "duration": 76,
    "start_time": "2024-08-25T18:41:28.703Z"
   },
   {
    "duration": 24,
    "start_time": "2024-08-25T18:41:28.789Z"
   },
   {
    "duration": 10,
    "start_time": "2024-08-25T18:41:28.816Z"
   },
   {
    "duration": 6,
    "start_time": "2024-08-25T18:41:28.829Z"
   },
   {
    "duration": 16,
    "start_time": "2024-08-25T18:41:28.869Z"
   },
   {
    "duration": 4,
    "start_time": "2024-08-25T18:41:28.889Z"
   },
   {
    "duration": 8,
    "start_time": "2024-08-25T18:41:28.897Z"
   },
   {
    "duration": 5,
    "start_time": "2024-08-25T18:41:28.908Z"
   },
   {
    "duration": 6,
    "start_time": "2024-08-25T18:41:28.916Z"
   },
   {
    "duration": 9,
    "start_time": "2024-08-25T18:41:28.967Z"
   },
   {
    "duration": 47,
    "start_time": "2024-08-25T18:41:28.981Z"
   },
   {
    "duration": 54,
    "start_time": "2024-08-25T18:41:29.030Z"
   },
   {
    "duration": 10,
    "start_time": "2024-08-25T18:41:29.087Z"
   },
   {
    "duration": 5,
    "start_time": "2024-08-25T18:41:29.100Z"
   },
   {
    "duration": 5,
    "start_time": "2024-08-25T18:41:29.108Z"
   },
   {
    "duration": 52,
    "start_time": "2024-08-25T18:41:29.116Z"
   },
   {
    "duration": 7,
    "start_time": "2024-08-25T18:41:29.170Z"
   },
   {
    "duration": 4,
    "start_time": "2024-08-25T18:41:29.180Z"
   },
   {
    "duration": 8,
    "start_time": "2024-08-25T18:41:29.187Z"
   },
   {
    "duration": 86,
    "start_time": "2024-08-25T18:41:29.199Z"
   },
   {
    "duration": 26,
    "start_time": "2024-08-25T18:41:29.287Z"
   },
   {
    "duration": 11,
    "start_time": "2024-08-25T18:41:29.316Z"
   },
   {
    "duration": 38,
    "start_time": "2024-08-25T18:41:29.330Z"
   },
   {
    "duration": 4,
    "start_time": "2024-08-25T18:41:29.371Z"
   },
   {
    "duration": 9,
    "start_time": "2024-08-25T18:41:29.377Z"
   },
   {
    "duration": 41,
    "start_time": "2024-08-25T18:41:29.389Z"
   },
   {
    "duration": 54,
    "start_time": "2024-08-25T18:41:29.432Z"
   },
   {
    "duration": 12,
    "start_time": "2024-08-25T18:41:29.488Z"
   },
   {
    "duration": 4,
    "start_time": "2024-08-25T18:41:29.503Z"
   },
   {
    "duration": 8,
    "start_time": "2024-08-25T18:41:29.510Z"
   },
   {
    "duration": 52,
    "start_time": "2024-08-25T18:41:29.522Z"
   },
   {
    "duration": 6,
    "start_time": "2024-08-25T18:41:29.577Z"
   },
   {
    "duration": 6,
    "start_time": "2024-08-25T18:41:29.585Z"
   },
   {
    "duration": 6,
    "start_time": "2024-08-25T18:41:29.594Z"
   },
   {
    "duration": 11,
    "start_time": "2024-08-25T18:41:29.603Z"
   },
   {
    "duration": 7,
    "start_time": "2024-08-25T18:41:29.667Z"
   },
   {
    "duration": 10,
    "start_time": "2024-08-25T18:41:29.682Z"
   },
   {
    "duration": 6,
    "start_time": "2024-08-25T18:41:29.695Z"
   },
   {
    "duration": 11,
    "start_time": "2024-08-25T18:41:29.704Z"
   },
   {
    "duration": 51,
    "start_time": "2024-08-25T18:41:29.718Z"
   },
   {
    "duration": 6,
    "start_time": "2024-08-25T18:41:29.773Z"
   },
   {
    "duration": 6,
    "start_time": "2024-08-25T18:41:29.783Z"
   },
   {
    "duration": 7,
    "start_time": "2024-08-25T18:41:29.792Z"
   },
   {
    "duration": 5,
    "start_time": "2024-08-25T18:41:29.803Z"
   },
   {
    "duration": 58,
    "start_time": "2024-08-25T18:41:29.811Z"
   },
   {
    "duration": 11,
    "start_time": "2024-08-25T18:41:29.873Z"
   },
   {
    "duration": 6,
    "start_time": "2024-08-25T18:41:29.887Z"
   },
   {
    "duration": 7,
    "start_time": "2024-08-25T18:41:29.896Z"
   },
   {
    "duration": 7,
    "start_time": "2024-08-25T18:41:29.906Z"
   },
   {
    "duration": 55,
    "start_time": "2024-08-25T18:41:29.916Z"
   },
   {
    "duration": 6,
    "start_time": "2024-08-25T18:41:29.975Z"
   },
   {
    "duration": 6,
    "start_time": "2024-08-25T18:41:29.984Z"
   },
   {
    "duration": 6,
    "start_time": "2024-08-25T18:41:29.994Z"
   },
   {
    "duration": 6,
    "start_time": "2024-08-25T18:41:30.003Z"
   },
   {
    "duration": 4,
    "start_time": "2024-08-25T19:06:17.115Z"
   },
   {
    "duration": 4,
    "start_time": "2024-08-25T19:12:57.299Z"
   },
   {
    "duration": 6,
    "start_time": "2024-08-25T19:16:30.447Z"
   },
   {
    "duration": 8,
    "start_time": "2024-08-25T19:18:27.185Z"
   },
   {
    "duration": 5,
    "start_time": "2024-08-25T19:18:29.251Z"
   },
   {
    "duration": 6,
    "start_time": "2024-08-25T19:18:47.403Z"
   },
   {
    "duration": 5,
    "start_time": "2024-08-25T19:18:48.826Z"
   },
   {
    "duration": 7,
    "start_time": "2024-08-25T19:19:40.513Z"
   },
   {
    "duration": 8,
    "start_time": "2024-08-25T19:19:42.485Z"
   },
   {
    "duration": 1190,
    "start_time": "2024-08-25T19:19:46.736Z"
   },
   {
    "duration": 208,
    "start_time": "2024-08-25T19:19:47.930Z"
   },
   {
    "duration": 40,
    "start_time": "2024-08-25T19:19:48.140Z"
   },
   {
    "duration": 76,
    "start_time": "2024-08-25T19:19:48.184Z"
   },
   {
    "duration": 84,
    "start_time": "2024-08-25T19:19:48.272Z"
   },
   {
    "duration": 130,
    "start_time": "2024-08-25T19:19:48.368Z"
   },
   {
    "duration": 11,
    "start_time": "2024-08-25T19:19:48.501Z"
   },
   {
    "duration": 37266,
    "start_time": "2024-08-25T19:19:48.516Z"
   },
   {
    "duration": 233,
    "start_time": "2024-08-25T19:20:25.786Z"
   },
   {
    "duration": 74,
    "start_time": "2024-08-25T19:20:26.022Z"
   },
   {
    "duration": 48,
    "start_time": "2024-08-25T19:20:26.098Z"
   },
   {
    "duration": 113,
    "start_time": "2024-08-25T19:20:26.158Z"
   },
   {
    "duration": 9,
    "start_time": "2024-08-25T19:20:26.274Z"
   },
   {
    "duration": 37,
    "start_time": "2024-08-25T19:20:26.289Z"
   },
   {
    "duration": 380,
    "start_time": "2024-08-25T19:20:26.329Z"
   },
   {
    "duration": 127,
    "start_time": "2024-08-25T19:20:26.712Z"
   },
   {
    "duration": 98,
    "start_time": "2024-08-25T19:20:26.843Z"
   },
   {
    "duration": 41,
    "start_time": "2024-08-25T19:20:26.944Z"
   },
   {
    "duration": 86,
    "start_time": "2024-08-25T19:20:26.988Z"
   },
   {
    "duration": 42,
    "start_time": "2024-08-25T19:20:27.077Z"
   },
   {
    "duration": 106,
    "start_time": "2024-08-25T19:20:27.123Z"
   },
   {
    "duration": 110,
    "start_time": "2024-08-25T19:20:27.232Z"
   },
   {
    "duration": 250,
    "start_time": "2024-08-25T19:20:27.346Z"
   },
   {
    "duration": 104,
    "start_time": "2024-08-25T19:20:27.599Z"
   },
   {
    "duration": 5,
    "start_time": "2024-08-25T19:20:27.706Z"
   },
   {
    "duration": 109,
    "start_time": "2024-08-25T19:20:27.714Z"
   },
   {
    "duration": 91,
    "start_time": "2024-08-25T19:20:27.827Z"
   },
   {
    "duration": 25,
    "start_time": "2024-08-25T19:20:27.920Z"
   },
   {
    "duration": 25,
    "start_time": "2024-08-25T19:20:27.948Z"
   },
   {
    "duration": 13,
    "start_time": "2024-08-25T19:20:27.977Z"
   },
   {
    "duration": 9,
    "start_time": "2024-08-25T19:20:27.993Z"
   },
   {
    "duration": 10,
    "start_time": "2024-08-25T19:20:28.004Z"
   },
   {
    "duration": 6,
    "start_time": "2024-08-25T19:20:28.017Z"
   },
   {
    "duration": 4,
    "start_time": "2024-08-25T19:20:28.026Z"
   },
   {
    "duration": 51,
    "start_time": "2024-08-25T19:20:28.034Z"
   },
   {
    "duration": 13,
    "start_time": "2024-08-25T19:20:28.093Z"
   },
   {
    "duration": 48,
    "start_time": "2024-08-25T19:20:28.109Z"
   },
   {
    "duration": 46,
    "start_time": "2024-08-25T19:20:28.159Z"
   },
   {
    "duration": 10,
    "start_time": "2024-08-25T19:20:28.208Z"
   },
   {
    "duration": 4,
    "start_time": "2024-08-25T19:20:28.221Z"
   },
   {
    "duration": 4,
    "start_time": "2024-08-25T19:20:28.236Z"
   },
   {
    "duration": 27,
    "start_time": "2024-08-25T19:20:28.243Z"
   },
   {
    "duration": 8,
    "start_time": "2024-08-25T19:20:28.272Z"
   },
   {
    "duration": 6,
    "start_time": "2024-08-25T19:20:28.283Z"
   },
   {
    "duration": 14,
    "start_time": "2024-08-25T19:20:28.292Z"
   },
   {
    "duration": 73,
    "start_time": "2024-08-25T19:20:28.309Z"
   },
   {
    "duration": 25,
    "start_time": "2024-08-25T19:20:28.385Z"
   },
   {
    "duration": 14,
    "start_time": "2024-08-25T19:20:28.414Z"
   },
   {
    "duration": 6,
    "start_time": "2024-08-25T19:20:28.430Z"
   },
   {
    "duration": 34,
    "start_time": "2024-08-25T19:20:28.438Z"
   },
   {
    "duration": 23,
    "start_time": "2024-08-25T19:20:28.478Z"
   },
   {
    "duration": 40,
    "start_time": "2024-08-25T19:20:28.507Z"
   },
   {
    "duration": 28,
    "start_time": "2024-08-25T19:20:28.550Z"
   },
   {
    "duration": 12,
    "start_time": "2024-08-25T19:20:28.581Z"
   },
   {
    "duration": 6,
    "start_time": "2024-08-25T19:20:28.596Z"
   },
   {
    "duration": 7,
    "start_time": "2024-08-25T19:20:28.608Z"
   },
   {
    "duration": 10,
    "start_time": "2024-08-25T19:20:28.618Z"
   },
   {
    "duration": 5,
    "start_time": "2024-08-25T19:20:28.672Z"
   },
   {
    "duration": 7,
    "start_time": "2024-08-25T19:20:28.680Z"
   },
   {
    "duration": 6,
    "start_time": "2024-08-25T19:20:28.691Z"
   },
   {
    "duration": 10,
    "start_time": "2024-08-25T19:20:28.700Z"
   },
   {
    "duration": 6,
    "start_time": "2024-08-25T19:20:28.712Z"
   },
   {
    "duration": 56,
    "start_time": "2024-08-25T19:20:28.721Z"
   },
   {
    "duration": 19,
    "start_time": "2024-08-25T19:20:28.779Z"
   },
   {
    "duration": 10,
    "start_time": "2024-08-25T19:20:28.800Z"
   },
   {
    "duration": 6,
    "start_time": "2024-08-25T19:20:28.814Z"
   },
   {
    "duration": 5,
    "start_time": "2024-08-25T19:20:28.823Z"
   },
   {
    "duration": 5,
    "start_time": "2024-08-25T19:20:28.832Z"
   },
   {
    "duration": 9,
    "start_time": "2024-08-25T19:20:28.870Z"
   },
   {
    "duration": 8,
    "start_time": "2024-08-25T19:20:28.884Z"
   },
   {
    "duration": 7,
    "start_time": "2024-08-25T19:20:28.895Z"
   },
   {
    "duration": 6,
    "start_time": "2024-08-25T19:20:28.906Z"
   },
   {
    "duration": 10,
    "start_time": "2024-08-25T19:20:28.915Z"
   },
   {
    "duration": 40,
    "start_time": "2024-08-25T19:20:28.929Z"
   },
   {
    "duration": 8,
    "start_time": "2024-08-25T19:20:28.972Z"
   },
   {
    "duration": 8,
    "start_time": "2024-08-25T19:20:28.986Z"
   },
   {
    "duration": 8,
    "start_time": "2024-08-25T19:20:29.001Z"
   },
   {
    "duration": 7,
    "start_time": "2024-08-25T19:20:29.013Z"
   },
   {
    "duration": 6,
    "start_time": "2024-08-25T19:20:29.023Z"
   },
   {
    "duration": 6,
    "start_time": "2024-08-25T19:20:29.069Z"
   },
   {
    "duration": 6,
    "start_time": "2024-08-25T19:20:29.079Z"
   },
   {
    "duration": 8,
    "start_time": "2024-08-25T19:20:29.089Z"
   },
   {
    "duration": 9,
    "start_time": "2024-08-25T19:20:29.101Z"
   },
   {
    "duration": 6,
    "start_time": "2024-08-25T19:20:29.113Z"
   },
   {
    "duration": 1195,
    "start_time": "2024-08-25T19:30:37.120Z"
   },
   {
    "duration": 203,
    "start_time": "2024-08-25T19:30:38.318Z"
   },
   {
    "duration": 24,
    "start_time": "2024-08-25T19:30:38.524Z"
   },
   {
    "duration": 76,
    "start_time": "2024-08-25T19:30:38.567Z"
   },
   {
    "duration": 96,
    "start_time": "2024-08-25T19:30:38.647Z"
   },
   {
    "duration": 130,
    "start_time": "2024-08-25T19:30:38.746Z"
   },
   {
    "duration": 20,
    "start_time": "2024-08-25T19:30:38.881Z"
   },
   {
    "duration": 36565,
    "start_time": "2024-08-25T19:30:38.903Z"
   },
   {
    "duration": 224,
    "start_time": "2024-08-25T19:31:15.480Z"
   },
   {
    "duration": 73,
    "start_time": "2024-08-25T19:31:15.707Z"
   },
   {
    "duration": 48,
    "start_time": "2024-08-25T19:31:15.785Z"
   },
   {
    "duration": 120,
    "start_time": "2024-08-25T19:31:15.836Z"
   },
   {
    "duration": 12,
    "start_time": "2024-08-25T19:31:15.967Z"
   },
   {
    "duration": 38,
    "start_time": "2024-08-25T19:31:15.985Z"
   },
   {
    "duration": 377,
    "start_time": "2024-08-25T19:31:16.026Z"
   },
   {
    "duration": 118,
    "start_time": "2024-08-25T19:31:16.406Z"
   },
   {
    "duration": 107,
    "start_time": "2024-08-25T19:31:16.527Z"
   },
   {
    "duration": 61,
    "start_time": "2024-08-25T19:31:16.637Z"
   },
   {
    "duration": 85,
    "start_time": "2024-08-25T19:31:16.702Z"
   },
   {
    "duration": 43,
    "start_time": "2024-08-25T19:31:16.792Z"
   },
   {
    "duration": 96,
    "start_time": "2024-08-25T19:31:16.838Z"
   },
   {
    "duration": 111,
    "start_time": "2024-08-25T19:31:16.937Z"
   },
   {
    "duration": 245,
    "start_time": "2024-08-25T19:31:17.051Z"
   },
   {
    "duration": 117,
    "start_time": "2024-08-25T19:31:17.299Z"
   },
   {
    "duration": 8,
    "start_time": "2024-08-25T19:31:17.419Z"
   },
   {
    "duration": 98,
    "start_time": "2024-08-25T19:31:17.430Z"
   },
   {
    "duration": 74,
    "start_time": "2024-08-25T19:31:17.531Z"
   },
   {
    "duration": 25,
    "start_time": "2024-08-25T19:31:17.607Z"
   },
   {
    "duration": 40,
    "start_time": "2024-08-25T19:31:17.635Z"
   },
   {
    "duration": 5,
    "start_time": "2024-08-25T19:31:17.677Z"
   },
   {
    "duration": 5,
    "start_time": "2024-08-25T19:31:17.685Z"
   },
   {
    "duration": 3,
    "start_time": "2024-08-25T19:31:17.693Z"
   },
   {
    "duration": 5,
    "start_time": "2024-08-25T19:31:17.699Z"
   },
   {
    "duration": 3,
    "start_time": "2024-08-25T19:31:17.707Z"
   },
   {
    "duration": 6,
    "start_time": "2024-08-25T19:31:17.712Z"
   },
   {
    "duration": 52,
    "start_time": "2024-08-25T19:31:17.721Z"
   },
   {
    "duration": 50,
    "start_time": "2024-08-25T19:31:17.776Z"
   },
   {
    "duration": 48,
    "start_time": "2024-08-25T19:31:17.829Z"
   },
   {
    "duration": 17,
    "start_time": "2024-08-25T19:31:17.882Z"
   },
   {
    "duration": 7,
    "start_time": "2024-08-25T19:31:17.901Z"
   },
   {
    "duration": 4,
    "start_time": "2024-08-25T19:31:17.918Z"
   },
   {
    "duration": 6,
    "start_time": "2024-08-25T19:31:17.925Z"
   },
   {
    "duration": 43,
    "start_time": "2024-08-25T19:31:17.934Z"
   },
   {
    "duration": 7,
    "start_time": "2024-08-25T19:31:17.979Z"
   },
   {
    "duration": 9,
    "start_time": "2024-08-25T19:31:17.993Z"
   },
   {
    "duration": 66,
    "start_time": "2024-08-25T19:31:18.005Z"
   },
   {
    "duration": 29,
    "start_time": "2024-08-25T19:31:18.075Z"
   },
   {
    "duration": 12,
    "start_time": "2024-08-25T19:31:18.117Z"
   },
   {
    "duration": 4,
    "start_time": "2024-08-25T19:31:18.132Z"
   },
   {
    "duration": 28,
    "start_time": "2024-08-25T19:31:18.140Z"
   },
   {
    "duration": 17,
    "start_time": "2024-08-25T19:31:18.170Z"
   },
   {
    "duration": 44,
    "start_time": "2024-08-25T19:31:18.191Z"
   },
   {
    "duration": 39,
    "start_time": "2024-08-25T19:31:18.238Z"
   },
   {
    "duration": 17,
    "start_time": "2024-08-25T19:31:18.280Z"
   },
   {
    "duration": 3,
    "start_time": "2024-08-25T19:31:18.303Z"
   },
   {
    "duration": 8,
    "start_time": "2024-08-25T19:31:18.314Z"
   },
   {
    "duration": 13,
    "start_time": "2024-08-25T19:31:18.325Z"
   },
   {
    "duration": 37,
    "start_time": "2024-08-25T19:31:18.340Z"
   },
   {
    "duration": 7,
    "start_time": "2024-08-25T19:31:18.380Z"
   },
   {
    "duration": 6,
    "start_time": "2024-08-25T19:31:18.390Z"
   },
   {
    "duration": 11,
    "start_time": "2024-08-25T19:31:18.404Z"
   },
   {
    "duration": 6,
    "start_time": "2024-08-25T19:31:18.417Z"
   },
   {
    "duration": 42,
    "start_time": "2024-08-25T19:31:18.427Z"
   },
   {
    "duration": 9,
    "start_time": "2024-08-25T19:31:18.471Z"
   },
   {
    "duration": 12,
    "start_time": "2024-08-25T19:31:18.488Z"
   },
   {
    "duration": 6,
    "start_time": "2024-08-25T19:31:18.502Z"
   },
   {
    "duration": 7,
    "start_time": "2024-08-25T19:31:18.511Z"
   },
   {
    "duration": 10,
    "start_time": "2024-08-25T19:31:18.521Z"
   },
   {
    "duration": 34,
    "start_time": "2024-08-25T19:31:18.535Z"
   },
   {
    "duration": 10,
    "start_time": "2024-08-25T19:31:18.571Z"
   },
   {
    "duration": 8,
    "start_time": "2024-08-25T19:31:18.585Z"
   },
   {
    "duration": 6,
    "start_time": "2024-08-25T19:31:18.604Z"
   },
   {
    "duration": 6,
    "start_time": "2024-08-25T19:31:18.617Z"
   },
   {
    "duration": 7,
    "start_time": "2024-08-25T19:31:18.626Z"
   },
   {
    "duration": 52,
    "start_time": "2024-08-25T19:31:18.635Z"
   },
   {
    "duration": 9,
    "start_time": "2024-08-25T19:31:18.695Z"
   },
   {
    "duration": 6,
    "start_time": "2024-08-25T19:31:18.707Z"
   },
   {
    "duration": 7,
    "start_time": "2024-08-25T19:31:18.717Z"
   },
   {
    "duration": 5,
    "start_time": "2024-08-25T19:31:18.726Z"
   },
   {
    "duration": 39,
    "start_time": "2024-08-25T19:31:18.735Z"
   },
   {
    "duration": 13,
    "start_time": "2024-08-25T19:31:18.776Z"
   },
   {
    "duration": 10,
    "start_time": "2024-08-25T19:31:18.792Z"
   },
   {
    "duration": 10,
    "start_time": "2024-08-25T19:31:18.804Z"
   },
   {
    "duration": 5,
    "start_time": "2024-08-25T19:31:18.818Z"
   },
   {
    "duration": 4,
    "start_time": "2024-08-25T19:35:02.980Z"
   },
   {
    "duration": 6,
    "start_time": "2024-08-25T19:36:47.035Z"
   },
   {
    "duration": 6,
    "start_time": "2024-08-25T19:40:26.923Z"
   },
   {
    "duration": 6,
    "start_time": "2024-08-25T19:41:39.721Z"
   },
   {
    "duration": 6,
    "start_time": "2024-08-25T19:44:55.835Z"
   },
   {
    "duration": 6,
    "start_time": "2024-08-25T19:46:43.012Z"
   },
   {
    "duration": 5,
    "start_time": "2024-08-25T19:47:58.965Z"
   },
   {
    "duration": 7,
    "start_time": "2024-08-25T19:49:16.404Z"
   },
   {
    "duration": 7,
    "start_time": "2024-08-25T19:50:17.391Z"
   },
   {
    "duration": 8,
    "start_time": "2024-08-25T19:51:49.650Z"
   },
   {
    "duration": 6,
    "start_time": "2024-08-25T19:52:48.553Z"
   },
   {
    "duration": 7,
    "start_time": "2024-08-25T19:53:58.269Z"
   },
   {
    "duration": 9,
    "start_time": "2024-08-25T19:54:57.879Z"
   },
   {
    "duration": 14,
    "start_time": "2024-08-25T22:08:38.570Z"
   },
   {
    "duration": 1251,
    "start_time": "2024-08-25T22:09:24.161Z"
   },
   {
    "duration": 194,
    "start_time": "2024-08-25T22:09:25.415Z"
   },
   {
    "duration": 25,
    "start_time": "2024-08-25T22:09:25.612Z"
   },
   {
    "duration": 91,
    "start_time": "2024-08-25T22:09:25.641Z"
   },
   {
    "duration": 100,
    "start_time": "2024-08-25T22:09:25.737Z"
   },
   {
    "duration": 136,
    "start_time": "2024-08-25T22:09:25.842Z"
   },
   {
    "duration": 12,
    "start_time": "2024-08-25T22:09:25.982Z"
   },
   {
    "duration": 38794,
    "start_time": "2024-08-25T22:09:25.998Z"
   },
   {
    "duration": 245,
    "start_time": "2024-08-25T22:10:04.795Z"
   },
   {
    "duration": 74,
    "start_time": "2024-08-25T22:10:05.043Z"
   },
   {
    "duration": 68,
    "start_time": "2024-08-25T22:10:05.119Z"
   },
   {
    "duration": 109,
    "start_time": "2024-08-25T22:10:05.191Z"
   },
   {
    "duration": 5,
    "start_time": "2024-08-25T22:10:05.303Z"
   },
   {
    "duration": 56,
    "start_time": "2024-08-25T22:10:05.315Z"
   },
   {
    "duration": 368,
    "start_time": "2024-08-25T22:10:05.374Z"
   },
   {
    "duration": 125,
    "start_time": "2024-08-25T22:10:05.746Z"
   },
   {
    "duration": 107,
    "start_time": "2024-08-25T22:10:05.874Z"
   },
   {
    "duration": 25,
    "start_time": "2024-08-25T22:10:05.984Z"
   },
   {
    "duration": 101,
    "start_time": "2024-08-25T22:10:06.014Z"
   },
   {
    "duration": 52,
    "start_time": "2024-08-25T22:10:06.118Z"
   },
   {
    "duration": 100,
    "start_time": "2024-08-25T22:10:06.173Z"
   },
   {
    "duration": 111,
    "start_time": "2024-08-25T22:10:06.276Z"
   },
   {
    "duration": 217,
    "start_time": "2024-08-25T22:10:06.390Z"
   },
   {
    "duration": 159,
    "start_time": "2024-08-25T22:10:06.611Z"
   },
   {
    "duration": 5,
    "start_time": "2024-08-25T22:10:06.773Z"
   },
   {
    "duration": 101,
    "start_time": "2024-08-25T22:10:06.782Z"
   },
   {
    "duration": 61,
    "start_time": "2024-08-25T22:10:06.886Z"
   },
   {
    "duration": 24,
    "start_time": "2024-08-25T22:10:06.967Z"
   },
   {
    "duration": 12,
    "start_time": "2024-08-25T22:10:06.995Z"
   },
   {
    "duration": 6,
    "start_time": "2024-08-25T22:10:07.010Z"
   },
   {
    "duration": 6,
    "start_time": "2024-08-25T22:10:07.019Z"
   },
   {
    "duration": 3,
    "start_time": "2024-08-25T22:10:07.069Z"
   },
   {
    "duration": 8,
    "start_time": "2024-08-25T22:10:07.075Z"
   },
   {
    "duration": 4,
    "start_time": "2024-08-25T22:10:07.086Z"
   },
   {
    "duration": 6,
    "start_time": "2024-08-25T22:10:07.093Z"
   },
   {
    "duration": 8,
    "start_time": "2024-08-25T22:10:07.103Z"
   },
   {
    "duration": 49,
    "start_time": "2024-08-25T22:10:07.167Z"
   },
   {
    "duration": 24,
    "start_time": "2024-08-25T22:10:07.218Z"
   },
   {
    "duration": 13,
    "start_time": "2024-08-25T22:10:07.268Z"
   },
   {
    "duration": 5,
    "start_time": "2024-08-25T22:10:07.285Z"
   },
   {
    "duration": 4,
    "start_time": "2024-08-25T22:10:07.302Z"
   },
   {
    "duration": 6,
    "start_time": "2024-08-25T22:10:07.309Z"
   },
   {
    "duration": 51,
    "start_time": "2024-08-25T22:10:07.318Z"
   },
   {
    "duration": 4,
    "start_time": "2024-08-25T22:10:07.373Z"
   },
   {
    "duration": 9,
    "start_time": "2024-08-25T22:10:07.380Z"
   },
   {
    "duration": 91,
    "start_time": "2024-08-25T22:10:07.392Z"
   },
   {
    "duration": 24,
    "start_time": "2024-08-25T22:10:07.486Z"
   },
   {
    "duration": 12,
    "start_time": "2024-08-25T22:10:07.513Z"
   },
   {
    "duration": 4,
    "start_time": "2024-08-25T22:10:07.527Z"
   },
   {
    "duration": 8,
    "start_time": "2024-08-25T22:10:07.568Z"
   },
   {
    "duration": 7,
    "start_time": "2024-08-25T22:10:07.579Z"
   },
   {
    "duration": 40,
    "start_time": "2024-08-25T22:10:07.590Z"
   },
   {
    "duration": 51,
    "start_time": "2024-08-25T22:10:07.633Z"
   },
   {
    "duration": 14,
    "start_time": "2024-08-25T22:10:07.687Z"
   },
   {
    "duration": 5,
    "start_time": "2024-08-25T22:10:07.705Z"
   },
   {
    "duration": 8,
    "start_time": "2024-08-25T22:10:07.714Z"
   },
   {
    "duration": 11,
    "start_time": "2024-08-25T22:10:07.769Z"
   },
   {
    "duration": 5,
    "start_time": "2024-08-25T22:10:07.783Z"
   },
   {
    "duration": 6,
    "start_time": "2024-08-25T22:10:07.792Z"
   },
   {
    "duration": 7,
    "start_time": "2024-08-25T22:10:07.802Z"
   },
   {
    "duration": 66,
    "start_time": "2024-08-25T22:10:07.813Z"
   },
   {
    "duration": 7,
    "start_time": "2024-08-25T22:10:07.883Z"
   },
   {
    "duration": 10,
    "start_time": "2024-08-25T22:10:07.893Z"
   },
   {
    "duration": 7,
    "start_time": "2024-08-25T22:10:07.907Z"
   },
   {
    "duration": 61,
    "start_time": "2024-08-25T22:10:07.917Z"
   },
   {
    "duration": 7,
    "start_time": "2024-08-25T22:10:07.981Z"
   },
   {
    "duration": 6,
    "start_time": "2024-08-25T22:10:07.991Z"
   },
   {
    "duration": 7,
    "start_time": "2024-08-25T22:10:08.001Z"
   },
   {
    "duration": 6,
    "start_time": "2024-08-25T22:10:08.011Z"
   },
   {
    "duration": 52,
    "start_time": "2024-08-25T22:10:08.019Z"
   },
   {
    "duration": 7,
    "start_time": "2024-08-25T22:10:08.076Z"
   },
   {
    "duration": 8,
    "start_time": "2024-08-25T22:10:08.086Z"
   },
   {
    "duration": 6,
    "start_time": "2024-08-25T22:10:08.096Z"
   },
   {
    "duration": 6,
    "start_time": "2024-08-25T22:10:08.105Z"
   },
   {
    "duration": 63,
    "start_time": "2024-08-25T22:10:08.114Z"
   },
   {
    "duration": 6,
    "start_time": "2024-08-25T22:10:08.180Z"
   },
   {
    "duration": 6,
    "start_time": "2024-08-25T22:10:08.190Z"
   },
   {
    "duration": 8,
    "start_time": "2024-08-25T22:10:08.199Z"
   },
   {
    "duration": 6,
    "start_time": "2024-08-25T22:10:08.211Z"
   },
   {
    "duration": 52,
    "start_time": "2024-08-25T22:10:08.219Z"
   },
   {
    "duration": 6,
    "start_time": "2024-08-25T22:10:08.276Z"
   },
   {
    "duration": 7,
    "start_time": "2024-08-25T22:10:08.286Z"
   },
   {
    "duration": 6,
    "start_time": "2024-08-25T22:10:08.296Z"
   },
   {
    "duration": 7,
    "start_time": "2024-08-25T22:10:08.305Z"
   },
   {
    "duration": 7,
    "start_time": "2024-08-25T22:10:08.369Z"
   },
   {
    "duration": 7,
    "start_time": "2024-08-25T22:10:08.379Z"
   },
   {
    "duration": 6,
    "start_time": "2024-08-25T22:10:08.388Z"
   },
   {
    "duration": 6,
    "start_time": "2024-08-25T22:10:08.397Z"
   },
   {
    "duration": 6,
    "start_time": "2024-08-25T22:10:08.406Z"
   },
   {
    "duration": 57,
    "start_time": "2024-08-25T22:10:08.415Z"
   },
   {
    "duration": 9,
    "start_time": "2024-08-25T22:10:08.477Z"
   },
   {
    "duration": 6,
    "start_time": "2024-08-25T22:10:08.490Z"
   },
   {
    "duration": 8,
    "start_time": "2024-08-25T22:10:08.499Z"
   },
   {
    "duration": 59,
    "start_time": "2024-08-25T22:10:08.509Z"
   },
   {
    "duration": 4,
    "start_time": "2024-08-25T22:14:50.700Z"
   },
   {
    "duration": 201,
    "start_time": "2024-08-25T22:14:50.709Z"
   },
   {
    "duration": 55,
    "start_time": "2024-08-25T22:14:50.913Z"
   },
   {
    "duration": 61,
    "start_time": "2024-08-25T22:14:50.971Z"
   },
   {
    "duration": 97,
    "start_time": "2024-08-25T22:14:51.036Z"
   },
   {
    "duration": 116,
    "start_time": "2024-08-25T22:14:51.136Z"
   },
   {
    "duration": 19,
    "start_time": "2024-08-25T22:14:51.255Z"
   },
   {
    "duration": 2454,
    "start_time": "2024-08-29T00:47:23.640Z"
   },
   {
    "duration": 152,
    "start_time": "2024-08-29T00:47:26.096Z"
   },
   {
    "duration": 15,
    "start_time": "2024-08-29T00:47:26.250Z"
   },
   {
    "duration": 48,
    "start_time": "2024-08-29T00:47:26.267Z"
   },
   {
    "duration": 42,
    "start_time": "2024-08-29T00:47:26.317Z"
   },
   {
    "duration": 80,
    "start_time": "2024-08-29T00:47:26.361Z"
   },
   {
    "duration": 6,
    "start_time": "2024-08-29T00:47:26.443Z"
   },
   {
    "duration": 19134,
    "start_time": "2024-08-29T00:47:26.451Z"
   },
   {
    "duration": 119,
    "start_time": "2024-08-29T00:47:45.587Z"
   },
   {
    "duration": 45,
    "start_time": "2024-08-29T00:47:45.711Z"
   },
   {
    "duration": 26,
    "start_time": "2024-08-29T00:47:45.758Z"
   },
   {
    "duration": 68,
    "start_time": "2024-08-29T00:47:45.787Z"
   },
   {
    "duration": 3,
    "start_time": "2024-08-29T00:47:45.856Z"
   },
   {
    "duration": 21,
    "start_time": "2024-08-29T00:47:45.862Z"
   },
   {
    "duration": 226,
    "start_time": "2024-08-29T00:47:45.905Z"
   },
   {
    "duration": 75,
    "start_time": "2024-08-29T00:47:46.132Z"
   },
   {
    "duration": 50,
    "start_time": "2024-08-29T00:47:46.210Z"
   },
   {
    "duration": 17,
    "start_time": "2024-08-29T00:47:46.261Z"
   },
   {
    "duration": 58,
    "start_time": "2024-08-29T00:47:46.280Z"
   },
   {
    "duration": 23,
    "start_time": "2024-08-29T00:47:46.340Z"
   },
   {
    "duration": 66,
    "start_time": "2024-08-29T00:47:46.364Z"
   },
   {
    "duration": 55,
    "start_time": "2024-08-29T00:47:46.432Z"
   },
   {
    "duration": 147,
    "start_time": "2024-08-29T00:47:46.488Z"
   },
   {
    "duration": 72,
    "start_time": "2024-08-29T00:47:46.637Z"
   },
   {
    "duration": 3,
    "start_time": "2024-08-29T00:47:46.710Z"
   },
   {
    "duration": 42,
    "start_time": "2024-08-29T00:47:46.715Z"
   },
   {
    "duration": 55,
    "start_time": "2024-08-29T00:47:46.759Z"
   },
   {
    "duration": 14,
    "start_time": "2024-08-29T00:47:46.821Z"
   },
   {
    "duration": 6,
    "start_time": "2024-08-29T00:47:46.836Z"
   },
   {
    "duration": 3,
    "start_time": "2024-08-29T00:47:46.844Z"
   },
   {
    "duration": 3,
    "start_time": "2024-08-29T00:47:46.849Z"
   },
   {
    "duration": 1,
    "start_time": "2024-08-29T00:47:46.855Z"
   },
   {
    "duration": 5,
    "start_time": "2024-08-29T00:47:46.858Z"
   },
   {
    "duration": 2,
    "start_time": "2024-08-29T00:47:46.866Z"
   },
   {
    "duration": 4,
    "start_time": "2024-08-29T00:47:46.905Z"
   },
   {
    "duration": 5,
    "start_time": "2024-08-29T00:47:46.911Z"
   },
   {
    "duration": 29,
    "start_time": "2024-08-29T00:47:46.918Z"
   },
   {
    "duration": 14,
    "start_time": "2024-08-29T00:47:46.948Z"
   },
   {
    "duration": 5,
    "start_time": "2024-08-29T00:47:46.963Z"
   },
   {
    "duration": 2,
    "start_time": "2024-08-29T00:47:46.970Z"
   },
   {
    "duration": 2,
    "start_time": "2024-08-29T00:47:47.005Z"
   },
   {
    "duration": 3,
    "start_time": "2024-08-29T00:47:47.009Z"
   },
   {
    "duration": 3,
    "start_time": "2024-08-29T00:47:47.014Z"
   },
   {
    "duration": 3,
    "start_time": "2024-08-29T00:47:47.019Z"
   },
   {
    "duration": 6,
    "start_time": "2024-08-29T00:47:47.024Z"
   },
   {
    "duration": 28,
    "start_time": "2024-08-29T00:47:47.032Z"
   },
   {
    "duration": 50,
    "start_time": "2024-08-29T00:47:47.061Z"
   },
   {
    "duration": 6,
    "start_time": "2024-08-29T00:47:47.113Z"
   },
   {
    "duration": 2,
    "start_time": "2024-08-29T00:47:47.121Z"
   },
   {
    "duration": 3,
    "start_time": "2024-08-29T00:47:47.124Z"
   },
   {
    "duration": 5,
    "start_time": "2024-08-29T00:47:47.128Z"
   },
   {
    "duration": 25,
    "start_time": "2024-08-29T00:47:47.134Z"
   },
   {
    "duration": 12,
    "start_time": "2024-08-29T00:47:47.160Z"
   },
   {
    "duration": 37,
    "start_time": "2024-08-29T00:47:47.173Z"
   },
   {
    "duration": 2,
    "start_time": "2024-08-29T00:47:47.211Z"
   },
   {
    "duration": 4,
    "start_time": "2024-08-29T00:47:47.215Z"
   },
   {
    "duration": 5,
    "start_time": "2024-08-29T00:47:47.221Z"
   },
   {
    "duration": 3,
    "start_time": "2024-08-29T00:47:47.228Z"
   },
   {
    "duration": 4,
    "start_time": "2024-08-29T00:47:47.232Z"
   },
   {
    "duration": 4,
    "start_time": "2024-08-29T00:47:47.237Z"
   },
   {
    "duration": 5,
    "start_time": "2024-08-29T00:47:47.242Z"
   },
   {
    "duration": 4,
    "start_time": "2024-08-29T00:47:47.248Z"
   },
   {
    "duration": 6,
    "start_time": "2024-08-29T00:47:47.305Z"
   },
   {
    "duration": 3,
    "start_time": "2024-08-29T00:47:47.313Z"
   },
   {
    "duration": 4,
    "start_time": "2024-08-29T00:47:47.318Z"
   },
   {
    "duration": 3,
    "start_time": "2024-08-29T00:47:47.324Z"
   },
   {
    "duration": 4,
    "start_time": "2024-08-29T00:47:47.328Z"
   },
   {
    "duration": 4,
    "start_time": "2024-08-29T00:47:47.334Z"
   },
   {
    "duration": 4,
    "start_time": "2024-08-29T00:47:47.339Z"
   },
   {
    "duration": 4,
    "start_time": "2024-08-29T00:47:47.344Z"
   },
   {
    "duration": 4,
    "start_time": "2024-08-29T00:47:47.351Z"
   },
   {
    "duration": 50,
    "start_time": "2024-08-29T00:47:47.356Z"
   },
   {
    "duration": 4,
    "start_time": "2024-08-29T00:47:47.408Z"
   },
   {
    "duration": 3,
    "start_time": "2024-08-29T00:47:47.414Z"
   },
   {
    "duration": 4,
    "start_time": "2024-08-29T00:47:47.419Z"
   },
   {
    "duration": 4,
    "start_time": "2024-08-29T00:47:47.424Z"
   },
   {
    "duration": 3,
    "start_time": "2024-08-29T00:47:47.430Z"
   },
   {
    "duration": 3,
    "start_time": "2024-08-29T00:47:47.435Z"
   },
   {
    "duration": 4,
    "start_time": "2024-08-29T00:47:47.440Z"
   },
   {
    "duration": 4,
    "start_time": "2024-08-29T00:47:47.446Z"
   },
   {
    "duration": 54,
    "start_time": "2024-08-29T00:47:47.452Z"
   },
   {
    "duration": 3,
    "start_time": "2024-08-29T00:47:47.512Z"
   },
   {
    "duration": 4,
    "start_time": "2024-08-29T00:47:47.517Z"
   },
   {
    "duration": 4,
    "start_time": "2024-08-29T00:47:47.522Z"
   },
   {
    "duration": 4,
    "start_time": "2024-08-29T00:47:47.527Z"
   },
   {
    "duration": 4,
    "start_time": "2024-08-29T00:47:47.533Z"
   },
   {
    "duration": 4,
    "start_time": "2024-08-29T00:47:47.538Z"
   },
   {
    "duration": 4,
    "start_time": "2024-08-29T00:47:47.543Z"
   },
   {
    "duration": 4,
    "start_time": "2024-08-29T00:47:47.549Z"
   },
   {
    "duration": 4,
    "start_time": "2024-08-29T00:47:47.554Z"
   },
   {
    "duration": 4,
    "start_time": "2024-08-29T00:47:47.606Z"
   },
   {
    "duration": 4,
    "start_time": "2024-08-29T00:47:47.616Z"
   },
   {
    "duration": 3,
    "start_time": "2024-08-29T00:47:47.622Z"
   },
   {
    "duration": 3,
    "start_time": "2024-08-29T00:47:47.627Z"
   },
   {
    "duration": 3435,
    "start_time": "2024-10-08T01:58:26.911Z"
   },
   {
    "duration": 187,
    "start_time": "2024-10-08T01:58:30.348Z"
   },
   {
    "duration": 24,
    "start_time": "2024-10-08T01:58:30.542Z"
   },
   {
    "duration": 56,
    "start_time": "2024-10-08T01:58:30.571Z"
   },
   {
    "duration": 64,
    "start_time": "2024-10-08T01:58:30.631Z"
   },
   {
    "duration": 95,
    "start_time": "2024-10-08T01:58:30.697Z"
   },
   {
    "duration": 13,
    "start_time": "2024-10-08T01:58:30.795Z"
   },
   {
    "duration": 20829,
    "start_time": "2024-10-08T01:58:30.810Z"
   },
   {
    "duration": 141,
    "start_time": "2024-10-08T01:58:51.643Z"
   },
   {
    "duration": 62,
    "start_time": "2024-10-08T01:58:51.789Z"
   },
   {
    "duration": 38,
    "start_time": "2024-10-08T01:58:51.852Z"
   },
   {
    "duration": 75,
    "start_time": "2024-10-08T01:58:51.891Z"
   },
   {
    "duration": 6,
    "start_time": "2024-10-08T01:58:51.969Z"
   },
   {
    "duration": 29,
    "start_time": "2024-10-08T01:58:51.976Z"
   },
   {
    "duration": 237,
    "start_time": "2024-10-08T01:58:52.007Z"
   },
   {
    "duration": 72,
    "start_time": "2024-10-08T01:58:52.246Z"
   },
   {
    "duration": 66,
    "start_time": "2024-10-08T01:58:52.320Z"
   },
   {
    "duration": 18,
    "start_time": "2024-10-08T01:58:52.388Z"
   },
   {
    "duration": 58,
    "start_time": "2024-10-08T01:58:52.408Z"
   },
   {
    "duration": 23,
    "start_time": "2024-10-08T01:58:52.468Z"
   },
   {
    "duration": 67,
    "start_time": "2024-10-08T01:58:52.493Z"
   },
   {
    "duration": 118,
    "start_time": "2024-10-08T01:58:52.562Z"
   },
   {
    "duration": 152,
    "start_time": "2024-10-08T01:58:52.681Z"
   },
   {
    "duration": 110,
    "start_time": "2024-10-08T01:58:52.835Z"
   },
   {
    "duration": 3,
    "start_time": "2024-10-08T01:58:52.948Z"
   },
   {
    "duration": 52,
    "start_time": "2024-10-08T01:58:52.953Z"
   },
   {
    "duration": 54,
    "start_time": "2024-10-08T01:58:53.007Z"
   },
   {
    "duration": 16,
    "start_time": "2024-10-08T01:58:53.068Z"
   },
   {
    "duration": 8,
    "start_time": "2024-10-08T01:58:53.088Z"
   },
   {
    "duration": 4,
    "start_time": "2024-10-08T01:58:53.097Z"
   },
   {
    "duration": 4,
    "start_time": "2024-10-08T01:58:53.103Z"
   },
   {
    "duration": 3,
    "start_time": "2024-10-08T01:58:53.108Z"
   },
   {
    "duration": 4,
    "start_time": "2024-10-08T01:58:53.113Z"
   },
   {
    "duration": 25,
    "start_time": "2024-10-08T01:58:53.119Z"
   },
   {
    "duration": 4,
    "start_time": "2024-10-08T01:58:53.146Z"
   },
   {
    "duration": 5,
    "start_time": "2024-10-08T01:58:53.152Z"
   },
   {
    "duration": 32,
    "start_time": "2024-10-08T01:58:53.159Z"
   },
   {
    "duration": 17,
    "start_time": "2024-10-08T01:58:53.193Z"
   },
   {
    "duration": 36,
    "start_time": "2024-10-08T01:58:53.211Z"
   },
   {
    "duration": 3,
    "start_time": "2024-10-08T01:58:53.249Z"
   },
   {
    "duration": 3,
    "start_time": "2024-10-08T01:58:53.254Z"
   },
   {
    "duration": 6,
    "start_time": "2024-10-08T01:58:53.261Z"
   },
   {
    "duration": 4,
    "start_time": "2024-10-08T01:58:53.269Z"
   },
   {
    "duration": 2,
    "start_time": "2024-10-08T01:58:53.275Z"
   },
   {
    "duration": 4,
    "start_time": "2024-10-08T01:58:53.280Z"
   },
   {
    "duration": 64,
    "start_time": "2024-10-08T01:58:53.287Z"
   },
   {
    "duration": 19,
    "start_time": "2024-10-08T01:58:53.353Z"
   },
   {
    "duration": 7,
    "start_time": "2024-10-08T01:58:53.374Z"
   },
   {
    "duration": 4,
    "start_time": "2024-10-08T01:58:53.384Z"
   },
   {
    "duration": 4,
    "start_time": "2024-10-08T01:58:53.389Z"
   },
   {
    "duration": 5,
    "start_time": "2024-10-08T01:58:53.395Z"
   },
   {
    "duration": 65,
    "start_time": "2024-10-08T01:58:53.401Z"
   },
   {
    "duration": 14,
    "start_time": "2024-10-08T01:58:53.468Z"
   },
   {
    "duration": 7,
    "start_time": "2024-10-08T01:58:53.484Z"
   },
   {
    "duration": 5,
    "start_time": "2024-10-08T01:58:53.492Z"
   },
   {
    "duration": 5,
    "start_time": "2024-10-08T01:58:53.498Z"
   },
   {
    "duration": 6,
    "start_time": "2024-10-08T01:58:53.505Z"
   },
   {
    "duration": 4,
    "start_time": "2024-10-08T01:58:53.542Z"
   },
   {
    "duration": 3,
    "start_time": "2024-10-08T01:58:53.548Z"
   },
   {
    "duration": 3,
    "start_time": "2024-10-08T01:58:53.554Z"
   },
   {
    "duration": 8,
    "start_time": "2024-10-08T01:58:53.559Z"
   },
   {
    "duration": 3,
    "start_time": "2024-10-08T01:58:53.569Z"
   },
   {
    "duration": 7,
    "start_time": "2024-10-08T01:58:53.574Z"
   },
   {
    "duration": 4,
    "start_time": "2024-10-08T01:58:53.583Z"
   },
   {
    "duration": 7,
    "start_time": "2024-10-08T01:58:53.588Z"
   },
   {
    "duration": 3,
    "start_time": "2024-10-08T01:58:53.597Z"
   },
   {
    "duration": 43,
    "start_time": "2024-10-08T01:58:53.602Z"
   },
   {
    "duration": 4,
    "start_time": "2024-10-08T01:58:53.646Z"
   },
   {
    "duration": 4,
    "start_time": "2024-10-08T01:58:53.651Z"
   },
   {
    "duration": 9,
    "start_time": "2024-10-08T01:58:53.656Z"
   },
   {
    "duration": 4,
    "start_time": "2024-10-08T01:58:53.666Z"
   },
   {
    "duration": 4,
    "start_time": "2024-10-08T01:58:53.672Z"
   },
   {
    "duration": 4,
    "start_time": "2024-10-08T01:58:53.678Z"
   },
   {
    "duration": 4,
    "start_time": "2024-10-08T01:58:53.684Z"
   },
   {
    "duration": 4,
    "start_time": "2024-10-08T01:58:53.689Z"
   },
   {
    "duration": 50,
    "start_time": "2024-10-08T01:58:53.694Z"
   },
   {
    "duration": 4,
    "start_time": "2024-10-08T01:58:53.745Z"
   },
   {
    "duration": 3,
    "start_time": "2024-10-08T01:58:53.752Z"
   },
   {
    "duration": 4,
    "start_time": "2024-10-08T01:58:53.757Z"
   },
   {
    "duration": 4,
    "start_time": "2024-10-08T01:58:53.763Z"
   },
   {
    "duration": 4,
    "start_time": "2024-10-08T01:58:53.769Z"
   },
   {
    "duration": 3,
    "start_time": "2024-10-08T01:58:53.779Z"
   },
   {
    "duration": 4,
    "start_time": "2024-10-08T01:58:53.784Z"
   },
   {
    "duration": 4,
    "start_time": "2024-10-08T01:58:53.789Z"
   },
   {
    "duration": 51,
    "start_time": "2024-10-08T01:58:53.794Z"
   },
   {
    "duration": 6,
    "start_time": "2024-10-08T01:58:53.847Z"
   },
   {
    "duration": 6,
    "start_time": "2024-10-08T01:58:53.855Z"
   },
   {
    "duration": 5,
    "start_time": "2024-10-08T01:58:53.863Z"
   },
   {
    "duration": 3,
    "start_time": "2024-10-08T01:58:53.870Z"
   },
   {
    "duration": 4,
    "start_time": "2024-10-08T01:58:53.876Z"
   },
   {
    "duration": 4,
    "start_time": "2024-10-08T01:58:53.882Z"
   },
   {
    "duration": 4,
    "start_time": "2024-10-08T01:58:53.888Z"
   },
   {
    "duration": 57,
    "start_time": "2024-10-08T01:58:53.894Z"
   },
   {
    "duration": 4,
    "start_time": "2024-10-08T01:58:53.952Z"
   },
   {
    "duration": 2469,
    "start_time": "2024-10-09T08:01:49.328Z"
   },
   {
    "duration": 173,
    "start_time": "2024-10-09T08:01:51.799Z"
   },
   {
    "duration": 15,
    "start_time": "2024-10-09T08:01:51.974Z"
   },
   {
    "duration": 54,
    "start_time": "2024-10-09T08:01:51.991Z"
   },
   {
    "duration": 44,
    "start_time": "2024-10-09T08:01:52.046Z"
   },
   {
    "duration": 76,
    "start_time": "2024-10-09T08:01:52.092Z"
   },
   {
    "duration": 6,
    "start_time": "2024-10-09T08:01:52.170Z"
   },
   {
    "duration": 18029,
    "start_time": "2024-10-09T08:01:52.177Z"
   },
   {
    "duration": 118,
    "start_time": "2024-10-09T08:02:10.207Z"
   },
   {
    "duration": 36,
    "start_time": "2024-10-09T08:02:10.328Z"
   },
   {
    "duration": 27,
    "start_time": "2024-10-09T08:02:10.365Z"
   },
   {
    "duration": 71,
    "start_time": "2024-10-09T08:02:10.394Z"
   },
   {
    "duration": 4,
    "start_time": "2024-10-09T08:02:10.466Z"
   },
   {
    "duration": 22,
    "start_time": "2024-10-09T08:02:10.471Z"
   },
   {
    "duration": 204,
    "start_time": "2024-10-09T08:02:10.495Z"
   },
   {
    "duration": 78,
    "start_time": "2024-10-09T08:02:10.700Z"
   },
   {
    "duration": 53,
    "start_time": "2024-10-09T08:02:10.779Z"
   },
   {
    "duration": 20,
    "start_time": "2024-10-09T08:02:10.834Z"
   },
   {
    "duration": 42,
    "start_time": "2024-10-09T08:02:10.856Z"
   },
   {
    "duration": 40,
    "start_time": "2024-10-09T08:02:10.900Z"
   },
   {
    "duration": 48,
    "start_time": "2024-10-09T08:02:10.942Z"
   },
   {
    "duration": 71,
    "start_time": "2024-10-09T08:02:10.992Z"
   },
   {
    "duration": 182,
    "start_time": "2024-10-09T08:02:11.064Z"
   },
   {
    "duration": 76,
    "start_time": "2024-10-09T08:02:11.248Z"
   },
   {
    "duration": 3,
    "start_time": "2024-10-09T08:02:11.326Z"
   },
   {
    "duration": 39,
    "start_time": "2024-10-09T08:02:11.330Z"
   },
   {
    "duration": 35,
    "start_time": "2024-10-09T08:02:11.371Z"
   },
   {
    "duration": 14,
    "start_time": "2024-10-09T08:02:11.428Z"
   },
   {
    "duration": 6,
    "start_time": "2024-10-09T08:02:11.443Z"
   },
   {
    "duration": 3,
    "start_time": "2024-10-09T08:02:11.451Z"
   },
   {
    "duration": 4,
    "start_time": "2024-10-09T08:02:11.456Z"
   },
   {
    "duration": 3,
    "start_time": "2024-10-09T08:02:11.461Z"
   },
   {
    "duration": 4,
    "start_time": "2024-10-09T08:02:11.465Z"
   },
   {
    "duration": 3,
    "start_time": "2024-10-09T08:02:11.470Z"
   },
   {
    "duration": 3,
    "start_time": "2024-10-09T08:02:11.476Z"
   },
   {
    "duration": 4,
    "start_time": "2024-10-09T08:02:11.525Z"
   },
   {
    "duration": 27,
    "start_time": "2024-10-09T08:02:11.531Z"
   },
   {
    "duration": 14,
    "start_time": "2024-10-09T08:02:11.560Z"
   },
   {
    "duration": 6,
    "start_time": "2024-10-09T08:02:11.575Z"
   },
   {
    "duration": 3,
    "start_time": "2024-10-09T08:02:11.583Z"
   },
   {
    "duration": 36,
    "start_time": "2024-10-09T08:02:11.588Z"
   },
   {
    "duration": 4,
    "start_time": "2024-10-09T08:02:11.626Z"
   },
   {
    "duration": 5,
    "start_time": "2024-10-09T08:02:11.632Z"
   },
   {
    "duration": 3,
    "start_time": "2024-10-09T08:02:11.638Z"
   },
   {
    "duration": 6,
    "start_time": "2024-10-09T08:02:11.642Z"
   },
   {
    "duration": 26,
    "start_time": "2024-10-09T08:02:11.649Z"
   },
   {
    "duration": 13,
    "start_time": "2024-10-09T08:02:11.677Z"
   },
   {
    "duration": 6,
    "start_time": "2024-10-09T08:02:11.724Z"
   },
   {
    "duration": 2,
    "start_time": "2024-10-09T08:02:11.731Z"
   },
   {
    "duration": 3,
    "start_time": "2024-10-09T08:02:11.735Z"
   },
   {
    "duration": 4,
    "start_time": "2024-10-09T08:02:11.740Z"
   },
   {
    "duration": 24,
    "start_time": "2024-10-09T08:02:11.746Z"
   },
   {
    "duration": 11,
    "start_time": "2024-10-09T08:02:11.772Z"
   },
   {
    "duration": 40,
    "start_time": "2024-10-09T08:02:11.785Z"
   },
   {
    "duration": 3,
    "start_time": "2024-10-09T08:02:11.826Z"
   },
   {
    "duration": 5,
    "start_time": "2024-10-09T08:02:11.831Z"
   },
   {
    "duration": 5,
    "start_time": "2024-10-09T08:02:11.837Z"
   },
   {
    "duration": 3,
    "start_time": "2024-10-09T08:02:11.843Z"
   },
   {
    "duration": 3,
    "start_time": "2024-10-09T08:02:11.848Z"
   },
   {
    "duration": 3,
    "start_time": "2024-10-09T08:02:11.853Z"
   },
   {
    "duration": 5,
    "start_time": "2024-10-09T08:02:11.858Z"
   },
   {
    "duration": 3,
    "start_time": "2024-10-09T08:02:11.865Z"
   },
   {
    "duration": 4,
    "start_time": "2024-10-09T08:02:11.871Z"
   },
   {
    "duration": 48,
    "start_time": "2024-10-09T08:02:11.876Z"
   },
   {
    "duration": 5,
    "start_time": "2024-10-09T08:02:11.926Z"
   },
   {
    "duration": 3,
    "start_time": "2024-10-09T08:02:11.933Z"
   },
   {
    "duration": 3,
    "start_time": "2024-10-09T08:02:11.938Z"
   },
   {
    "duration": 3,
    "start_time": "2024-10-09T08:02:11.943Z"
   },
   {
    "duration": 4,
    "start_time": "2024-10-09T08:02:11.948Z"
   },
   {
    "duration": 3,
    "start_time": "2024-10-09T08:02:11.954Z"
   },
   {
    "duration": 4,
    "start_time": "2024-10-09T08:02:11.958Z"
   },
   {
    "duration": 4,
    "start_time": "2024-10-09T08:02:11.963Z"
   },
   {
    "duration": 3,
    "start_time": "2024-10-09T08:02:12.027Z"
   },
   {
    "duration": 5,
    "start_time": "2024-10-09T08:02:12.034Z"
   },
   {
    "duration": 3,
    "start_time": "2024-10-09T08:02:12.040Z"
   },
   {
    "duration": 3,
    "start_time": "2024-10-09T08:02:12.046Z"
   },
   {
    "duration": 3,
    "start_time": "2024-10-09T08:02:12.050Z"
   },
   {
    "duration": 3,
    "start_time": "2024-10-09T08:02:12.055Z"
   },
   {
    "duration": 3,
    "start_time": "2024-10-09T08:02:12.060Z"
   },
   {
    "duration": 3,
    "start_time": "2024-10-09T08:02:12.065Z"
   },
   {
    "duration": 3,
    "start_time": "2024-10-09T08:02:12.069Z"
   },
   {
    "duration": 48,
    "start_time": "2024-10-09T08:02:12.078Z"
   },
   {
    "duration": 4,
    "start_time": "2024-10-09T08:02:12.127Z"
   },
   {
    "duration": 4,
    "start_time": "2024-10-09T08:02:12.132Z"
   },
   {
    "duration": 3,
    "start_time": "2024-10-09T08:02:12.138Z"
   },
   {
    "duration": 4,
    "start_time": "2024-10-09T08:02:12.142Z"
   },
   {
    "duration": 4,
    "start_time": "2024-10-09T08:02:12.147Z"
   },
   {
    "duration": 4,
    "start_time": "2024-10-09T08:02:12.153Z"
   },
   {
    "duration": 3,
    "start_time": "2024-10-09T08:02:12.158Z"
   },
   {
    "duration": 3,
    "start_time": "2024-10-09T08:02:12.163Z"
   },
   {
    "duration": 3,
    "start_time": "2024-10-09T08:02:12.168Z"
   },
   {
    "duration": 53,
    "start_time": "2024-10-09T08:02:12.173Z"
   },
   {
    "duration": 4,
    "start_time": "2024-10-09T08:02:12.228Z"
   },
   {
    "duration": 4,
    "start_time": "2024-10-09T08:02:12.233Z"
   },
   {
    "duration": 2539,
    "start_time": "2024-11-18T03:47:33.371Z"
   },
   {
    "duration": 141,
    "start_time": "2024-11-18T03:47:35.913Z"
   },
   {
    "duration": 15,
    "start_time": "2024-11-18T03:47:36.056Z"
   },
   {
    "duration": 42,
    "start_time": "2024-11-18T03:47:36.073Z"
   },
   {
    "duration": 61,
    "start_time": "2024-11-18T03:47:36.119Z"
   },
   {
    "duration": 73,
    "start_time": "2024-11-18T03:47:36.182Z"
   },
   {
    "duration": 9,
    "start_time": "2024-11-18T03:47:36.257Z"
   },
   {
    "duration": 18503,
    "start_time": "2024-11-18T03:47:36.268Z"
   },
   {
    "duration": 127,
    "start_time": "2024-11-18T03:47:54.773Z"
   },
   {
    "duration": 43,
    "start_time": "2024-11-18T03:47:54.903Z"
   },
   {
    "duration": 26,
    "start_time": "2024-11-18T03:47:54.948Z"
   },
   {
    "duration": 71,
    "start_time": "2024-11-18T03:47:54.976Z"
   },
   {
    "duration": 2,
    "start_time": "2024-11-18T03:47:55.050Z"
   },
   {
    "duration": 23,
    "start_time": "2024-11-18T03:47:55.056Z"
   },
   {
    "duration": 209,
    "start_time": "2024-11-18T03:47:55.082Z"
   },
   {
    "duration": 79,
    "start_time": "2024-11-18T03:47:55.293Z"
   },
   {
    "duration": 49,
    "start_time": "2024-11-18T03:47:55.374Z"
   },
   {
    "duration": 28,
    "start_time": "2024-11-18T03:47:55.425Z"
   },
   {
    "duration": 48,
    "start_time": "2024-11-18T03:47:55.454Z"
   },
   {
    "duration": 41,
    "start_time": "2024-11-18T03:47:55.504Z"
   },
   {
    "duration": 49,
    "start_time": "2024-11-18T03:47:55.547Z"
   },
   {
    "duration": 109,
    "start_time": "2024-11-18T03:47:55.598Z"
   },
   {
    "duration": 140,
    "start_time": "2024-11-18T03:47:55.709Z"
   },
   {
    "duration": 99,
    "start_time": "2024-11-18T03:47:55.851Z"
   },
   {
    "duration": 2,
    "start_time": "2024-11-18T03:47:55.952Z"
   },
   {
    "duration": 41,
    "start_time": "2024-11-18T03:47:55.956Z"
   },
   {
    "duration": 52,
    "start_time": "2024-11-18T03:47:55.998Z"
   },
   {
    "duration": 15,
    "start_time": "2024-11-18T03:47:56.051Z"
   },
   {
    "duration": 6,
    "start_time": "2024-11-18T03:47:56.068Z"
   },
   {
    "duration": 3,
    "start_time": "2024-11-18T03:47:56.076Z"
   },
   {
    "duration": 3,
    "start_time": "2024-11-18T03:47:56.081Z"
   },
   {
    "duration": 2,
    "start_time": "2024-11-18T03:47:56.086Z"
   },
   {
    "duration": 4,
    "start_time": "2024-11-18T03:47:56.090Z"
   },
   {
    "duration": 2,
    "start_time": "2024-11-18T03:47:56.096Z"
   },
   {
    "duration": 44,
    "start_time": "2024-11-18T03:47:56.100Z"
   },
   {
    "duration": 5,
    "start_time": "2024-11-18T03:47:56.145Z"
   },
   {
    "duration": 30,
    "start_time": "2024-11-18T03:47:56.152Z"
   },
   {
    "duration": 14,
    "start_time": "2024-11-18T03:47:56.184Z"
   },
   {
    "duration": 6,
    "start_time": "2024-11-18T03:47:56.200Z"
   },
   {
    "duration": 3,
    "start_time": "2024-11-18T03:47:56.208Z"
   },
   {
    "duration": 3,
    "start_time": "2024-11-18T03:47:56.248Z"
   },
   {
    "duration": 3,
    "start_time": "2024-11-18T03:47:56.253Z"
   },
   {
    "duration": 4,
    "start_time": "2024-11-18T03:47:56.258Z"
   },
   {
    "duration": 3,
    "start_time": "2024-11-18T03:47:56.263Z"
   },
   {
    "duration": 5,
    "start_time": "2024-11-18T03:47:56.267Z"
   },
   {
    "duration": 30,
    "start_time": "2024-11-18T03:47:56.273Z"
   },
   {
    "duration": 51,
    "start_time": "2024-11-18T03:47:56.304Z"
   },
   {
    "duration": 7,
    "start_time": "2024-11-18T03:47:56.357Z"
   },
   {
    "duration": 3,
    "start_time": "2024-11-18T03:47:56.365Z"
   },
   {
    "duration": 2,
    "start_time": "2024-11-18T03:47:56.370Z"
   },
   {
    "duration": 5,
    "start_time": "2024-11-18T03:47:56.375Z"
   },
   {
    "duration": 26,
    "start_time": "2024-11-18T03:47:56.382Z"
   },
   {
    "duration": 13,
    "start_time": "2024-11-18T03:47:56.442Z"
   },
   {
    "duration": 7,
    "start_time": "2024-11-18T03:47:56.457Z"
   },
   {
    "duration": 3,
    "start_time": "2024-11-18T03:47:56.465Z"
   },
   {
    "duration": 5,
    "start_time": "2024-11-18T03:47:56.469Z"
   },
   {
    "duration": 5,
    "start_time": "2024-11-18T03:47:56.476Z"
   },
   {
    "duration": 4,
    "start_time": "2024-11-18T03:47:56.483Z"
   },
   {
    "duration": 4,
    "start_time": "2024-11-18T03:47:56.489Z"
   },
   {
    "duration": 4,
    "start_time": "2024-11-18T03:47:56.494Z"
   },
   {
    "duration": 6,
    "start_time": "2024-11-18T03:47:56.543Z"
   },
   {
    "duration": 4,
    "start_time": "2024-11-18T03:47:56.551Z"
   },
   {
    "duration": 6,
    "start_time": "2024-11-18T03:47:56.556Z"
   },
   {
    "duration": 4,
    "start_time": "2024-11-18T03:47:56.563Z"
   },
   {
    "duration": 7,
    "start_time": "2024-11-18T03:47:56.568Z"
   },
   {
    "duration": 3,
    "start_time": "2024-11-18T03:47:56.577Z"
   },
   {
    "duration": 4,
    "start_time": "2024-11-18T03:47:56.582Z"
   },
   {
    "duration": 4,
    "start_time": "2024-11-18T03:47:56.588Z"
   },
   {
    "duration": 51,
    "start_time": "2024-11-18T03:47:56.593Z"
   },
   {
    "duration": 3,
    "start_time": "2024-11-18T03:47:56.646Z"
   },
   {
    "duration": 4,
    "start_time": "2024-11-18T03:47:56.651Z"
   },
   {
    "duration": 3,
    "start_time": "2024-11-18T03:47:56.657Z"
   },
   {
    "duration": 3,
    "start_time": "2024-11-18T03:47:56.662Z"
   },
   {
    "duration": 4,
    "start_time": "2024-11-18T03:47:56.667Z"
   },
   {
    "duration": 4,
    "start_time": "2024-11-18T03:47:56.672Z"
   },
   {
    "duration": 5,
    "start_time": "2024-11-18T03:47:56.677Z"
   },
   {
    "duration": 4,
    "start_time": "2024-11-18T03:47:56.683Z"
   },
   {
    "duration": 55,
    "start_time": "2024-11-18T03:47:56.688Z"
   },
   {
    "duration": 3,
    "start_time": "2024-11-18T03:47:56.745Z"
   },
   {
    "duration": 3,
    "start_time": "2024-11-18T03:47:56.750Z"
   },
   {
    "duration": 3,
    "start_time": "2024-11-18T03:47:56.754Z"
   },
   {
    "duration": 4,
    "start_time": "2024-11-18T03:47:56.759Z"
   },
   {
    "duration": 4,
    "start_time": "2024-11-18T03:47:56.765Z"
   },
   {
    "duration": 4,
    "start_time": "2024-11-18T03:47:56.770Z"
   },
   {
    "duration": 4,
    "start_time": "2024-11-18T03:47:56.776Z"
   },
   {
    "duration": 4,
    "start_time": "2024-11-18T03:47:56.781Z"
   },
   {
    "duration": 5,
    "start_time": "2024-11-18T03:47:56.787Z"
   },
   {
    "duration": 4,
    "start_time": "2024-11-18T03:47:56.842Z"
   },
   {
    "duration": 5,
    "start_time": "2024-11-18T03:47:56.847Z"
   },
   {
    "duration": 3,
    "start_time": "2024-11-18T03:47:56.854Z"
   },
   {
    "duration": 4,
    "start_time": "2024-11-18T03:47:56.859Z"
   },
   {
    "duration": 5,
    "start_time": "2024-11-18T03:47:56.864Z"
   },
   {
    "duration": 4,
    "start_time": "2024-11-18T03:47:56.871Z"
   },
   {
    "duration": 4,
    "start_time": "2024-11-18T03:47:56.876Z"
   }
  ],
  "kernelspec": {
   "display_name": "Python 3",
   "language": "python",
   "name": "python3"
  },
  "language_info": {
   "codemirror_mode": {
    "name": "ipython",
    "version": 3
   },
   "file_extension": ".py",
   "mimetype": "text/x-python",
   "name": "python",
   "nbconvert_exporter": "python",
   "pygments_lexer": "ipython3",
   "version": "3.12.1"
  },
  "toc": {
   "base_numbering": 1,
   "nav_menu": {},
   "number_sections": true,
   "sideBar": true,
   "skip_h1_title": true,
   "title_cell": "Table of Contents",
   "title_sidebar": "Contents",
   "toc_cell": false,
   "toc_position": {},
   "toc_section_display": true,
   "toc_window_display": false
  }
 },
 "nbformat": 4,
 "nbformat_minor": 2
}
